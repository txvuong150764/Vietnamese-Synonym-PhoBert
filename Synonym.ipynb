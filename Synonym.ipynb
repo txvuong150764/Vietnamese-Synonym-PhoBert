{
  "cells": [
    {
      "cell_type": "markdown",
      "metadata": {
        "id": "view-in-github",
        "colab_type": "text"
      },
      "source": [
        "<a href=\"https://colab.research.google.com/github/txvuong150764/Vietnamese-Synonym-PhoBert/blob/master/Synonym.ipynb\" target=\"_parent\"><img src=\"https://colab.research.google.com/assets/colab-badge.svg\" alt=\"Open In Colab\"/></a>"
      ]
    },
    {
      "cell_type": "markdown",
      "metadata": {
        "id": "O3aGwR7iJcjh"
      },
      "source": [
        "# Mount Drive\n"
      ]
    },
    {
      "cell_type": "code",
      "execution_count": null,
      "metadata": {
        "colab": {
          "base_uri": "https://localhost:8080/"
        },
        "id": "yMVfhNLDGrE7",
        "outputId": "24717ba4-1fd6-405d-a84d-951640a17cbc"
      },
      "outputs": [
        {
          "output_type": "stream",
          "name": "stdout",
          "text": [
            "Mounted at /content/drive\n"
          ]
        }
      ],
      "source": [
        "from google.colab import drive\n",
        "drive.mount('/content/drive', force_remount=True)"
      ]
    },
    {
      "cell_type": "markdown",
      "metadata": {
        "id": "xDA_cM8QKY1A"
      },
      "source": [
        "# Import Library"
      ]
    },
    {
      "cell_type": "code",
      "execution_count": null,
      "metadata": {
        "colab": {
          "base_uri": "https://localhost:8080/"
        },
        "id": "IxidtgMaPlUQ",
        "outputId": "ad0051a0-aca9-4d8f-ca99-67d057eff809"
      },
      "outputs": [
        {
          "output_type": "stream",
          "name": "stdout",
          "text": [
            "Looking in indexes: https://pypi.org/simple, https://us-python.pkg.dev/colab-wheels/public/simple/\n",
            "Collecting transformers\n",
            "  Downloading transformers-4.25.1-py3-none-any.whl (5.8 MB)\n",
            "\u001b[K     |████████████████████████████████| 5.8 MB 36.4 MB/s \n",
            "\u001b[?25hRequirement already satisfied: packaging>=20.0 in /usr/local/lib/python3.8/dist-packages (from transformers) (21.3)\n",
            "Collecting huggingface-hub<1.0,>=0.10.0\n",
            "  Downloading huggingface_hub-0.11.1-py3-none-any.whl (182 kB)\n",
            "\u001b[K     |████████████████████████████████| 182 kB 100.0 MB/s \n",
            "\u001b[?25hRequirement already satisfied: numpy>=1.17 in /usr/local/lib/python3.8/dist-packages (from transformers) (1.21.6)\n",
            "Requirement already satisfied: regex!=2019.12.17 in /usr/local/lib/python3.8/dist-packages (from transformers) (2022.6.2)\n",
            "Requirement already satisfied: requests in /usr/local/lib/python3.8/dist-packages (from transformers) (2.23.0)\n",
            "Requirement already satisfied: pyyaml>=5.1 in /usr/local/lib/python3.8/dist-packages (from transformers) (6.0)\n",
            "Requirement already satisfied: filelock in /usr/local/lib/python3.8/dist-packages (from transformers) (3.8.0)\n",
            "Collecting tokenizers!=0.11.3,<0.14,>=0.11.1\n",
            "  Downloading tokenizers-0.13.2-cp38-cp38-manylinux_2_17_x86_64.manylinux2014_x86_64.whl (7.6 MB)\n",
            "\u001b[K     |████████████████████████████████| 7.6 MB 84.9 MB/s \n",
            "\u001b[?25hRequirement already satisfied: tqdm>=4.27 in /usr/local/lib/python3.8/dist-packages (from transformers) (4.64.1)\n",
            "Requirement already satisfied: typing-extensions>=3.7.4.3 in /usr/local/lib/python3.8/dist-packages (from huggingface-hub<1.0,>=0.10.0->transformers) (4.4.0)\n",
            "Requirement already satisfied: pyparsing!=3.0.5,>=2.0.2 in /usr/local/lib/python3.8/dist-packages (from packaging>=20.0->transformers) (3.0.9)\n",
            "Requirement already satisfied: certifi>=2017.4.17 in /usr/local/lib/python3.8/dist-packages (from requests->transformers) (2022.9.24)\n",
            "Requirement already satisfied: urllib3!=1.25.0,!=1.25.1,<1.26,>=1.21.1 in /usr/local/lib/python3.8/dist-packages (from requests->transformers) (1.24.3)\n",
            "Requirement already satisfied: idna<3,>=2.5 in /usr/local/lib/python3.8/dist-packages (from requests->transformers) (2.10)\n",
            "Requirement already satisfied: chardet<4,>=3.0.2 in /usr/local/lib/python3.8/dist-packages (from requests->transformers) (3.0.4)\n",
            "Installing collected packages: tokenizers, huggingface-hub, transformers\n",
            "Successfully installed huggingface-hub-0.11.1 tokenizers-0.13.2 transformers-4.25.1\n"
          ]
        }
      ],
      "source": [
        "pip install transformers"
      ]
    },
    {
      "cell_type": "code",
      "execution_count": null,
      "metadata": {
        "id": "XPTjndBLSZf4"
      },
      "outputs": [],
      "source": [
        "from tensorflow import keras\n",
        "from keras.layers import Dense\n",
        "import tensorflow as tf\n",
        "import torch.nn as nn\n",
        "import numpy as np\n",
        "from tqdm import tqdm\n",
        "from transformers import AutoModel, AutoTokenizer, RobertaForMaskedLM\n",
        "import pandas as pd\n",
        "import string\n",
        "import json\n",
        "import random"
      ]
    },
    {
      "cell_type": "code",
      "execution_count": null,
      "metadata": {
        "id": "t8n2utAIj7gY"
      },
      "outputs": [],
      "source": [
        "import torch\n",
        "device = torch.device('cuda' if torch.cuda.is_available() else 'cpu')"
      ]
    },
    {
      "cell_type": "markdown",
      "metadata": {
        "id": "07y-ClxnKfAw"
      },
      "source": [
        "# Install vncorenlp"
      ]
    },
    {
      "cell_type": "code",
      "execution_count": null,
      "metadata": {
        "colab": {
          "base_uri": "https://localhost:8080/"
        },
        "id": "Y0Q7A8iiR-zO",
        "outputId": "9c94d228-e2c7-4bd5-b076-cb27bc688023"
      },
      "outputs": [
        {
          "output_type": "stream",
          "name": "stdout",
          "text": [
            "Cloning into 'VnCoreNLP'...\n",
            "remote: Enumerating objects: 236, done.\u001b[K\n",
            "remote: Counting objects: 100% (24/24), done.\u001b[K\n",
            "remote: Compressing objects: 100% (24/24), done.\u001b[K\n",
            "remote: Total 236 (delta 14), reused 1 (delta 0), pack-reused 212\u001b[K\n",
            "Receiving objects: 100% (236/236), 214.22 MiB | 17.57 MiB/s, done.\n",
            "Resolving deltas: 100% (90/90), done.\n",
            "Looking in indexes: https://pypi.org/simple, https://us-python.pkg.dev/colab-wheels/public/simple/\n",
            "Collecting vncorenlp\n",
            "  Downloading vncorenlp-1.0.3.tar.gz (2.6 MB)\n",
            "\u001b[K     |████████████████████████████████| 2.6 MB 29.8 MB/s \n",
            "\u001b[?25hRequirement already satisfied: requests in /usr/local/lib/python3.8/dist-packages (from vncorenlp) (2.23.0)\n",
            "Requirement already satisfied: urllib3!=1.25.0,!=1.25.1,<1.26,>=1.21.1 in /usr/local/lib/python3.8/dist-packages (from requests->vncorenlp) (1.24.3)\n",
            "Requirement already satisfied: certifi>=2017.4.17 in /usr/local/lib/python3.8/dist-packages (from requests->vncorenlp) (2022.9.24)\n",
            "Requirement already satisfied: idna<3,>=2.5 in /usr/local/lib/python3.8/dist-packages (from requests->vncorenlp) (2.10)\n",
            "Requirement already satisfied: chardet<4,>=3.0.2 in /usr/local/lib/python3.8/dist-packages (from requests->vncorenlp) (3.0.4)\n",
            "Building wheels for collected packages: vncorenlp\n",
            "  Building wheel for vncorenlp (setup.py) ... \u001b[?25l\u001b[?25hdone\n",
            "  Created wheel for vncorenlp: filename=vncorenlp-1.0.3-py3-none-any.whl size=2645950 sha256=40a43655b138d02bed05d4ac81f2ad3d4f7e84b8ceb3813bcbf8d59662193a49\n",
            "  Stored in directory: /root/.cache/pip/wheels/3c/e9/86/706911c12e307aeb9a2702399f0dad38d36f1d6f9dde8af35e\n",
            "Successfully built vncorenlp\n",
            "Installing collected packages: vncorenlp\n",
            "Successfully installed vncorenlp-1.0.3\n"
          ]
        }
      ],
      "source": [
        "!git clone https://github.com/vncorenlp/VnCoreNLP.git\n",
        "!pip install vncorenlp\n",
        "from vncorenlp import VnCoreNLP\n",
        "annotator = VnCoreNLP('VnCoreNLP/VnCoreNLP-1.1.1.jar', annotators=\"wseg,pos,ner\", max_heap_size='-Xmx2g')\n",
        "\n",
        "def word_segment(text):\n",
        "    word_segmented_text = annotator.tokenize(text)\n",
        "    sentences = []\n",
        "    for sentence in word_segmented_text:\n",
        "        sentences.append(' '.join(sentence))\n",
        "    return ' '.join(sentences)"
      ]
    },
    {
      "cell_type": "code",
      "source": [
        "word_segment('cao bằng có bao nhiêu dân tộc')"
      ],
      "metadata": {
        "colab": {
          "base_uri": "https://localhost:8080/"
        },
        "id": "0BU2mUFp5gU-",
        "outputId": "75672146-c496-44dc-af0d-70588b8880d6"
      },
      "execution_count": null,
      "outputs": [
        {
          "output_type": "execute_result",
          "data": {
            "text/plain": [
              "'cao_bằng có bao_nhiêu dân_tộc'"
            ],
            "application/vnd.google.colaboratory.intrinsic+json": {
              "type": "string"
            }
          },
          "metadata": {},
          "execution_count": 6
        }
      ]
    },
    {
      "cell_type": "markdown",
      "metadata": {
        "id": "14LOCmlzPVXW"
      },
      "source": [
        "# Question Similarity Model"
      ]
    },
    {
      "cell_type": "code",
      "execution_count": null,
      "metadata": {
        "id": "qIrjUyOkSIUo"
      },
      "outputs": [],
      "source": [
        "class EquivalenceClassifier(nn.Module):\n",
        "    def __init__(self, n_classes):\n",
        "        super(EquivalenceClassifier, self).__init__()\n",
        "        self.bert = AutoModel.from_pretrained(\"vinai/phobert-base\")\n",
        "        self.drop = nn.Dropout(p=0.3)\n",
        "        self.fc = nn.Linear(self.bert.config.hidden_size, n_classes)\n",
        "        nn.init.normal_(self.fc.weight, std=0.02)\n",
        "        nn.init.normal_(self.fc.bias, 0)\n",
        "\n",
        "    def forward(self, input_ids, attention_mask):\n",
        "        last_hidden_state, output = self.bert(\n",
        "            input_ids=input_ids,\n",
        "            attention_mask=attention_mask,\n",
        "            return_dict=False # Dropout will errors if without this\n",
        "        )\n",
        "\n",
        "        x = self.drop(output)\n",
        "        x = self.fc(x)\n",
        "        return x"
      ]
    },
    {
      "cell_type": "code",
      "execution_count": null,
      "metadata": {
        "colab": {
          "base_uri": "https://localhost:8080/",
          "referenced_widgets": [
            "0a53373922e944e8b579954969b6a0c4",
            "36524d911f634d8db0d951df9f228eb4",
            "666708ce3b4d4ce6b8c35fbb37dc560c",
            "139b29c685934a1d8bc57c1a0686f997",
            "c2d895359ebf46ed90c5948ed9d5de7e",
            "690a0aabbac048889cb2e5c7ccb757d1",
            "d1ef60be7cad42d09814a1af571e9509",
            "25d4a43085cf44ea8c75cfce2e20e426",
            "fb45d291498f4dd0a285b01788bde58b",
            "f49b90da2028441d81e7a47b49c0cde2",
            "1b06ca6355f64b64af3c03e61712f852",
            "f17e1b944e2d4ac48a9100eb442bc1bc",
            "b079d1d5a650455d870b96a4075b53e4",
            "7953ef174ffc45a3b7715f61ad222b40",
            "cbe1275f1ec846259ea906601f3d1cc8",
            "07f15c7dfb9b4fff8c36e3650ebba1ee",
            "a43e56b27c3c42a0b75e8c8917001ad4",
            "0c0408e58a6f4b51b301932e6eb86626",
            "fa42e5f8b9324d219d772eb0df8d02d2",
            "3d2867a1e73b489dbb04fbce1ede70cf",
            "354b56043bb94fc3b09030050e85947c",
            "95f2248c44fb487294d3ae0bd7b0897a",
            "0f655ea146c6413892d38e010d5f1934",
            "8404cab83f5a4259a7c8f0d298d71e02",
            "f469a700ef574076b236406772b0f296",
            "d37ebfe29f534b2dbe07c30e12edef88",
            "07aae7b1f92841eab1094bd4110d008a",
            "1baf0d53619b420f9a74487039f0ef63",
            "98838e9e43db4a4daf9206be44b3e125",
            "0288ed68bd2c4a1bb3ac676959e83fbc",
            "e950768484c146f594df15328440fdd7",
            "15c71fcdff1a4a22ab80e323c703dfbc",
            "f82386ff06534556a7d20520b2f1f469"
          ]
        },
        "id": "1c5_yinRTBnE",
        "outputId": "3d5e453b-9979-4cad-8d04-2eca160c40a4"
      },
      "outputs": [
        {
          "output_type": "display_data",
          "data": {
            "text/plain": [
              "Downloading:   0%|          | 0.00/557 [00:00<?, ?B/s]"
            ],
            "application/vnd.jupyter.widget-view+json": {
              "version_major": 2,
              "version_minor": 0,
              "model_id": "0a53373922e944e8b579954969b6a0c4"
            }
          },
          "metadata": {}
        },
        {
          "output_type": "display_data",
          "data": {
            "text/plain": [
              "Downloading:   0%|          | 0.00/895k [00:00<?, ?B/s]"
            ],
            "application/vnd.jupyter.widget-view+json": {
              "version_major": 2,
              "version_minor": 0,
              "model_id": "f17e1b944e2d4ac48a9100eb442bc1bc"
            }
          },
          "metadata": {}
        },
        {
          "output_type": "display_data",
          "data": {
            "text/plain": [
              "Downloading:   0%|          | 0.00/1.14M [00:00<?, ?B/s]"
            ],
            "application/vnd.jupyter.widget-view+json": {
              "version_major": 2,
              "version_minor": 0,
              "model_id": "0f655ea146c6413892d38e010d5f1934"
            }
          },
          "metadata": {}
        },
        {
          "output_type": "stream",
          "name": "stderr",
          "text": [
            "Special tokens have been added in the vocabulary, make sure the associated word embeddings are fine-tuned or trained.\n"
          ]
        }
      ],
      "source": [
        "tokenizer = AutoTokenizer.from_pretrained(\"vinai/phobert-base\")"
      ]
    },
    {
      "cell_type": "markdown",
      "metadata": {
        "id": "NBLHxD4jPj2M"
      },
      "source": [
        "# Load Question Similarity Model\n"
      ]
    },
    {
      "cell_type": "code",
      "execution_count": null,
      "metadata": {
        "colab": {
          "base_uri": "https://localhost:8080/",
          "referenced_widgets": [
            "9a702185ebc34bc9b24a87d4d884340c",
            "ceeea2d3d5444ef7b8c7780e2179a65a",
            "c2cb43b85f394bbe9080d1bd8512809a",
            "d35a02b31ab34aaeb897f976ef5a70cc",
            "4029cf71be7149729b5c1d369f144fc0",
            "fe1e352bb1314a099a99543fb94a6d38",
            "d9b292e93f4e4de0af9540c717b3bda4",
            "5f71a04bcc644fafb38b817a5a11e33e",
            "41fcfcac78be4599ab9cc2a7f3e77c17",
            "ce61614fadaf4273a72ade64cec02bff",
            "9afd388865db43e8a32649bdd01b3a4b"
          ]
        },
        "id": "0F-sjPFMSpsT",
        "outputId": "69340ee5-4778-48d8-80c2-28fe5490d0dd"
      },
      "outputs": [
        {
          "output_type": "display_data",
          "data": {
            "text/plain": [
              "Downloading:   0%|          | 0.00/543M [00:00<?, ?B/s]"
            ],
            "application/vnd.jupyter.widget-view+json": {
              "version_major": 2,
              "version_minor": 0,
              "model_id": "9a702185ebc34bc9b24a87d4d884340c"
            }
          },
          "metadata": {}
        },
        {
          "output_type": "stream",
          "name": "stderr",
          "text": [
            "Some weights of the model checkpoint at vinai/phobert-base were not used when initializing RobertaModel: ['lm_head.dense.bias', 'lm_head.decoder.bias', 'lm_head.layer_norm.bias', 'lm_head.bias', 'lm_head.layer_norm.weight', 'lm_head.dense.weight', 'lm_head.decoder.weight']\n",
            "- This IS expected if you are initializing RobertaModel from the checkpoint of a model trained on another task or with another architecture (e.g. initializing a BertForSequenceClassification model from a BertForPreTraining model).\n",
            "- This IS NOT expected if you are initializing RobertaModel from the checkpoint of a model that you expect to be exactly identical (initializing a BertForSequenceClassification model from a BertForSequenceClassification model).\n"
          ]
        },
        {
          "output_type": "execute_result",
          "data": {
            "text/plain": [
              "<All keys matched successfully>"
            ]
          },
          "metadata": {},
          "execution_count": 9
        }
      ],
      "source": [
        "model = EquivalenceClassifier(n_classes=2)\n",
        "model.to(device)\n",
        "model.load_state_dict(torch.load(f'/content/drive/MyDrive/phobert_fold6.pth'))"
      ]
    },
    {
      "cell_type": "markdown",
      "source": [
        "# Sentence Similarity Check"
      ],
      "metadata": {
        "id": "8VKbKcI90aNw"
      }
    },
    {
      "cell_type": "code",
      "execution_count": null,
      "metadata": {
        "id": "-23Z4zxPGRda"
      },
      "outputs": [],
      "source": [
        "class_names = ['False', 'True']\n",
        "\n",
        "def infer1(tmp_dict, tokenizer, max_len=128):\n",
        "    encoded_review = tokenizer(\n",
        "        tmp_dict['text1'],\n",
        "        tmp_dict['text2'],\n",
        "        max_length=max_len,\n",
        "        truncation=True,\n",
        "        add_special_tokens=True,\n",
        "        padding='max_length',\n",
        "        return_attention_mask=True,\n",
        "        return_token_type_ids=False,\n",
        "        return_tensors='pt',\n",
        "    )\n",
        "\n",
        "    input_ids = encoded_review['input_ids'].to(device)\n",
        "    attention_mask = encoded_review['attention_mask'].to(device)\n",
        "\n",
        "    output = model(input_ids, attention_mask)\n",
        "    _, y_pred = torch.max(output, dim=1)\n",
        "\n",
        "    #print(f'Text1: {text1}')\n",
        "    #print(f'Text2: {text2}')\n",
        "    #print(f'Is_equivalence: {class_names[y_pred]}')\n",
        "    return y_pred"
      ]
    },
    {
      "cell_type": "markdown",
      "metadata": {
        "id": "t5kNDBAOQPwF"
      },
      "source": [
        "# Load File and Model\n"
      ]
    },
    {
      "cell_type": "code",
      "execution_count": null,
      "metadata": {
        "id": "1n7FvZyubPyd"
      },
      "outputs": [],
      "source": [
        "with open('/content/drive/MyDrive/Final Project Zalo Internship/Final Project/Viet74K_Tokenized.txt') as f:\n",
        "    tmp_dictionary = f.readlines()\n",
        "\n",
        "with open('/content/drive/MyDrive/Final Project Zalo Internship/Final Project/vietnamese-stopwords-master/vietnamese-stopwords-dash.txt') as f:\n",
        "    tmp_stop_word = f.readlines()"
      ]
    },
    {
      "cell_type": "code",
      "execution_count": null,
      "metadata": {
        "id": "v52LE7RGoFKE"
      },
      "outputs": [],
      "source": [
        "dictionary = []\n",
        "for word in tmp_dictionary:\n",
        "    word = word.replace('\\n', '')\n",
        "    dictionary.append(word)"
      ]
    },
    {
      "cell_type": "code",
      "execution_count": null,
      "metadata": {
        "id": "LKdbvNlM3Xj7"
      },
      "outputs": [],
      "source": [
        "stop_word = []\n",
        "for word in tmp_stop_word:\n",
        "    word = word.replace('\\n', '')\n",
        "    stop_word.append(word)"
      ]
    },
    {
      "cell_type": "code",
      "execution_count": null,
      "metadata": {
        "id": "5AT5w4s_y7Ny"
      },
      "outputs": [],
      "source": [
        "punctuation_set = set(string.punctuation)"
      ]
    },
    {
      "cell_type": "code",
      "execution_count": null,
      "metadata": {
        "id": "qeMRfIh0rNXY"
      },
      "outputs": [],
      "source": [
        "trec57_train_df = pd.read_csv('/content/drive/MyDrive/Final Project Zalo Internship/Final Project/trec57/train.csv')\n",
        "trec57_test_df = pd.read_csv('/content/drive/MyDrive/Final Project Zalo Internship/Final Project/trec57/test.csv')\n",
        "trec57_dev_df = pd.read_csv('/content/drive/MyDrive/Final Project Zalo Internship/Final Project/trec57/dev.csv')"
      ]
    },
    {
      "cell_type": "code",
      "source": [
        "len(trec57_train_df) + len(trec57_test_df) + len(trec57_dev_df)"
      ],
      "metadata": {
        "id": "dYLvWW-_lXdT"
      },
      "execution_count": null,
      "outputs": []
    },
    {
      "cell_type": "code",
      "execution_count": null,
      "metadata": {
        "id": "5rE_2Ayxt4DN"
      },
      "outputs": [],
      "source": [
        "trec57_train_df = trec57_train_df.drop(trec57_train_df[trec57_train_df['label'] == 'CONVERSTATION'].index)\n",
        "trec57_test_df = trec57_test_df.drop(trec57_test_df[trec57_test_df['label'] == 'CONVERSTATION'].index)\n",
        "trec57_dev_df = trec57_dev_df.drop(trec57_dev_df[trec57_dev_df['label'] == 'CONVERSTATION'].index)\n",
        "\n",
        "trec57_train_df = trec57_train_df.drop(trec57_train_df[trec57_train_df['label'] == 'BAD'].index)\n",
        "trec57_test_df = trec57_test_df.drop(trec57_test_df[trec57_test_df['label'] == 'BAD'].index)\n",
        "trec57_dev_df = trec57_dev_df.drop(trec57_dev_df[trec57_dev_df['label'] == 'BAD'].index)"
      ]
    },
    {
      "cell_type": "code",
      "execution_count": null,
      "metadata": {
        "id": "18vfeW6rpRLA"
      },
      "outputs": [],
      "source": [
        "trec57_train_df[trec57_train_df['label'] == 'CONVERSTATION']"
      ]
    },
    {
      "cell_type": "code",
      "execution_count": null,
      "metadata": {
        "id": "2ankqA5Vr3XP"
      },
      "outputs": [],
      "source": [
        "trec57_train_df = trec57_train_df.drop(['label'], axis=1)\n",
        "trec57_test_df = trec57_test_df.drop(['label'], axis=1)\n",
        "trec57_dev_df = trec57_dev_df.drop(['label'], axis=1)"
      ]
    },
    {
      "cell_type": "code",
      "execution_count": null,
      "metadata": {
        "id": "rk4x3Gp6CA_L"
      },
      "outputs": [],
      "source": [
        "li = [trec57_train_df, trec57_test_df, trec57_dev_df]"
      ]
    },
    {
      "cell_type": "code",
      "execution_count": null,
      "metadata": {
        "id": "42L4tU4sBMw_"
      },
      "outputs": [],
      "source": [
        "trec57_question_list = pd.concat(li, axis=0, ignore_index=True)"
      ]
    },
    {
      "cell_type": "code",
      "execution_count": null,
      "metadata": {
        "id": "wIkAD7_vCKwu"
      },
      "outputs": [],
      "source": [
        "trec57_question_list"
      ]
    },
    {
      "cell_type": "code",
      "execution_count": null,
      "metadata": {
        "id": "luG-7p54JvhS"
      },
      "outputs": [],
      "source": [
        "wiki_question_list = pd.read_csv('/content/drive/MyDrive/Final Project Zalo Internship/Final Project/wiki75/wiki74-revising.csv')"
      ]
    },
    {
      "cell_type": "code",
      "source": [
        "wiki_question_list['label'].unique()"
      ],
      "metadata": {
        "id": "eC2MKUYkmxC-"
      },
      "execution_count": null,
      "outputs": []
    },
    {
      "cell_type": "code",
      "execution_count": null,
      "metadata": {
        "id": "27aPm0XjLHIi"
      },
      "outputs": [],
      "source": [
        "wiki_question_list = wiki_question_list.drop(['g_id', 'id', 'label', 'set'], axis=1)"
      ]
    },
    {
      "cell_type": "code",
      "execution_count": null,
      "metadata": {
        "id": "WPz20Y3YC2qL"
      },
      "outputs": [],
      "source": [
        "import json\n",
        "with open('/content/drive/MyDrive/Final Project Zalo Internship/Final Project/QAC/version/v0.0.1/train.jsonl', 'r', encoding='utf-8') as json_file:\n",
        "    json_list = list(json_file)\n",
        "\n",
        "qac_question_list = []\n",
        "\n",
        "for json_str in json_list:\n",
        "    result = json.loads(json_str)\n",
        "    if result['question'] not in qac_question_list:\n",
        "      qac_question_list.append(result['question'])"
      ]
    },
    {
      "cell_type": "code",
      "execution_count": null,
      "metadata": {
        "id": "bAdLbQ1OGeto"
      },
      "outputs": [],
      "source": [
        "import json\n",
        "with open('/content/drive/MyDrive/Final Project Zalo Internship/Final Project/QAC/version/v0.0.1/test.jsonl', 'r', encoding='utf-8') as json_file:\n",
        "    json_list = list(json_file)\n",
        "\n",
        "for json_str in json_list:\n",
        "    result = json.loads(json_str)\n",
        "    if result['question'] not in qac_question_list:\n",
        "      qac_question_list.append(result['question'])"
      ]
    },
    {
      "cell_type": "code",
      "execution_count": null,
      "metadata": {
        "id": "GomC2v5_Gkyd"
      },
      "outputs": [],
      "source": [
        "import json\n",
        "with open('/content/drive/MyDrive/Final Project Zalo Internship/Final Project/QAC/version/v0.0.1/dev.jsonl', 'r', encoding='utf-8') as json_file:\n",
        "    json_list = list(json_file)\n",
        "\n",
        "for json_str in json_list:\n",
        "    result = json.loads(json_str)\n",
        "    if result['question'] not in qac_question_list:\n",
        "      qac_question_list.append(result['question'])"
      ]
    },
    {
      "cell_type": "code",
      "source": [
        "len(qac_question_list)"
      ],
      "metadata": {
        "id": "Wtp2j6mfnK16"
      },
      "execution_count": null,
      "outputs": []
    },
    {
      "cell_type": "code",
      "execution_count": null,
      "metadata": {
        "id": "Kt6CkTmEGyfJ"
      },
      "outputs": [],
      "source": [
        "all_question_list = []\n",
        "\n",
        "# for question in trec57_question_list['text']:\n",
        "#   all_question_list.append(question)\n",
        "\n",
        "for question in wiki_question_list['text']:\n",
        "  all_question_list.append(question)\n",
        "\n",
        "for question in qac_question_list:\n",
        "  all_question_list.append(question)"
      ]
    },
    {
      "cell_type": "code",
      "execution_count": null,
      "metadata": {
        "id": "QUcpzDToR17e"
      },
      "outputs": [],
      "source": [
        "for question in all_question_list:\n",
        "  if type(question) != str:\n",
        "    all_question_list.remove(question)"
      ]
    },
    {
      "cell_type": "code",
      "execution_count": null,
      "metadata": {
        "id": "Mho0ari5ue9D"
      },
      "outputs": [],
      "source": [
        "all_tokenzied_question_list = []\n",
        "for i in tqdm(range(len(all_question_list))):\n",
        "  all_tokenzied_question_list.append(word_segment(all_question_list[i]))"
      ]
    },
    {
      "cell_type": "code",
      "execution_count": null,
      "metadata": {
        "id": "c0HkhvNmXa95"
      },
      "outputs": [],
      "source": [
        "noun_and_question_list = {}\n",
        "np_and_question_list = {}\n",
        "nc_and_question_list = {}\n",
        "p_and_question_list = {}\n",
        "b_and_question_list = {}\n",
        "adj_and_question_list = {}\n",
        "verb_and_question_list = {}\n",
        "\n",
        "for question in tqdm(all_question_list):\n",
        "  pos_tag = annotator.pos_tag(question)\n",
        "  for i in range(len(pos_tag[0])):\n",
        "    tag = pos_tag[0][i][1]\n",
        "    if tag == 'N':\n",
        "      word = pos_tag[0][i][0]\n",
        "      word_ner = annotator.ner(word.replace('_', ' '))\n",
        "      if word_ner[0][0][1] != 'B-LOC' and word_ner[0][0][1] != 'B-PER' and word_ner[0][0][1] != 'B-ORG':\n",
        "        if word in noun_and_question_list.keys():\n",
        "          noun_and_question_list[word].append(word_segment(question))\n",
        "        else:\n",
        "          noun_and_question_list[word] = [word_segment(question)]\n",
        "\n",
        "    if tag == 'A':\n",
        "      word = pos_tag[0][i][0]\n",
        "      if word in adj_and_question_list.keys():\n",
        "        adj_and_question_list[word].append(word_segment(question))\n",
        "      else:\n",
        "        adj_and_question_list[word] = [word_segment(question)]\n",
        "\n",
        "    if tag == 'V':\n",
        "      word = pos_tag[0][i][0]\n",
        "      if word in verb_and_question_list.keys():\n",
        "        verb_and_question_list[word].append(word_segment(question))\n",
        "      else:\n",
        "        verb_and_question_list[word] = [word_segment(question)]\n",
        "\n",
        "    if tag == 'Np':\n",
        "      word = pos_tag[0][i][0]\n",
        "      if word in np_and_question_list.keys():\n",
        "        np_and_question_list[word].append(word_segment(question))\n",
        "      else:\n",
        "        np_and_question_list[word] = [word_segment(question)]\n",
        "\n",
        "    if tag == 'Nc':\n",
        "      word = pos_tag[0][i][0]\n",
        "      if word in nc_and_question_list.keys():\n",
        "        nc_and_question_list[word].append(word_segment(question))\n",
        "      else:\n",
        "        nc_and_question_list[word] = [word_segment(question)]\n",
        "\n",
        "    if tag == 'P':\n",
        "      word = pos_tag[0][i][0]\n",
        "      if word in p_and_question_list.keys():\n",
        "        p_and_question_list[word].append(word_segment(question))\n",
        "      else:\n",
        "        p_and_question_list[word] = [word_segment(question)]\n",
        "\n",
        "    if tag == 'B':\n",
        "      word = pos_tag[0][i][0]\n",
        "      if word in b_and_question_list.keys():\n",
        "        b_and_question_list[word].append(word_segment(question))\n",
        "      else:\n",
        "        b_and_question_list[word] = [word_segment(question)]"
      ]
    },
    {
      "cell_type": "code",
      "execution_count": null,
      "metadata": {
        "id": "E375ziT5Z28Y"
      },
      "outputs": [],
      "source": [
        "all_word_list = {\n",
        "    'noun': [],\n",
        "    'np': [],\n",
        "    'nc': [],\n",
        "    'p': [],\n",
        "    'b': [],\n",
        "    'adj': [],\n",
        "    'verb': [],\n",
        "}\n",
        "\n",
        "for key in noun_and_question_list.keys():\n",
        "  all_word_list['noun'].append(key)\n",
        "\n",
        "for key in np_and_question_list.keys():\n",
        "  all_word_list['np'].append(key)\n",
        "\n",
        "for key in nc_and_question_list.keys():\n",
        "  all_word_list['nc'].append(key)\n",
        "\n",
        "for key in b_and_question_list.keys():\n",
        "  all_word_list['b'].append(key)\n",
        "\n",
        "for key in p_and_question_list.keys():\n",
        "  all_word_list['p'].append(key)\n",
        "\n",
        "for key in adj_and_question_list.keys():\n",
        "  all_word_list['adj'].append(key)\n",
        "\n",
        "for key in verb_and_question_list.keys():\n",
        "  all_word_list['verb'].append(key)"
      ]
    },
    {
      "cell_type": "code",
      "execution_count": null,
      "metadata": {
        "id": "iXBcnT3obdLq"
      },
      "outputs": [],
      "source": [
        "import json\n",
        "with open(\"/content/drive/MyDrive/Final Project Zalo Internship/Final Project/Categorized vocab (No Trec57)/all_word_list.json\",\"w\", encoding='utf-8') as jsonfile:\n",
        "    json.dump(all_word_list,jsonfile,ensure_ascii=False, indent=2)"
      ]
    },
    {
      "cell_type": "code",
      "execution_count": null,
      "metadata": {
        "id": "0aoktMa4gTTF"
      },
      "outputs": [],
      "source": [
        "with open(\"/content/drive/MyDrive/Final Project Zalo Internship/Final Project/Categorized vocab (No Trec57)/Extracted Words and Questions/noun_and_question.json\",\"w\", encoding='utf-8') as jsonfile:\n",
        "    json.dump(noun_and_question_list,jsonfile,ensure_ascii=False, indent=2)"
      ]
    },
    {
      "cell_type": "code",
      "execution_count": null,
      "metadata": {
        "id": "EVKsDGSZziKc"
      },
      "outputs": [],
      "source": [
        "with open(\"/content/drive/MyDrive/Final Project Zalo Internship/Final Project/Categorized vocab (No Trec57)/Extracted Words and Questions/adj_and_question.json\",\"w\", encoding='utf-8') as jsonfile:\n",
        "    json.dump(adj_and_question_list,jsonfile,ensure_ascii=False, indent=2)"
      ]
    },
    {
      "cell_type": "code",
      "execution_count": null,
      "metadata": {
        "id": "bdL1J1s66-cI"
      },
      "outputs": [],
      "source": [
        "with open(\"/content/drive/MyDrive/Final Project Zalo Internship/Final Project/Categorized vocab (No Trec57)/Extracted Words and Questions/verb_and_question.json\",\"w\", encoding='utf-8') as jsonfile:\n",
        "    json.dump(verb_and_question_list,jsonfile,ensure_ascii=False, indent=2)"
      ]
    },
    {
      "cell_type": "code",
      "execution_count": null,
      "metadata": {
        "id": "hp2MRikJ7IFj"
      },
      "outputs": [],
      "source": [
        "with open(\"/content/drive/MyDrive/Final Project Zalo Internship/Final Project/Categorized vocab (No Trec57)/Extracted Words and Questions/np_and_question.json\",\"w\", encoding='utf-8') as jsonfile:\n",
        "    json.dump(np_and_question_list,jsonfile,ensure_ascii=False, indent=2)"
      ]
    },
    {
      "cell_type": "code",
      "execution_count": null,
      "metadata": {
        "id": "h83qoOqm7LpJ"
      },
      "outputs": [],
      "source": [
        "with open(\"/content/drive/MyDrive/Final Project Zalo Internship/Final Project/Categorized vocab (No Trec57)/Extracted Words and Questions/nc_and_question.json\",\"w\", encoding='utf-8') as jsonfile:\n",
        "    json.dump(nc_and_question_list,jsonfile,ensure_ascii=False, indent=2)"
      ]
    },
    {
      "cell_type": "code",
      "execution_count": null,
      "metadata": {
        "id": "JBezesFQ7cQy"
      },
      "outputs": [],
      "source": [
        "with open(\"/content/drive/MyDrive/Final Project Zalo Internship/Final Project/Categorized vocab (No Trec57)/Extracted Words and Questions/b_and_question.json\",\"w\", encoding='utf-8') as jsonfile:\n",
        "    json.dump(b_and_question_list,jsonfile,ensure_ascii=False, indent=2)"
      ]
    },
    {
      "cell_type": "code",
      "execution_count": null,
      "metadata": {
        "id": "1qPRCcH97eA3"
      },
      "outputs": [],
      "source": [
        "with open(\"/content/drive/MyDrive/Final Project Zalo Internship/Final Project/Categorized vocab (No Trec57)/Extracted Words and Questions/p_and_question.json\",\"w\", encoding='utf-8') as jsonfile:\n",
        "    json.dump(p_and_question_list,jsonfile,ensure_ascii=False, indent=2)"
      ]
    },
    {
      "cell_type": "markdown",
      "source": [
        "# Function to find Synonym Group"
      ],
      "metadata": {
        "id": "6HhpENOLy4VV"
      }
    },
    {
      "cell_type": "code",
      "execution_count": null,
      "metadata": {
        "id": "-TTqFnSAogc6"
      },
      "outputs": [],
      "source": [
        "def listSynonymGroup(data, word_list):\n",
        "  word = {}\n",
        "  for key in tqdm(data.keys()):\n",
        "    detokenized_key = key.replace('_', ' ')\n",
        "    cnt = 1\n",
        "    for list_word in word_list:\n",
        "      if detokenized_key in list_word:\n",
        "        if detokenized_key in word.keys():\n",
        "          word[detokenized_key][f'group {cnt}'] = list_word\n",
        "        else:\n",
        "          word[detokenized_key] = {f'group {cnt}' : list_word}\n",
        "        cnt += 1\n",
        "\n",
        "  return word"
      ]
    },
    {
      "cell_type": "markdown",
      "source": [
        "# Find all **Nouns** which are both appear in Wordnet and Bert\n"
      ],
      "metadata": {
        "id": "eGlQC92Jb3Xl"
      }
    },
    {
      "cell_type": "code",
      "source": [
        "all_similar_wordnet = {}\n",
        "\n",
        "import json\n",
        "noun_file = open('/content/drive/MyDrive/Final Project Zalo Internship/Final Project/Categorized vocab (No Trec57)/Extracted Words and Questions/noun_and_question.json', encoding='utf-8')\n",
        "noun_dict = json.loads(noun_file.read())"
      ],
      "metadata": {
        "id": "UTxnZ_2OuEq_"
      },
      "execution_count": null,
      "outputs": []
    },
    {
      "cell_type": "code",
      "execution_count": null,
      "metadata": {
        "id": "WszikiBFPj9S"
      },
      "outputs": [],
      "source": [
        "# Import libraries\n",
        "import glob\n",
        "import pandas as pd\n",
        "\n",
        "# Get CSV files list from a folder\n",
        "path = '/content/drive/MyDrive/Final Project Zalo Internship/Final Project/vietnamese-wordnet/Noun'\n",
        "csv_files = glob.glob(path + \"/*.csv\")\n",
        "\n",
        "# Read each CSV file into DataFrame\n",
        "# This creates a list of dataframes\n",
        "noun_df_list = (pd.read_csv(file, names=range(10), skipinitialspace = True, header=None) for file in csv_files)\n",
        "\n",
        "# Concatenate all DataFrames\n",
        "big_noun_df   = pd.concat(noun_df_list, ignore_index=True)"
      ]
    },
    {
      "cell_type": "code",
      "execution_count": null,
      "metadata": {
        "id": "gXkv6zwRoIuZ"
      },
      "outputs": [],
      "source": [
        "big_noun_df_list = big_noun_df.values.tolist()"
      ]
    },
    {
      "cell_type": "code",
      "source": [
        "for list_word in big_noun_df_list:\n",
        "  for i in range(len(list_word)):\n",
        "    if type(list_word[i]) is float:\n",
        "      del list_word[i:len(list_word)]\n",
        "      break"
      ],
      "metadata": {
        "id": "QTm0-P76gOh_"
      },
      "execution_count": null,
      "outputs": []
    },
    {
      "cell_type": "code",
      "source": [
        "noun_word = listSynonymGroup(noun_dict, big_noun_df_list)"
      ],
      "metadata": {
        "colab": {
          "base_uri": "https://localhost:8080/"
        },
        "id": "_AQzoZ8LyXLs",
        "outputId": "7e4e7bcf-672c-407b-8e1a-038054359157"
      },
      "execution_count": null,
      "outputs": [
        {
          "output_type": "stream",
          "name": "stderr",
          "text": [
            "100%|██████████| 3590/3590 [00:06<00:00, 571.75it/s]\n"
          ]
        }
      ]
    },
    {
      "cell_type": "code",
      "source": [
        "all_similar_wordnet['noun'] = noun_word"
      ],
      "metadata": {
        "id": "wUF5t9FetVca"
      },
      "execution_count": null,
      "outputs": []
    },
    {
      "cell_type": "markdown",
      "source": [
        "# Find all **Verbs** which are both appear in Wordnet and Bert\n",
        "\n"
      ],
      "metadata": {
        "id": "JHHIqEt3b-9V"
      }
    },
    {
      "cell_type": "code",
      "source": [
        "import json\n",
        "verb_file = open('/content/drive/MyDrive/Final Project Zalo Internship/Final Project/Categorized vocab (No Trec57)/Extracted Words and Questions/verb_and_question.json', encoding='utf-8')\n",
        "verb_dict = json.loads(verb_file.read())"
      ],
      "metadata": {
        "id": "0c6cFbvncENA"
      },
      "execution_count": null,
      "outputs": []
    },
    {
      "cell_type": "code",
      "source": [
        "# Import libraries\n",
        "import glob\n",
        "import pandas as pd\n",
        "\n",
        "# Get CSV files list from a folder\n",
        "path = '/content/drive/MyDrive/Final Project Zalo Internship/Final Project/vietnamese-wordnet/Verb'\n",
        "csv_files = glob.glob(path + \"/*.csv\")\n",
        "\n",
        "# Read each CSV file into DataFrame\n",
        "# This creates a list of dataframes\n",
        "df_list = (pd.read_csv(file, names=range(10), skipinitialspace = True, header=None) for file in csv_files)\n",
        "\n",
        "# Concatenate all DataFrames\n",
        "big_verb_df   = pd.concat(df_list, ignore_index=True)"
      ],
      "metadata": {
        "id": "LvMVrF0Ychbo"
      },
      "execution_count": null,
      "outputs": []
    },
    {
      "cell_type": "code",
      "source": [
        "big_verb_df_list = big_verb_df.values.tolist()"
      ],
      "metadata": {
        "id": "cqiPYF7ecySM"
      },
      "execution_count": null,
      "outputs": []
    },
    {
      "cell_type": "code",
      "source": [
        "for list_word in big_verb_df_list:\n",
        "  for i in range(len(list_word)):\n",
        "    if type(list_word[i]) is float:\n",
        "      del list_word[i:len(list_word)]\n",
        "      break"
      ],
      "metadata": {
        "id": "XhqVS3mTx6c0"
      },
      "execution_count": null,
      "outputs": []
    },
    {
      "cell_type": "code",
      "source": [
        "verb_word = listSynonymGroup(verb_dict, big_verb_df_list)"
      ],
      "metadata": {
        "colab": {
          "base_uri": "https://localhost:8080/"
        },
        "id": "I2AAr6xScVLh",
        "outputId": "d4a9698f-20a1-4e76-8a47-21da83c591f5"
      },
      "execution_count": null,
      "outputs": [
        {
          "output_type": "stream",
          "name": "stderr",
          "text": [
            "100%|██████████| 1933/1933 [00:01<00:00, 1065.05it/s]\n"
          ]
        }
      ]
    },
    {
      "cell_type": "code",
      "source": [
        "all_similar_wordnet['verb'] = verb_word"
      ],
      "metadata": {
        "id": "XuV43NF1uoXt"
      },
      "execution_count": null,
      "outputs": []
    },
    {
      "cell_type": "markdown",
      "source": [
        "# Find all **Adj** which are both appear in Wordnet and Bert\n",
        "\n"
      ],
      "metadata": {
        "id": "ApqTWOnOfIQU"
      }
    },
    {
      "cell_type": "code",
      "source": [
        "import json\n",
        "adj_file = open('/content/drive/MyDrive/Final Project Zalo Internship/Final Project/Categorized vocab (No Trec57)/Extracted Words and Questions/adj_and_question.json', encoding='utf-8')\n",
        "adj_dict = json.loads(adj_file.read())"
      ],
      "metadata": {
        "id": "ljuRLPVwfORa"
      },
      "execution_count": null,
      "outputs": []
    },
    {
      "cell_type": "code",
      "source": [
        "# Import libraries\n",
        "import glob\n",
        "import pandas as pd\n",
        "\n",
        "df_list = pd.read_csv('/content/drive/MyDrive/Final Project Zalo Internship/Final Project/vietnamese-wordnet/adj.csv', names=range(10), skipinitialspace = True, header=None)"
      ],
      "metadata": {
        "id": "3epuphqYfWr9"
      },
      "execution_count": null,
      "outputs": []
    },
    {
      "cell_type": "code",
      "source": [
        "adj_df_list = df_list.values.tolist()"
      ],
      "metadata": {
        "id": "fmnfVdnnfv0e"
      },
      "execution_count": null,
      "outputs": []
    },
    {
      "cell_type": "code",
      "source": [
        "for list_word in adj_df_list:\n",
        "  for i in range(len(list_word)):\n",
        "    if type(list_word[i]) is float:\n",
        "      del list_word[i:len(list_word)]\n",
        "      break"
      ],
      "metadata": {
        "id": "xGAV321o55rK"
      },
      "execution_count": null,
      "outputs": []
    },
    {
      "cell_type": "code",
      "source": [
        "adj_word = listSynonymGroup(adj_dict, adj_df_list)"
      ],
      "metadata": {
        "colab": {
          "base_uri": "https://localhost:8080/"
        },
        "id": "LGcm4Fx9f1rS",
        "outputId": "5f9d859c-ade4-496d-d179-7e959a6a1201"
      },
      "execution_count": null,
      "outputs": [
        {
          "output_type": "stream",
          "name": "stderr",
          "text": [
            "100%|██████████| 514/514 [00:00<00:00, 1735.60it/s]\n"
          ]
        }
      ]
    },
    {
      "cell_type": "code",
      "source": [
        "all_similar_wordnet['adj'] = adj_word"
      ],
      "metadata": {
        "id": "yXEzVrEWvCP8"
      },
      "execution_count": null,
      "outputs": []
    },
    {
      "cell_type": "code",
      "source": [
        "with open(\"/content/drive/MyDrive/Final Project Zalo Internship/Final Project/Categorized vocab (No Trec57)/all_similar_wordnet.json\",\"w\", encoding='utf-8') as jsonfile:\n",
        "    json.dump(all_similar_wordnet,jsonfile,ensure_ascii=False, indent=2)"
      ],
      "metadata": {
        "id": "j1nOs0uer7Zd"
      },
      "execution_count": null,
      "outputs": []
    },
    {
      "cell_type": "markdown",
      "source": [
        "# Function to summarize number of Synonym"
      ],
      "metadata": {
        "id": "mCWbiC0BNbnA"
      }
    },
    {
      "cell_type": "code",
      "source": [
        "def summarizeNumOfSynonym(data):\n",
        "  cnt_dict = {}\n",
        "  for key in data.keys():\n",
        "    max_len = 0\n",
        "    group_to_removed = []\n",
        "    synonym_group = {}\n",
        "    for group in data[key]:\n",
        "      if (max_len < len(data[key][group]) - 1):\n",
        "        max_len = len(data[key][group]) - 1\n",
        "\n",
        "    for group in data[key].keys():\n",
        "      data[key][group].remove(key)\n",
        "      if len(data[key][group]) == 0:\n",
        "        group_to_removed.append(group)\n",
        "\n",
        "    for group in group_to_removed:\n",
        "      del data[key][group]\n",
        "\n",
        "    if max_len in cnt_dict:\n",
        "      cnt_dict[max_len][key] = data[key]\n",
        "    else:\n",
        "      cnt_dict[max_len] = {key:data[key]}\n",
        "\n",
        "  return cnt_dict"
      ],
      "metadata": {
        "id": "-su8ImKT-3xl"
      },
      "execution_count": null,
      "outputs": []
    },
    {
      "cell_type": "markdown",
      "source": [
        "# Summarize number of Synonym in Wordnet"
      ],
      "metadata": {
        "id": "8i0Fz5e19ukU"
      }
    },
    {
      "cell_type": "code",
      "source": [
        "wordnet_file = open('/content/drive/MyDrive/Final Project Zalo Internship/Final Project/Categorized vocab (No Trec57)/all_similar_wordnet.json')\n",
        "wordnet_data = json.load(wordnet_file)"
      ],
      "metadata": {
        "id": "f-C7bunE-ujA"
      },
      "execution_count": null,
      "outputs": []
    },
    {
      "cell_type": "code",
      "source": [
        "noun_data = wordnet_data['noun']\n",
        "verb_data = wordnet_data['verb']\n",
        "adj_data = wordnet_data['adj']"
      ],
      "metadata": {
        "id": "6qyHvb1D2hJG"
      },
      "execution_count": null,
      "outputs": []
    },
    {
      "cell_type": "markdown",
      "source": [
        "**Noun**"
      ],
      "metadata": {
        "id": "PQ03a39jNlwW"
      }
    },
    {
      "cell_type": "code",
      "source": [
        "cnt_noun_wordnet = sorted(summarizeNumOfSynonym(noun_data).items(), key=lambda x:x[0], reverse=True)"
      ],
      "metadata": {
        "id": "tHjpJmH3C2sh"
      },
      "execution_count": null,
      "outputs": []
    },
    {
      "cell_type": "code",
      "source": [
        "cnt_noun_wordnet_dict = {k:v for k,v in cnt_noun_wordnet}"
      ],
      "metadata": {
        "id": "rNDX5KKbFT-K"
      },
      "execution_count": null,
      "outputs": []
    },
    {
      "cell_type": "code",
      "source": [
        "for key in cnt_noun_wordnet_dict.keys():\n",
        "  print(f'Number of Noun which has {key} synonym words: {len(cnt_noun_wordnet_dict[key])}')"
      ],
      "metadata": {
        "colab": {
          "base_uri": "https://localhost:8080/"
        },
        "id": "zBiOhR2B26ED",
        "outputId": "6f15f23d-084f-4067-b319-1c9d6ee219db"
      },
      "execution_count": null,
      "outputs": [
        {
          "output_type": "stream",
          "name": "stdout",
          "text": [
            "Number of Noun which has 9 synonym words: 45\n",
            "Number of Noun which has 8 synonym words: 36\n",
            "Number of Noun which has 7 synonym words: 73\n",
            "Number of Noun which has 6 synonym words: 92\n",
            "Number of Noun which has 5 synonym words: 170\n",
            "Number of Noun which has 4 synonym words: 209\n",
            "Number of Noun which has 3 synonym words: 305\n",
            "Number of Noun which has 2 synonym words: 311\n",
            "Number of Noun which has 1 synonym words: 306\n",
            "Number of Noun which has 0 synonym words: 187\n"
          ]
        }
      ]
    },
    {
      "cell_type": "code",
      "source": [
        "with open(\"/content/drive/MyDrive/Final Project Zalo Internship/Final Project/Categorized vocab (No Trec57)/Wordnet Synonym/noun_summarization.json\",\"w\", encoding='utf-8') as jsonfile:\n",
        "    json.dump(cnt_noun_wordnet_dict,jsonfile,ensure_ascii=False, indent=2)"
      ],
      "metadata": {
        "id": "VgCVEEupPI0N"
      },
      "execution_count": null,
      "outputs": []
    },
    {
      "cell_type": "markdown",
      "source": [
        "**Verb**"
      ],
      "metadata": {
        "id": "zUJsrMq2No11"
      }
    },
    {
      "cell_type": "code",
      "source": [
        "cnt_verb_wordnet = sorted(summarizeNumOfSynonym(verb_data).items(), key=lambda x:x[0], reverse=True)"
      ],
      "metadata": {
        "id": "cegpRI7-NoXl"
      },
      "execution_count": null,
      "outputs": []
    },
    {
      "cell_type": "code",
      "source": [
        "cnt_verb_wordnet_dict = {k:v for k,v in cnt_verb_wordnet}"
      ],
      "metadata": {
        "id": "qAfbW_cKN-WD"
      },
      "execution_count": null,
      "outputs": []
    },
    {
      "cell_type": "code",
      "source": [
        "for key in cnt_verb_wordnet_dict:\n",
        "  print(f'Number of Verb which has {key} synonym words: {len(cnt_verb_wordnet_dict[key])}')"
      ],
      "metadata": {
        "colab": {
          "base_uri": "https://localhost:8080/"
        },
        "id": "9oO-qitQOBlQ",
        "outputId": "b94e6a33-4cc3-4b0a-b31f-ebe2a42853ea"
      },
      "execution_count": null,
      "outputs": [
        {
          "output_type": "stream",
          "name": "stdout",
          "text": [
            "Number of Verb which has 9 synonym words: 230\n",
            "Number of Verb which has 8 synonym words: 78\n",
            "Number of Verb which has 7 synonym words: 115\n",
            "Number of Verb which has 6 synonym words: 131\n",
            "Number of Verb which has 5 synonym words: 128\n",
            "Number of Verb which has 4 synonym words: 85\n",
            "Number of Verb which has 3 synonym words: 82\n",
            "Number of Verb which has 2 synonym words: 77\n",
            "Number of Verb which has 1 synonym words: 41\n",
            "Number of Verb which has 0 synonym words: 19\n"
          ]
        }
      ]
    },
    {
      "cell_type": "code",
      "source": [
        "with open(\"/content/drive/MyDrive/Final Project Zalo Internship/Final Project/Categorized vocab (No Trec57)/Wordnet Synonym/verb_summarization.json\",\"w\", encoding='utf-8') as jsonfile:\n",
        "    json.dump(cnt_verb_wordnet_dict,jsonfile,ensure_ascii=False, indent=2)"
      ],
      "metadata": {
        "id": "WFU8IgxGPfoC"
      },
      "execution_count": null,
      "outputs": []
    },
    {
      "cell_type": "markdown",
      "source": [
        "**Adj**"
      ],
      "metadata": {
        "id": "VF4zf2ANOmiT"
      }
    },
    {
      "cell_type": "code",
      "source": [
        "cnt_adj_wordnet = sorted(summarizeNumOfSynonym(adj_data).items(), key=lambda x:x[0], reverse=True)"
      ],
      "metadata": {
        "id": "cVq-MoHqOwcn"
      },
      "execution_count": null,
      "outputs": []
    },
    {
      "cell_type": "code",
      "source": [
        "cnt_adj_wordnet_dict = {k:v for k,v in cnt_adj_wordnet}"
      ],
      "metadata": {
        "id": "zQ8nBlfGO0Az"
      },
      "execution_count": null,
      "outputs": []
    },
    {
      "cell_type": "code",
      "source": [
        "for key in cnt_adj_wordnet_dict:\n",
        "  print(f'Number of Adj which has {key} synonym words: {len(cnt_adj_wordnet_dict[key])}')"
      ],
      "metadata": {
        "colab": {
          "base_uri": "https://localhost:8080/"
        },
        "id": "6QIvMgH_O6sf",
        "outputId": "207fda9c-7f38-4d3f-cbf1-9f2b18a24112"
      },
      "execution_count": null,
      "outputs": [
        {
          "output_type": "stream",
          "name": "stdout",
          "text": [
            "Number of Adj which has 9 synonym words: 45\n",
            "Number of Adj which has 8 synonym words: 12\n",
            "Number of Adj which has 7 synonym words: 47\n",
            "Number of Adj which has 6 synonym words: 37\n",
            "Number of Adj which has 5 synonym words: 47\n",
            "Number of Adj which has 4 synonym words: 45\n",
            "Number of Adj which has 3 synonym words: 41\n",
            "Number of Adj which has 2 synonym words: 33\n",
            "Number of Adj which has 1 synonym words: 29\n",
            "Number of Adj which has 0 synonym words: 9\n"
          ]
        }
      ]
    },
    {
      "cell_type": "code",
      "source": [
        "with open(\"/content/drive/MyDrive/Final Project Zalo Internship/Final Project/Categorized vocab (No Trec57)/Wordnet Synonym/adj_summarization.json\",\"w\", encoding='utf-8') as jsonfile:\n",
        "    json.dump(cnt_adj_wordnet_dict,jsonfile,ensure_ascii=False, indent=2)"
      ],
      "metadata": {
        "id": "NfVuwud0Pio4"
      },
      "execution_count": null,
      "outputs": []
    },
    {
      "cell_type": "markdown",
      "source": [
        "# Choose 150 nouns randomly"
      ],
      "metadata": {
        "id": "agIm6L0FTjJb"
      }
    },
    {
      "cell_type": "code",
      "source": [
        "import json\n",
        "noun_candidate_file = open('/content/drive/MyDrive/Final Project Zalo Internship/Final Project/Categorized vocab (No Trec57)/Wordnet Synonym/noun_summarization.json', encoding='utf-8')\n",
        "noun_candidate_dict = json.loads(noun_candidate_file.read())"
      ],
      "metadata": {
        "id": "eqT2GGayWE3D"
      },
      "execution_count": null,
      "outputs": []
    },
    {
      "cell_type": "code",
      "source": [
        "import random\n",
        "\n",
        "list_3_6 = []\n",
        "list_7_9 = []\n",
        "\n",
        "random_noun = []\n",
        "for key in noun_candidate_dict.keys():\n",
        "  if key == '0':\n",
        "    random_noun.extend(random.sample(list(noun_candidate_dict[key].keys()), 15))\n",
        "  elif key == '1':\n",
        "    random_noun.extend(random.sample(list(noun_candidate_dict[key].keys()), 45))\n",
        "  elif key == '2':\n",
        "    random_noun.extend(random.sample(list(noun_candidate_dict[key].keys()), 45))\n",
        "  elif key == '3' or key == '4' or key == '5' or key == '6':\n",
        "    list_3_6.extend(list(noun_candidate_dict[key].keys()))\n",
        "  else:\n",
        "    list_7_9.extend(list(noun_candidate_dict[key].keys()))\n",
        "\n",
        "random_noun.extend(random.sample(list_3_6, 30))\n",
        "random_noun.extend(random.sample(list_7_9, 15))"
      ],
      "metadata": {
        "id": "W1bE_q6caqxf"
      },
      "execution_count": null,
      "outputs": []
    },
    {
      "cell_type": "code",
      "source": [
        "import collections\n",
        "print([item for item, count in collections.Counter(random_noun).items() if count > 1])\n",
        "print('năm' in random_noun)"
      ],
      "metadata": {
        "colab": {
          "base_uri": "https://localhost:8080/"
        },
        "id": "UJj3QzajYI06",
        "outputId": "44077a20-aca2-4c32-f86e-ef7e58eb0dcb"
      },
      "execution_count": null,
      "outputs": [
        {
          "output_type": "stream",
          "name": "stdout",
          "text": [
            "[]\n",
            "False\n"
          ]
        }
      ]
    },
    {
      "cell_type": "markdown",
      "source": [
        "# Choose 100 Verbs randomly\n"
      ],
      "metadata": {
        "id": "mEIKPRz-T-qd"
      }
    },
    {
      "cell_type": "code",
      "source": [
        "import json\n",
        "verb_candidate_file = open('/content/drive/MyDrive/Final Project Zalo Internship/Final Project/Categorized vocab (No Trec57)/Wordnet Synonym/verb_summarization.json', encoding='utf-8')\n",
        "verb_candidate_dict = json.loads(verb_candidate_file.read())"
      ],
      "metadata": {
        "id": "y1uYC7uWdE3r"
      },
      "execution_count": null,
      "outputs": []
    },
    {
      "cell_type": "code",
      "source": [
        "import random\n",
        "\n",
        "list_3_6 = []\n",
        "list_7_9 = []\n",
        "\n",
        "random_verb = []\n",
        "for key in verb_candidate_dict.keys():\n",
        "  if key == '0':\n",
        "    random_verb.extend(random.sample(list(verb_candidate_dict[key].keys()), 10))\n",
        "  elif key == '1':\n",
        "    random_verb.extend(random.sample(list(verb_candidate_dict[key].keys()), 30))\n",
        "  elif key == '2':\n",
        "    random_verb.extend(random.sample(list(verb_candidate_dict[key].keys()), 30))\n",
        "  elif key == '3' or key == '4' or key == '5' or key == '6':\n",
        "    list_3_6.extend(list(verb_candidate_dict[key].keys()))\n",
        "  else:\n",
        "    list_7_9.extend(list(verb_candidate_dict[key].keys()))\n",
        "\n",
        "random_verb.extend(random.sample(list_3_6, 20))\n",
        "random_verb.extend(random.sample(list_7_9, 10))"
      ],
      "metadata": {
        "id": "pK90IOVO-Uvv"
      },
      "execution_count": null,
      "outputs": []
    },
    {
      "cell_type": "code",
      "source": [
        "import collections\n",
        "print([item for item, count in collections.Counter(random_verb).items() if count > 1])"
      ],
      "metadata": {
        "colab": {
          "base_uri": "https://localhost:8080/"
        },
        "id": "vkr_n_Fj-1cR",
        "outputId": "43ccc762-f6ac-4ed9-fbf9-ca1426d68a0a"
      },
      "execution_count": null,
      "outputs": [
        {
          "output_type": "stream",
          "name": "stdout",
          "text": [
            "[]\n"
          ]
        }
      ]
    },
    {
      "cell_type": "markdown",
      "source": [
        "# Choose 50 Adj randomly"
      ],
      "metadata": {
        "id": "dYJ6ILjZUDDw"
      }
    },
    {
      "cell_type": "code",
      "source": [
        "import json\n",
        "adj_candidate_file = open('/content/drive/MyDrive/Final Project Zalo Internship/Final Project/Categorized vocab (No Trec57)/Wordnet Synonym/adj_summarization.json', encoding='utf-8')\n",
        "adj_candidate_dict = json.loads(adj_candidate_file.read())"
      ],
      "metadata": {
        "id": "hNave4T0gBh-"
      },
      "execution_count": null,
      "outputs": []
    },
    {
      "cell_type": "code",
      "source": [
        "import random\n",
        "\n",
        "list_3_6 = []\n",
        "list_7_9 = []\n",
        "\n",
        "random_adj = []\n",
        "for key in adj_candidate_dict.keys():\n",
        "  if key == '0':\n",
        "    print(0)\n",
        "    random_adj.extend(random.sample(list(adj_candidate_dict[key].keys()), 5))\n",
        "  elif key == '1':\n",
        "    print(1)\n",
        "    random_adj.extend(random.sample(list(adj_candidate_dict[key].keys()), 15))\n",
        "  elif key == '2':\n",
        "    print(2)\n",
        "    random_adj.extend(random.sample(list(adj_candidate_dict[key].keys()), 15))\n",
        "  elif key == '3' or key == '4' or key == '5' or key == '6':\n",
        "    print(3)\n",
        "    list_3_6.extend(list(adj_candidate_dict[key].keys()))\n",
        "  else:\n",
        "    print(4)\n",
        "    list_7_9.extend(list(adj_candidate_dict[key].keys()))\n",
        "\n",
        "random_adj.extend(random.sample(list_3_6, 10))\n",
        "random_adj.extend(random.sample(list_7_9, 5))"
      ],
      "metadata": {
        "colab": {
          "base_uri": "https://localhost:8080/"
        },
        "id": "o6B_-fL5_JmZ",
        "outputId": "86731db2-b870-475e-dcc6-964b5f2d29eb"
      },
      "execution_count": null,
      "outputs": [
        {
          "output_type": "stream",
          "name": "stdout",
          "text": [
            "4\n",
            "4\n",
            "4\n",
            "3\n",
            "3\n",
            "3\n",
            "3\n",
            "2\n",
            "1\n",
            "0\n"
          ]
        }
      ]
    },
    {
      "cell_type": "code",
      "source": [
        "import collections\n",
        "print([item for item, count in collections.Counter(random_adj).items() if count > 1])"
      ],
      "metadata": {
        "colab": {
          "base_uri": "https://localhost:8080/"
        },
        "id": "IajgO2vh_Y5z",
        "outputId": "772df758-92ea-4c25-8e2c-01998d48ac4a"
      },
      "execution_count": null,
      "outputs": [
        {
          "output_type": "stream",
          "name": "stdout",
          "text": [
            "[]\n"
          ]
        }
      ]
    },
    {
      "cell_type": "markdown",
      "source": [
        "# All similar word to wordnet"
      ],
      "metadata": {
        "id": "FKgNipCWvOFh"
      }
    },
    {
      "cell_type": "code",
      "source": [
        "with open(\"/content/drive/MyDrive/Final Project Zalo Internship/Final Project/Categorized vocab (No Trec57)/all_similar_wordnet.json\",\"w\", encoding='utf-8') as jsonfile:\n",
        "    json.dump(all_similar_wordnet,jsonfile,ensure_ascii=False, indent=2)"
      ],
      "metadata": {
        "id": "Vcrqm2dDvRa7"
      },
      "execution_count": null,
      "outputs": []
    },
    {
      "cell_type": "markdown",
      "source": [
        "# Load 300 words"
      ],
      "metadata": {
        "id": "BSHFNgNQAkoY"
      }
    },
    {
      "cell_type": "code",
      "source": [
        "noun_file = open('/content/drive/MyDrive/Final Project Zalo Internship/Final Project/Categorized vocab (No Trec57)/Bert Full Mask/Synonym/150_noun_synonym.json')\n",
        "noun_data = json.load(noun_file)\n",
        "\n",
        "verb_file = open('/content/drive/MyDrive/Final Project Zalo Internship/Final Project/Categorized vocab (No Trec57)/Bert Full Mask/Synonym/100_verb_synonym.json')\n",
        "verb_data = json.load(verb_file)\n",
        "\n",
        "adj_file = open('/content/drive/MyDrive/Final Project Zalo Internship/Final Project/Categorized vocab (No Trec57)/Bert Full Mask/Synonym/50_adj_synonym.json')\n",
        "adj_data = json.load(adj_file)"
      ],
      "metadata": {
        "id": "t3gkZU9OhCt1"
      },
      "execution_count": null,
      "outputs": []
    },
    {
      "cell_type": "code",
      "source": [
        "noun_keys = list(noun_data.keys())\n",
        "verb_keys = list(verb_data.keys())\n",
        "adj_keys = list(adj_data.keys())"
      ],
      "metadata": {
        "id": "g0vAs73diMeh"
      },
      "execution_count": null,
      "outputs": []
    },
    {
      "cell_type": "code",
      "source": [
        "all_300_words = noun_keys + verb_keys + adj_keys"
      ],
      "metadata": {
        "id": "bjCN5AJ8wNAw"
      },
      "execution_count": null,
      "outputs": []
    },
    {
      "cell_type": "markdown",
      "source": [
        "# List of 300 Words"
      ],
      "metadata": {
        "id": "xm0ij21hgwWV"
      }
    },
    {
      "cell_type": "code",
      "source": [
        "final_words_dict = {}\n",
        "\n",
        "final_words_dict['noun'] = noun_keys\n",
        "final_words_dict['verb'] = verb_keys\n",
        "final_words_dict['adj'] = adj_keys"
      ],
      "metadata": {
        "id": "Bc4sMnungvPS"
      },
      "execution_count": null,
      "outputs": []
    },
    {
      "cell_type": "code",
      "source": [
        "with open(\"/content/drive/MyDrive/Final Project Zalo Internship/Final Project/Categorized vocab (No Trec57)/Extracted Words and Questions/300_words_final.json\",\"w\", encoding='utf-8') as jsonfile:\n",
        "    json.dump(final_words_dict,jsonfile,ensure_ascii=False, indent=2)"
      ],
      "metadata": {
        "id": "tLQoHkq96Owk"
      },
      "execution_count": null,
      "outputs": []
    },
    {
      "cell_type": "markdown",
      "source": [
        "# Extract synonym set from Wordnet"
      ],
      "metadata": {
        "id": "19jFr_fSfDS5"
      }
    },
    {
      "cell_type": "markdown",
      "source": [
        "**Fuction to extract synonym groups in Wordnet**"
      ],
      "metadata": {
        "id": "G0WoEcblg7mH"
      }
    },
    {
      "cell_type": "code",
      "source": [
        "def extractSynonymWordnet(keys, df_list):\n",
        "  res_dict = {}\n",
        "  cnt = 1\n",
        "  isIncreased=False\n",
        "  for key in tqdm(keys):\n",
        "    group_of_synonym = {}\n",
        "    detokenized_key = key.replace('_', ' ')\n",
        "    for list_word in df_list:\n",
        "      if detokenized_key in list_word and len(list_word) > 1:\n",
        "        group_of_synonym[f'group {cnt}'] = list_word\n",
        "        cnt += 1\n",
        "    res_dict[key] = group_of_synonym\n",
        "    cnt = 1\n",
        "  return res_dict"
      ],
      "metadata": {
        "id": "3FK7mVfhfrlF"
      },
      "execution_count": null,
      "outputs": []
    },
    {
      "cell_type": "markdown",
      "source": [
        "**Synonym for Noun**"
      ],
      "metadata": {
        "id": "a-OCE9A1fLuC"
      }
    },
    {
      "cell_type": "code",
      "source": [
        "# Import libraries\n",
        "import glob\n",
        "import pandas as pd\n",
        "\n",
        "# Get CSV files list from a folder\n",
        "path = '/content/drive/MyDrive/Final Project Zalo Internship/Final Project/vietnamese-wordnet/Noun'\n",
        "csv_files = glob.glob(path + \"/*.csv\")\n",
        "\n",
        "# Read each CSV file into DataFrame\n",
        "# This creates a list of dataframes\n",
        "df_noun_list = (pd.read_csv(file, names=range(10), skipinitialspace = True, header=None) for file in csv_files)\n",
        "\n",
        "# Concatenate all DataFrames\n",
        "big_noun_df   = pd.concat(df_noun_list, ignore_index=True)"
      ],
      "metadata": {
        "id": "Baqx474-fIlg"
      },
      "execution_count": null,
      "outputs": []
    },
    {
      "cell_type": "code",
      "source": [
        "def cleanNan(big_df_list):\n",
        "  for list_word in big_df_list:\n",
        "    for i in range(len(list_word)):\n",
        "      if type(list_word[i]) is float:\n",
        "        del list_word[i:len(list_word)]\n",
        "        break\n",
        "\n",
        "  return big_df_list"
      ],
      "metadata": {
        "id": "DBAHsQUOfhdt"
      },
      "execution_count": null,
      "outputs": []
    },
    {
      "cell_type": "code",
      "source": [
        "big_noun_df_list = big_noun_df.values.tolist()\n",
        "big_noun_df_list = cleanNan(big_noun_df_list)"
      ],
      "metadata": {
        "id": "RJbi5_-EfWTO"
      },
      "execution_count": null,
      "outputs": []
    },
    {
      "cell_type": "code",
      "source": [
        "wordnet_noun_synonym = extractSynonymWordnet(noun_keys, big_noun_df_list)"
      ],
      "metadata": {
        "colab": {
          "base_uri": "https://localhost:8080/"
        },
        "id": "yzXuxJznnKtN",
        "outputId": "4da75467-eedc-4c31-9628-55e869c9441b"
      },
      "execution_count": null,
      "outputs": [
        {
          "output_type": "stream",
          "name": "stderr",
          "text": [
            "100%|██████████| 150/150 [00:00<00:00, 564.48it/s]\n"
          ]
        }
      ]
    },
    {
      "cell_type": "code",
      "source": [
        "with open(\"/content/drive/MyDrive/Final Project Zalo Internship/Final Project/Categorized vocab (No Trec57)/Wordnet Synonym/wordnet_noun_synonym.json\",\"w\", encoding='utf-8') as jsonfile:\n",
        "    json.dump(wordnet_noun_synonym,jsonfile,ensure_ascii=False, indent=2)"
      ],
      "metadata": {
        "id": "54REBKgrnyWC"
      },
      "execution_count": null,
      "outputs": []
    },
    {
      "cell_type": "markdown",
      "source": [
        "**Synonym for Verb**"
      ],
      "metadata": {
        "id": "NpSCG-1-k4IP"
      }
    },
    {
      "cell_type": "code",
      "source": [
        "# Import libraries\n",
        "import glob\n",
        "import pandas as pd\n",
        "\n",
        "# Get CSV files list from a folder\n",
        "path = '/content/drive/MyDrive/Final Project Zalo Internship/Final Project/vietnamese-wordnet/Verb'\n",
        "csv_files = glob.glob(path + \"/*.csv\")\n",
        "\n",
        "# Read each CSV file into DataFrame\n",
        "# This creates a list of dataframes\n",
        "df_verb_list = (pd.read_csv(file, names=range(10), skipinitialspace = True, header=None) for file in csv_files)\n",
        "\n",
        "# Concatenate all DataFrames\n",
        "big_verb_df   = pd.concat(df_verb_list, ignore_index=True)"
      ],
      "metadata": {
        "id": "LOD5PHCLk7pu"
      },
      "execution_count": null,
      "outputs": []
    },
    {
      "cell_type": "code",
      "source": [
        "big_verb_df_list = big_verb_df.values.tolist()\n",
        "big_verb_df_list = cleanNan(big_verb_df_list)"
      ],
      "metadata": {
        "id": "JRoQ_BK-lFgT"
      },
      "execution_count": null,
      "outputs": []
    },
    {
      "cell_type": "code",
      "source": [
        "wordnet_verb_synonym = extractSynonymWordnet(verb_keys, big_verb_df_list)"
      ],
      "metadata": {
        "colab": {
          "base_uri": "https://localhost:8080/"
        },
        "id": "GQ1RcW3wl6uq",
        "outputId": "f4e66b8c-578b-4d41-a7ea-c47ae633b58f"
      },
      "execution_count": null,
      "outputs": [
        {
          "output_type": "stream",
          "name": "stderr",
          "text": [
            "100%|██████████| 100/100 [00:00<00:00, 1137.29it/s]\n"
          ]
        }
      ]
    },
    {
      "cell_type": "code",
      "source": [
        "with open(\"/content/drive/MyDrive/Final Project Zalo Internship/Final Project/Categorized vocab (No Trec57)/Wordnet Synonym/wordnet_verb_synonym.json\",\"w\", encoding='utf-8') as jsonfile:\n",
        "    json.dump(wordnet_verb_synonym,jsonfile,ensure_ascii=False, indent=2)"
      ],
      "metadata": {
        "id": "Xo1Uz2T_oKPE"
      },
      "execution_count": null,
      "outputs": []
    },
    {
      "cell_type": "markdown",
      "source": [
        "**Synonym for Adj**"
      ],
      "metadata": {
        "id": "wv8mWlcRmKPK"
      }
    },
    {
      "cell_type": "code",
      "source": [
        "# Import libraries\n",
        "import glob\n",
        "import pandas as pd\n",
        "\n",
        "df_adj_list = pd.read_csv('/content/drive/MyDrive/Final Project Zalo Internship/Final Project/vietnamese-wordnet/adj.csv', names=range(10), skipinitialspace = True, header=None)"
      ],
      "metadata": {
        "id": "AFgemuSQmJ-0"
      },
      "execution_count": null,
      "outputs": []
    },
    {
      "cell_type": "code",
      "source": [
        "df_adj_list = df_adj_list.values.tolist()\n",
        "df_adj_list = cleanNan(df_adj_list)"
      ],
      "metadata": {
        "id": "GzR-k4sVmJOl"
      },
      "execution_count": null,
      "outputs": []
    },
    {
      "cell_type": "code",
      "source": [
        "wordnet_adj_synonym = extractSynonymWordnet(adj_keys, df_adj_list)"
      ],
      "metadata": {
        "colab": {
          "base_uri": "https://localhost:8080/"
        },
        "id": "-jQ6kkrtmeUb",
        "outputId": "806f455d-9188-445d-c3f7-04f0d4b97446"
      },
      "execution_count": null,
      "outputs": [
        {
          "output_type": "stream",
          "name": "stderr",
          "text": [
            "100%|██████████| 50/50 [00:00<00:00, 1467.54it/s]\n"
          ]
        }
      ]
    },
    {
      "cell_type": "code",
      "source": [
        "with open(\"/content/drive/MyDrive/Final Project Zalo Internship/Final Project/Categorized vocab (No Trec57)/Wordnet Synonym/wordnet_adj_synonym.json\",\"w\", encoding='utf-8') as jsonfile:\n",
        "    json.dump(wordnet_adj_synonym,jsonfile,ensure_ascii=False, indent=2)"
      ],
      "metadata": {
        "id": "o-oSrTzRoOhY"
      },
      "execution_count": null,
      "outputs": []
    },
    {
      "cell_type": "markdown",
      "source": [
        "# Function to find all candidate for Synonym"
      ],
      "metadata": {
        "id": "7JjnE0MsQr38"
      }
    },
    {
      "cell_type": "code",
      "execution_count": null,
      "metadata": {
        "id": "n6JwguiofKsP"
      },
      "outputs": [],
      "source": [
        "def findPosSynonym(data, keys):\n",
        "  list_of_pos_synonym = {}\n",
        "\n",
        "  for key in tqdm(keys):\n",
        "    question_word_dict = {}\n",
        "    for sentence in data[key]:\n",
        "      raw_sentence = sentence\n",
        "      mask_sentence = sentence.replace(key, '<mask>', 1)\n",
        "      unmasked_result = unmasker(mask_sentence, top_k=50)\n",
        "\n",
        "      for i in range(50):\n",
        "        word = unmasked_result[i]['token_str']\n",
        "        prob = unmasked_result[i]['score']\n",
        "        if sentence in question_word_dict.keys():\n",
        "          if word not in question_word_dict[sentence] and word not in punctuation_set and '@' not in word:\n",
        "            question_word_dict[sentence].append([word, prob])\n",
        "        else:\n",
        "          question_word_dict[sentence] = [[word, prob]]\n",
        "\n",
        "    list_of_pos_synonym[key] = question_word_dict\n",
        "\n",
        "  return list_of_pos_synonym"
      ]
    },
    {
      "cell_type": "code",
      "source": [
        "from transformers import pipeline\n",
        "\n",
        "unmasker = pipeline(\"fill-mask\", 'vinai/phobert-base')"
      ],
      "metadata": {
        "colab": {
          "base_uri": "https://localhost:8080/"
        },
        "id": "ahZXZijFK71U",
        "outputId": "a53cd212-4543-4ff3-ce5a-3930546cb7d2"
      },
      "execution_count": null,
      "outputs": [
        {
          "output_type": "stream",
          "name": "stderr",
          "text": [
            "Special tokens have been added in the vocabulary, make sure the associated word embeddings are fine-tuned or trained.\n"
          ]
        }
      ]
    },
    {
      "cell_type": "markdown",
      "source": [
        "# Find all cadidate for Noun Synonym"
      ],
      "metadata": {
        "id": "dErNZQjPRlDr"
      }
    },
    {
      "cell_type": "code",
      "source": [
        "noun_file = open('/content/drive/MyDrive/Final Project Zalo Internship/Final Project/Categorized vocab (No Trec57)/Extracted Words and Questions/noun_and_question.json')\n",
        "noun_data = json.load(noun_file)"
      ],
      "metadata": {
        "id": "7Huux6ZIUuR4"
      },
      "execution_count": null,
      "outputs": []
    },
    {
      "cell_type": "code",
      "source": [
        "list_of_pos_noun_synonym = findPosSynonym(noun_data, noun_keys)"
      ],
      "metadata": {
        "id": "NYWCX-IOOqT3",
        "colab": {
          "base_uri": "https://localhost:8080/"
        },
        "outputId": "b0f5117a-cbd4-4ed1-a886-3fbb4ef6e1fd"
      },
      "execution_count": null,
      "outputs": [
        {
          "output_type": "stream",
          "name": "stderr",
          "text": [
            "100%|██████████| 150/150 [02:46<00:00,  1.11s/it]\n"
          ]
        }
      ]
    },
    {
      "cell_type": "code",
      "execution_count": null,
      "metadata": {
        "id": "W4rcB9PDmV2D"
      },
      "outputs": [],
      "source": [
        "with open(\"/content/drive/MyDrive/Final Project Zalo Internship/Final Project/Categorized vocab (No Trec57)/Bert Full Mask/Candidate/pos_synonym_150_noun.json\",\"w\", encoding='utf-8') as jsonfile:\n",
        "    json.dump(list_of_pos_noun_synonym,jsonfile,ensure_ascii=False, indent=2)"
      ]
    },
    {
      "cell_type": "markdown",
      "source": [
        "# Find all cadidate for Verb Synonym\n"
      ],
      "metadata": {
        "id": "ra3TI30yR4tC"
      }
    },
    {
      "cell_type": "code",
      "source": [
        "verb_file = open('/content/drive/MyDrive/Final Project Zalo Internship/Final Project/Categorized vocab (No Trec57)/Extracted Words and Questions/verb_and_question.json')\n",
        "verb_data = json.load(verb_file)"
      ],
      "metadata": {
        "id": "GNt2_d1dR-f7"
      },
      "execution_count": null,
      "outputs": []
    },
    {
      "cell_type": "code",
      "source": [
        "list_of_pos_verb_synonym = findPosSynonym(verb_data, verb_keys)"
      ],
      "metadata": {
        "id": "ebbomh8JSMYI",
        "colab": {
          "base_uri": "https://localhost:8080/"
        },
        "outputId": "7dab187f-38ee-465b-f2db-7c36749a8ff7"
      },
      "execution_count": null,
      "outputs": [
        {
          "output_type": "stream",
          "name": "stderr",
          "text": [
            "100%|██████████| 100/100 [04:47<00:00,  2.88s/it]\n"
          ]
        }
      ]
    },
    {
      "cell_type": "code",
      "source": [
        "with open(\"/content/drive/MyDrive/Final Project Zalo Internship/Final Project/Categorized vocab (No Trec57)/Bert Full Mask/Candidate/pos_synonym_100_verb.json\",\"w\", encoding='utf-8') as jsonfile:\n",
        "    json.dump(list_of_pos_verb_synonym,jsonfile,ensure_ascii=False, indent=2)"
      ],
      "metadata": {
        "id": "2j7kia8Raup7"
      },
      "execution_count": null,
      "outputs": []
    },
    {
      "cell_type": "markdown",
      "source": [
        "# Find all candidate for Adj Synonym"
      ],
      "metadata": {
        "id": "rKRgLrHUbgl0"
      }
    },
    {
      "cell_type": "code",
      "source": [
        "adj_file = open('/content/drive/MyDrive/Final Project Zalo Internship/Final Project/Categorized vocab (No Trec57)/Extracted Words and Questions/adj_and_question.json')\n",
        "adj_data = json.load(adj_file)"
      ],
      "metadata": {
        "id": "8hGXIUGZbl5D"
      },
      "execution_count": null,
      "outputs": []
    },
    {
      "cell_type": "code",
      "source": [
        "list_of_pos_adj_synonym = findPosSynonym(adj_data, adj_keys)"
      ],
      "metadata": {
        "colab": {
          "base_uri": "https://localhost:8080/"
        },
        "id": "O_-jSAHYbt1H",
        "outputId": "50f1c98c-a7ea-41f9-83af-ab7b571f5f89"
      },
      "execution_count": null,
      "outputs": [
        {
          "output_type": "stream",
          "name": "stderr",
          "text": [
            "100%|██████████| 50/50 [00:19<00:00,  2.53it/s]\n"
          ]
        }
      ]
    },
    {
      "cell_type": "code",
      "source": [
        "with open(\"/content/drive/MyDrive/Final Project Zalo Internship/Final Project/Categorized vocab (No Trec57)/Bert Full Mask/Candidate/pos_synonym_50_adj.json\",\"w\", encoding='utf-8') as jsonfile:\n",
        "    json.dump(list_of_pos_adj_synonym,jsonfile,ensure_ascii=False, indent=2)"
      ],
      "metadata": {
        "id": "7MNlMyXFb9GW"
      },
      "execution_count": null,
      "outputs": []
    },
    {
      "cell_type": "markdown",
      "source": [
        "# Function to find Synonym"
      ],
      "metadata": {
        "id": "UgDYfVf2QmAS"
      }
    },
    {
      "cell_type": "code",
      "execution_count": null,
      "metadata": {
        "id": "2TKF7Yx9Czwm"
      },
      "outputs": [],
      "source": [
        "def findSynonym(pos_synonym_list):\n",
        "  synonym_dict = {}\n",
        "\n",
        "  batch_sentence = {\n",
        "      'text1': [],\n",
        "      'text2': []\n",
        "  }\n",
        "\n",
        "  word_and_prob = {\n",
        "      'word': [],\n",
        "      'prob': [],\n",
        "      'sentence': []\n",
        "  }\n",
        "\n",
        "  batch_size = 0\n",
        "  cnt = 0\n",
        "\n",
        "  for key in tqdm(pos_synonym_list.keys()):\n",
        "    small_synonym_dict = {}\n",
        "    for sub_key in pos_synonym_list[key]:\n",
        "      for i in range(len(pos_synonym_list[key][sub_key])):\n",
        "        pos_synonym_word = pos_synonym_list[key][sub_key][i][0]\n",
        "        if pos_synonym_word in punctuation_set:\n",
        "          continue\n",
        "\n",
        "        synonym_score = pos_synonym_list[key][sub_key][i][1]\n",
        "        sentence = sub_key.replace(key, pos_synonym_word)\n",
        "\n",
        "        if batch_size < 16:\n",
        "          batch_sentence['text1'].append(sub_key)\n",
        "          batch_sentence['text2'].append(sentence)\n",
        "          word_and_prob['word'].append(pos_synonym_word)\n",
        "          word_and_prob['prob'].append(synonym_score)\n",
        "          word_and_prob['sentence'].append(sub_key)\n",
        "\n",
        "          batch_size += 1\n",
        "          cnt += 1\n",
        "        else:\n",
        "          batch_size = 0\n",
        "          list_similarity_score = infer1(batch_sentence, tokenizer)\n",
        "          batch_sentence['text1'] = []\n",
        "          batch_sentence['text2'] = []\n",
        "\n",
        "          for k in range(len(list_similarity_score.tolist())):\n",
        "            similarity_score = list_similarity_score.tolist()[k]\n",
        "            if similarity_score == 1:\n",
        "              if word_and_prob['sentence'][k] in small_synonym_dict.keys():\n",
        "                if word_and_prob['word'][k] not in small_synonym_dict[word_and_prob['sentence'][k]].keys():\n",
        "                  small_synonym_dict[word_and_prob['sentence'][k]][word_and_prob['word'][k]] = word_and_prob['prob'][k]\n",
        "              else:\n",
        "                small_synonym_dict[word_and_prob['sentence'][k]] = {word_and_prob['word'][k]: word_and_prob['prob'][k]}\n",
        "\n",
        "          word_and_prob['word'] = []\n",
        "          word_and_prob['prob'] = []\n",
        "          word_and_prob['sentence'] = []\n",
        "\n",
        "      if batch_size > 0:\n",
        "        batch_size = 0\n",
        "        list_similarity_score = infer1(batch_sentence, tokenizer)\n",
        "        batch_sentence['text1'] = []\n",
        "        batch_sentence['text2'] = []\n",
        "\n",
        "        for k in range(len(list_similarity_score.tolist())):\n",
        "          similarity_score = list_similarity_score.tolist()[k]\n",
        "          if similarity_score == 1:\n",
        "            if word_and_prob['sentence'][k] in small_synonym_dict.keys():\n",
        "              if word_and_prob['word'][k] not in small_synonym_dict[word_and_prob['sentence'][k]].keys():\n",
        "                small_synonym_dict[word_and_prob['sentence'][k]][word_and_prob['word'][k]] = word_and_prob['prob'][k]\n",
        "            else:\n",
        "              small_synonym_dict[word_and_prob['sentence'][k]] = {word_and_prob['word'][k]: word_and_prob['prob'][k]}\n",
        "\n",
        "        word_and_prob['word'] = []\n",
        "        word_and_prob['prob'] = []\n",
        "        word_and_prob['sentence'] = []\n",
        "      synonym_dict[key] = small_synonym_dict\n",
        "\n",
        "  return synonym_dict"
      ]
    },
    {
      "cell_type": "markdown",
      "source": [
        "# Find Synonym for Noun"
      ],
      "metadata": {
        "id": "81uqSI-XOA7h"
      }
    },
    {
      "cell_type": "code",
      "execution_count": null,
      "metadata": {
        "id": "o3k1DfS2ULRS"
      },
      "outputs": [],
      "source": [
        "import json\n",
        "pos_synonym_file = open('/content/drive/MyDrive/Final Project Zalo Internship/Final Project/Categorized vocab (No Trec57)/Bert Full Mask/Candidate/pos_synonym_150_noun.json', encoding='utf-8')\n",
        "pos_synonym_list = json.loads(pos_synonym_file.read())"
      ]
    },
    {
      "cell_type": "code",
      "source": [
        "synonym_dict = findSynonym(pos_synonym_list)"
      ],
      "metadata": {
        "id": "fJJIOiDiOHOg",
        "colab": {
          "base_uri": "https://localhost:8080/"
        },
        "outputId": "4d4506df-fe24-432b-e62c-f6f0eb42e6f5"
      },
      "execution_count": null,
      "outputs": [
        {
          "output_type": "stream",
          "name": "stderr",
          "text": [
            "100%|██████████| 150/150 [13:16<00:00,  5.31s/it]\n"
          ]
        }
      ]
    },
    {
      "cell_type": "code",
      "execution_count": null,
      "metadata": {
        "id": "fwdMdBicKcR_"
      },
      "outputs": [],
      "source": [
        "with open(\"/content/drive/MyDrive/Final Project Zalo Internship/Final Project/Categorized vocab (No Trec57)/Bert Full Mask/Synonym/150_noun_synonym.json\",\"w\", encoding='utf-8') as jsonfile:\n",
        "    json.dump(synonym_dict,jsonfile,ensure_ascii=False, indent=2)"
      ]
    },
    {
      "cell_type": "markdown",
      "source": [
        "# Find Synonym for Verb"
      ],
      "metadata": {
        "id": "hW8QdanTeQZH"
      }
    },
    {
      "cell_type": "code",
      "source": [
        "import json\n",
        "pos_verb_synonym_file = open('/content/drive/MyDrive/Final Project Zalo Internship/Final Project/Categorized vocab (No Trec57)/Bert Full Mask/Candidate/pos_synonym_100_verb.json', encoding='utf-8')\n",
        "pos_verb_synonym_list = json.loads(pos_verb_synonym_file.read())"
      ],
      "metadata": {
        "id": "Z1oeaUlFeUnC"
      },
      "execution_count": null,
      "outputs": []
    },
    {
      "cell_type": "code",
      "source": [
        "verb_synonym_dict = findSynonym(pos_verb_synonym_list)"
      ],
      "metadata": {
        "colab": {
          "base_uri": "https://localhost:8080/"
        },
        "id": "Or3zSzqeekfZ",
        "outputId": "d286490c-7a4b-417d-9a6b-e3e98538ef42"
      },
      "execution_count": null,
      "outputs": [
        {
          "output_type": "stream",
          "name": "stderr",
          "text": [
            "100%|██████████| 100/100 [22:35<00:00, 13.56s/it]\n"
          ]
        }
      ]
    },
    {
      "cell_type": "code",
      "source": [
        "with open(\"/content/drive/MyDrive/Final Project Zalo Internship/Final Project/Categorized vocab (No Trec57)/Bert Full Mask/Synonym/100_verb_synonym.json\",\"w\", encoding='utf-8') as jsonfile:\n",
        "    json.dump(verb_synonym_dict,jsonfile,ensure_ascii=False, indent=2)"
      ],
      "metadata": {
        "id": "H8uiXslUtXni"
      },
      "execution_count": null,
      "outputs": []
    },
    {
      "cell_type": "markdown",
      "source": [
        "# Find Synonym for Adj"
      ],
      "metadata": {
        "id": "lAc9TySNtys8"
      }
    },
    {
      "cell_type": "code",
      "source": [
        "import json\n",
        "pos_adj_synonym_file = open('/content/drive/MyDrive/Final Project Zalo Internship/Final Project/Categorized vocab (No Trec57)/Bert Full Mask/Candidate/pos_synonym_50_adj.json', encoding='utf-8')\n",
        "pos_adj_synonym_list = json.loads(pos_adj_synonym_file.read())"
      ],
      "metadata": {
        "id": "Pey79hM1t2Xi"
      },
      "execution_count": null,
      "outputs": []
    },
    {
      "cell_type": "code",
      "source": [
        "adj_synonym_dict = findSynonym(pos_adj_synonym_list)"
      ],
      "metadata": {
        "colab": {
          "base_uri": "https://localhost:8080/"
        },
        "id": "UiNeZ5xMt8Zz",
        "outputId": "db520d78-781c-428f-d244-bb563af56eec"
      },
      "execution_count": null,
      "outputs": [
        {
          "output_type": "stream",
          "name": "stderr",
          "text": [
            "100%|██████████| 50/50 [01:39<00:00,  1.98s/it]\n"
          ]
        }
      ]
    },
    {
      "cell_type": "code",
      "source": [
        "with open(\"/content/drive/MyDrive/Final Project Zalo Internship/Final Project/Categorized vocab (No Trec57)/Bert Full Mask/Synonym/50_adj_synonym.json\",\"w\", encoding='utf-8') as jsonfile:\n",
        "    json.dump(adj_synonym_dict,jsonfile,ensure_ascii=False, indent=2)"
      ],
      "metadata": {
        "id": "D2j_6dT-vCPq"
      },
      "execution_count": null,
      "outputs": []
    },
    {
      "cell_type": "markdown",
      "source": [
        "# Function to count Word Occurrence"
      ],
      "metadata": {
        "id": "X-CTEgQNdiWC"
      }
    },
    {
      "cell_type": "code",
      "execution_count": null,
      "metadata": {
        "id": "GUn9mW9yfxY3"
      },
      "outputs": [],
      "source": [
        "def wordOccurrence(synonym_dict):\n",
        "  synonym_word = {}\n",
        "\n",
        "  for key in tqdm(synonym_dict.keys()):\n",
        "    word_occurence = {}\n",
        "    for sub_key in synonym_dict[key]:\n",
        "      for word in synonym_dict[key][sub_key]:\n",
        "        if word in word_occurence:\n",
        "          word_occurence[word] += 1\n",
        "        else:\n",
        "          word_occurence[word] = 1\n",
        "    word_occurence = {k: v for k, v in sorted(word_occurence.items(), key=lambda item: item[1], reverse=True)}\n",
        "    synonym_word[key] = word_occurence\n",
        "\n",
        "  return synonym_word"
      ]
    },
    {
      "cell_type": "markdown",
      "source": [
        "# Word Occurrence for Noun"
      ],
      "metadata": {
        "id": "-VEHD0hXd32_"
      }
    },
    {
      "cell_type": "code",
      "execution_count": null,
      "metadata": {
        "id": "XjhYF5q-eeRL"
      },
      "outputs": [],
      "source": [
        "import json\n",
        "synonym_file = open('/content/drive/MyDrive/Final Project Zalo Internship/Final Project/Categorized vocab (No Trec57)/Bert Full Mask/Synonym/150_noun_synonym.json', encoding='utf-8')\n",
        "synonym_dict = json.loads(synonym_file.read())"
      ]
    },
    {
      "cell_type": "code",
      "source": [
        "synonym_word = wordOccurrence(synonym_dict)"
      ],
      "metadata": {
        "id": "thGUZN9IcxzV",
        "colab": {
          "base_uri": "https://localhost:8080/"
        },
        "outputId": "51d5c945-6944-4b33-d1b1-baacca110977"
      },
      "execution_count": null,
      "outputs": [
        {
          "output_type": "stream",
          "name": "stderr",
          "text": [
            "100%|██████████| 150/150 [00:00<00:00, 16352.06it/s]\n"
          ]
        }
      ]
    },
    {
      "cell_type": "code",
      "source": [
        "with open(\"/content/drive/MyDrive/Final Project Zalo Internship/Final Project/Categorized vocab (No Trec57)/Bert Full Mask/Occurrence/occurence_of_150_noun.json\",\"w\", encoding='utf-8') as jsonfile:\n",
        "    json.dump(synonym_word,jsonfile,ensure_ascii=False, indent=2)"
      ],
      "metadata": {
        "id": "OPu1uOAH4xx6"
      },
      "execution_count": null,
      "outputs": []
    },
    {
      "cell_type": "markdown",
      "source": [
        "# Word Occurrence for Verb"
      ],
      "metadata": {
        "id": "tVlhCW1XvSCG"
      }
    },
    {
      "cell_type": "code",
      "source": [
        "import json\n",
        "synonym_verb_file = open('/content/drive/MyDrive/Final Project Zalo Internship/Final Project/Categorized vocab (No Trec57)/Bert Full Mask/Synonym/100_verb_synonym.json', encoding='utf-8')\n",
        "synonym_verb_dict = json.loads(synonym_verb_file.read())"
      ],
      "metadata": {
        "id": "KefbjlcXvWtQ"
      },
      "execution_count": null,
      "outputs": []
    },
    {
      "cell_type": "code",
      "source": [
        "synonym_verb_word = wordOccurrence(synonym_verb_dict)"
      ],
      "metadata": {
        "colab": {
          "base_uri": "https://localhost:8080/"
        },
        "id": "gJYLL___vjxe",
        "outputId": "9e17adc0-6d93-4103-a12b-00a1abb31ae0"
      },
      "execution_count": null,
      "outputs": [
        {
          "output_type": "stream",
          "name": "stderr",
          "text": [
            "100%|██████████| 100/100 [00:00<00:00, 4867.31it/s]\n"
          ]
        }
      ]
    },
    {
      "cell_type": "code",
      "source": [
        "with open(\"/content/drive/MyDrive/Final Project Zalo Internship/Final Project/Categorized vocab (No Trec57)/Bert Full Mask/Occurrence/occurence_of_100_verb.json\",\"w\", encoding='utf-8') as jsonfile:\n",
        "    json.dump(synonym_verb_word,jsonfile,ensure_ascii=False, indent=2)"
      ],
      "metadata": {
        "id": "oZrEy6_5vrmF"
      },
      "execution_count": null,
      "outputs": []
    },
    {
      "cell_type": "markdown",
      "source": [
        "# Word Occurrence for Adj"
      ],
      "metadata": {
        "id": "obXpxf57vwmi"
      }
    },
    {
      "cell_type": "code",
      "source": [
        "import json\n",
        "synonym_adj_file = open('/content/drive/MyDrive/Final Project Zalo Internship/Final Project/Categorized vocab (No Trec57)/Bert Full Mask/Synonym/50_adj_synonym.json', encoding='utf-8')\n",
        "synonym_adj_dict = json.loads(synonym_adj_file.read())"
      ],
      "metadata": {
        "id": "1p7nkMhkvzhI"
      },
      "execution_count": null,
      "outputs": []
    },
    {
      "cell_type": "code",
      "source": [
        "synonym_adj_word = wordOccurrence(synonym_adj_dict)"
      ],
      "metadata": {
        "colab": {
          "base_uri": "https://localhost:8080/"
        },
        "id": "6Y0ytaNEv5UG",
        "outputId": "8cfb99ad-98d7-4fdf-b08a-a469fd01a7a3"
      },
      "execution_count": null,
      "outputs": [
        {
          "output_type": "stream",
          "name": "stderr",
          "text": [
            "100%|██████████| 50/50 [00:00<00:00, 31151.99it/s]\n"
          ]
        }
      ]
    },
    {
      "cell_type": "code",
      "source": [
        "with open(\"/content/drive/MyDrive/Final Project Zalo Internship/Final Project/Categorized vocab (No Trec57)/Bert Full Mask/Occurrence/occurence_of_50_adj.json\",\"w\", encoding='utf-8') as jsonfile:\n",
        "    json.dump(synonym_adj_word,jsonfile,ensure_ascii=False, indent=2)"
      ],
      "metadata": {
        "id": "slMHjqIPv9eD"
      },
      "execution_count": null,
      "outputs": []
    },
    {
      "cell_type": "markdown",
      "source": [
        "# Function to show Word Occurrence and Example Sentence"
      ],
      "metadata": {
        "id": "rOt29t1sdojh"
      }
    },
    {
      "cell_type": "code",
      "source": [
        "def get_num_occurence(item):\n",
        "    # Return default value that is equivalent to no skill\n",
        "    return item[1]['occurence']"
      ],
      "metadata": {
        "id": "TTV4DmYxOAIo"
      },
      "execution_count": null,
      "outputs": []
    },
    {
      "cell_type": "code",
      "source": [
        "def wordOccurrenceSentence(synonym_dict):\n",
        "  synonym_word_sentence = {}\n",
        "\n",
        "  for key in tqdm(synonym_dict.keys()):\n",
        "    word_occurence = {}\n",
        "    for sub_key in synonym_dict[key]:\n",
        "      for word in synonym_dict[key][sub_key]:\n",
        "        if word in word_occurence:\n",
        "          word_occurence[word]['occurence'] += 1\n",
        "          if len(word_occurence[word]['sentence']) < 3:\n",
        "            sentence = sub_key.replace(key, '<mask>', 1)\n",
        "            word_occurence[word]['sentence'].append(sentence)\n",
        "        else:\n",
        "          sentence = sub_key.replace(key, '<mask>', 1)\n",
        "          word_occurence[word] = {'occurence': 1, 'sentence': [sentence]}\n",
        "    word_occurence = {k: v for k, v in sorted(word_occurence.items(), key=get_num_occurence, reverse=True)}\n",
        "\n",
        "    synonym_word_sentence[key] = word_occurence\n",
        "\n",
        "  return synonym_word_sentence"
      ],
      "metadata": {
        "id": "Pd2QfY-B7X62"
      },
      "execution_count": null,
      "outputs": []
    },
    {
      "cell_type": "markdown",
      "source": [
        "# Word Occurrence and Example Sentence for Noun"
      ],
      "metadata": {
        "id": "qSvv4215d8nR"
      }
    },
    {
      "cell_type": "code",
      "source": [
        "synonym_word_sentence = wordOccurrenceSentence(synonym_dict)"
      ],
      "metadata": {
        "id": "MU8nWpl5dW7P",
        "colab": {
          "base_uri": "https://localhost:8080/"
        },
        "outputId": "24cdcb05-9072-4b78-becf-4831d94a4b6c"
      },
      "execution_count": null,
      "outputs": [
        {
          "output_type": "stream",
          "name": "stderr",
          "text": [
            "100%|██████████| 150/150 [00:00<00:00, 5304.81it/s]\n"
          ]
        }
      ]
    },
    {
      "cell_type": "code",
      "source": [
        "with open(\"/content/drive/MyDrive/Final Project Zalo Internship/Final Project/Categorized vocab (No Trec57)/Bert Full Mask/Occurrence/occurence_150_noun_sentence.json\",\"w\", encoding='utf-8') as jsonfile:\n",
        "    json.dump(synonym_word_sentence,jsonfile,ensure_ascii=False, indent=2)"
      ],
      "metadata": {
        "id": "LmMf0bZT7fus"
      },
      "execution_count": null,
      "outputs": []
    },
    {
      "cell_type": "markdown",
      "source": [
        "# Word Occurrence and Example Sentence for Verb"
      ],
      "metadata": {
        "id": "h5WZ0gNHwa1E"
      }
    },
    {
      "cell_type": "code",
      "source": [
        "synonym_verb_sentence = wordOccurrenceSentence(synonym_verb_dict)"
      ],
      "metadata": {
        "colab": {
          "base_uri": "https://localhost:8080/"
        },
        "id": "eagz9outwhEU",
        "outputId": "de401660-263b-4832-b83f-9a4ec8c040de"
      },
      "execution_count": null,
      "outputs": [
        {
          "output_type": "stream",
          "name": "stderr",
          "text": [
            "100%|██████████| 100/100 [00:00<00:00, 1934.07it/s]\n"
          ]
        }
      ]
    },
    {
      "cell_type": "code",
      "source": [
        "with open(\"/content/drive/MyDrive/Final Project Zalo Internship/Final Project/Categorized vocab (No Trec57)/Bert Full Mask/Occurrence/occurence_100_verb_sentence.json\",\"w\", encoding='utf-8') as jsonfile:\n",
        "    json.dump(synonym_verb_sentence,jsonfile,ensure_ascii=False, indent=2)"
      ],
      "metadata": {
        "id": "qV_2yptowo38"
      },
      "execution_count": null,
      "outputs": []
    },
    {
      "cell_type": "markdown",
      "source": [
        "# Word Occurrence and Example Sentence for Adj"
      ],
      "metadata": {
        "id": "Yv-XvjLHwsU1"
      }
    },
    {
      "cell_type": "code",
      "source": [
        "synonym_adj_sentence = wordOccurrenceSentence(synonym_adj_dict)"
      ],
      "metadata": {
        "colab": {
          "base_uri": "https://localhost:8080/"
        },
        "id": "if7SWbd0wuwZ",
        "outputId": "a720b00d-4c7a-4387-afe1-e12fb31dd6f9"
      },
      "execution_count": null,
      "outputs": [
        {
          "output_type": "stream",
          "name": "stderr",
          "text": [
            "100%|██████████| 50/50 [00:00<00:00, 13055.79it/s]\n"
          ]
        }
      ]
    },
    {
      "cell_type": "code",
      "source": [
        "with open(\"/content/drive/MyDrive/Final Project Zalo Internship/Final Project/Categorized vocab (No Trec57)/Bert Full Mask/Occurrence/occurrence_50_adj_sentence.json\",\"w\", encoding='utf-8') as jsonfile:\n",
        "    json.dump(synonym_adj_sentence,jsonfile,ensure_ascii=False, indent=2)"
      ],
      "metadata": {
        "id": "TsGiJgQSwyKF"
      },
      "execution_count": null,
      "outputs": []
    },
    {
      "cell_type": "markdown",
      "source": [
        "# BERT Concatenation Candidate"
      ],
      "metadata": {
        "id": "hRI3xfuZYItU"
      }
    },
    {
      "cell_type": "markdown",
      "source": [
        "**Load Model**"
      ],
      "metadata": {
        "id": "u4yqqKecYbhI"
      }
    },
    {
      "cell_type": "code",
      "source": [
        "tokenizer = AutoTokenizer.from_pretrained('vinai/phobert-base')\n",
        "lm_model = RobertaForMaskedLM.from_pretrained('vinai/phobert-base')\n",
        "raw_model = AutoModel.from_pretrained('vinai/phobert-base', output_hidden_states=True, output_attentions=True)\n",
        "\n",
        "def load_transformers():\n",
        "    return tokenizer, lm_model, raw_model"
      ],
      "metadata": {
        "colab": {
          "base_uri": "https://localhost:8080/"
        },
        "id": "UsHbvCuvYYNR",
        "outputId": "226bd2ba-42fb-4cef-d979-ee6d2a7fd5bd"
      },
      "execution_count": null,
      "outputs": [
        {
          "output_type": "stream",
          "name": "stderr",
          "text": [
            "Special tokens have been added in the vocabulary, make sure the associated word embeddings are fine-tuned or trained.\n",
            "Some weights of the model checkpoint at vinai/phobert-base were not used when initializing RobertaModel: ['lm_head.decoder.weight', 'lm_head.layer_norm.weight', 'lm_head.layer_norm.bias', 'lm_head.bias', 'lm_head.dense.weight', 'lm_head.decoder.bias', 'lm_head.dense.bias']\n",
            "- This IS expected if you are initializing RobertaModel from the checkpoint of a model trained on another task or with another architecture (e.g. initializing a BertForSequenceClassification model from a BertForPreTraining model).\n",
            "- This IS NOT expected if you are initializing RobertaModel from the checkpoint of a model that you expect to be exactly identical (initializing a BertForSequenceClassification model from a BertForSequenceClassification model).\n"
          ]
        }
      ]
    },
    {
      "cell_type": "code",
      "source": [
        "def has_numbers(inputString):\n",
        "    return any(char.isdigit() for char in inputString)"
      ],
      "metadata": {
        "id": "H2WlKVQSat5o"
      },
      "execution_count": null,
      "outputs": []
    },
    {
      "cell_type": "markdown",
      "source": [
        "**Function to find synonym candidate**"
      ],
      "metadata": {
        "id": "dy29qh50Y-wG"
      }
    },
    {
      "cell_type": "code",
      "source": [
        "def BertConcatCandidate(sentence, target_word):\n",
        "  dict = {}\n",
        "  res = []\n",
        "  masked_sent = sentence.replace(target_word, tokenizer.mask_token, 1)\n",
        "\n",
        "  #Get the input token IDs of the input consisting of: the original sentence + separator + the masked sentence.\n",
        "  input_ids = tokenizer.encode(\" \"+sentence, \" \"+masked_sent, add_special_tokens=True)\n",
        "  masked_position = input_ids.index(tokenizer.mask_token_id)\n",
        "\n",
        "  original_output = raw_model(torch.tensor(input_ids).reshape(1, len(input_ids)))\n",
        "\n",
        "  #Get the predictions of the Masked LM transformer.\n",
        "  with torch.no_grad():\n",
        "          output = lm_model(torch.tensor(input_ids).reshape(1, len(input_ids)))\n",
        "\n",
        "  logits = output[0].squeeze()\n",
        "\n",
        "  #Get top guesses: their token IDs, scores, and words.\n",
        "  mask_logits = logits[masked_position].squeeze()\n",
        "  top_tokens = torch.topk(mask_logits, k=50, dim=0)[1]\n",
        "  scores = torch.softmax(mask_logits, dim=0)[top_tokens].tolist()\n",
        "  words = [tokenizer.decode(i.item()).strip() for i in top_tokens]\n",
        "\n",
        "  for i in range(len(words)):\n",
        "    word = words[i]\n",
        "    if '@' in word or word in string.punctuation or '<' in word or has_numbers(word):\n",
        "      continue\n",
        "    res.append(words[i].replace(' ', ''))\n",
        "\n",
        "  dict['sentence'] = sentence\n",
        "  dict['target_word'] = target_word\n",
        "  dict['synonym_candidates'] = res\n",
        "\n",
        "  return dict"
      ],
      "metadata": {
        "id": "AZBEooRiY9-O"
      },
      "execution_count": null,
      "outputs": []
    },
    {
      "cell_type": "code",
      "source": [
        "def findSynonymCandidate(data, keys):\n",
        "  final_dict = {}\n",
        "\n",
        "  for key in tqdm(keys):\n",
        "    for sentence in data[key]:\n",
        "      dict = BertConcatCandidate(sentence, key)\n",
        "      if dict['target_word'] not in final_dict.keys():\n",
        "        final_dict[dict['target_word']] = {dict['sentence']:dict['synonym_candidates']}\n",
        "      else:\n",
        "        final_dict[dict['target_word']][dict['sentence']] = dict['synonym_candidates']\n",
        "\n",
        "  return final_dict"
      ],
      "metadata": {
        "id": "80woSKz3hY9N"
      },
      "execution_count": null,
      "outputs": []
    },
    {
      "cell_type": "markdown",
      "source": [
        "**Noun synonym candidate**"
      ],
      "metadata": {
        "id": "LA99fTUVdAwu"
      }
    },
    {
      "cell_type": "code",
      "source": [
        "noun_and_question_file = open('/content/drive/MyDrive/Final Project Zalo Internship/Final Project/Categorized vocab (No Trec57)/Extracted Words and Questions/noun_and_question.json')\n",
        "noun_and_question_data = json.load(noun_and_question_file)"
      ],
      "metadata": {
        "id": "pnjLgkg_dESi"
      },
      "execution_count": null,
      "outputs": []
    },
    {
      "cell_type": "code",
      "source": [
        "noun_candidate = findSynonymCandidate(noun_and_question_data, noun_keys)"
      ],
      "metadata": {
        "colab": {
          "base_uri": "https://localhost:8080/"
        },
        "id": "f25XTOfWdgBb",
        "outputId": "2a4ad5a8-e675-40ad-a336-81dd936fddcd"
      },
      "execution_count": null,
      "outputs": [
        {
          "output_type": "stream",
          "name": "stderr",
          "text": [
            "100%|██████████| 150/150 [04:46<00:00,  1.91s/it]\n"
          ]
        }
      ]
    },
    {
      "cell_type": "code",
      "source": [
        "with open(\"/content/drive/MyDrive/Final Project Zalo Internship/Final Project/Categorized vocab (No Trec57)/Bert Concatenation/Candidate/noun_synonym_candidate.json\",\"w\", encoding='utf-8') as jsonfile:\n",
        "    json.dump(noun_candidate,jsonfile,ensure_ascii=False, indent=2)"
      ],
      "metadata": {
        "id": "TTY30E_yZggn"
      },
      "execution_count": null,
      "outputs": []
    },
    {
      "cell_type": "markdown",
      "source": [
        "**Verb synonym candidate**"
      ],
      "metadata": {
        "id": "7CMM8_isaXnU"
      }
    },
    {
      "cell_type": "code",
      "source": [
        "verb_and_question_file = open('/content/drive/MyDrive/Final Project Zalo Internship/Final Project/Categorized vocab (No Trec57)/Extracted Words and Questions/verb_and_question.json')\n",
        "verb_and_question_data = json.load(verb_and_question_file)"
      ],
      "metadata": {
        "id": "9Anqz1jEaj6w"
      },
      "execution_count": null,
      "outputs": []
    },
    {
      "cell_type": "code",
      "source": [
        "verb_candidate = findSynonymCandidate(verb_and_question_data, verb_keys)"
      ],
      "metadata": {
        "colab": {
          "base_uri": "https://localhost:8080/"
        },
        "id": "BB6h_ab5bDQH",
        "outputId": "2ef7fdd2-018f-4ee0-cbb4-e39140e6a4c2"
      },
      "execution_count": null,
      "outputs": [
        {
          "output_type": "stream",
          "name": "stderr",
          "text": [
            "100%|██████████| 100/100 [08:36<00:00,  5.16s/it]\n"
          ]
        }
      ]
    },
    {
      "cell_type": "code",
      "source": [
        "with open(\"/content/drive/MyDrive/Final Project Zalo Internship/Final Project/Categorized vocab (No Trec57)/Bert Concatenation/Candidate/verb_synonym_candidate.json\",\"w\", encoding='utf-8') as jsonfile:\n",
        "    json.dump(verb_candidate,jsonfile,ensure_ascii=False, indent=2)"
      ],
      "metadata": {
        "id": "dYNa14fPafpS"
      },
      "execution_count": null,
      "outputs": []
    },
    {
      "cell_type": "markdown",
      "source": [
        "**Adj synonym candidate**"
      ],
      "metadata": {
        "id": "bPt93ALZbkqm"
      }
    },
    {
      "cell_type": "code",
      "source": [
        "adj_and_question_file = open('/content/drive/MyDrive/Final Project Zalo Internship/Final Project/Categorized vocab (No Trec57)/Extracted Words and Questions/adj_and_question.json')\n",
        "adj_and_question_data = json.load(adj_and_question_file)"
      ],
      "metadata": {
        "id": "Fq3RW3wlboLU"
      },
      "execution_count": null,
      "outputs": []
    },
    {
      "cell_type": "code",
      "source": [
        "adj_candidate = findSynonymCandidate(adj_and_question_data, adj_keys)"
      ],
      "metadata": {
        "colab": {
          "base_uri": "https://localhost:8080/"
        },
        "id": "IcgHWSELbtT0",
        "outputId": "dd930558-4154-47cf-fe84-bb608f3c870f"
      },
      "execution_count": null,
      "outputs": [
        {
          "output_type": "stream",
          "name": "stderr",
          "text": [
            "100%|██████████| 50/50 [00:38<00:00,  1.30it/s]\n"
          ]
        }
      ]
    },
    {
      "cell_type": "code",
      "source": [
        "with open(\"/content/drive/MyDrive/Final Project Zalo Internship/Final Project/Categorized vocab (No Trec57)/Bert Concatenation/Candidate/adj_synonym_candidate.json\",\"w\", encoding='utf-8') as jsonfile:\n",
        "    json.dump(adj_candidate,jsonfile,ensure_ascii=False, indent=2)"
      ],
      "metadata": {
        "id": "biYU6ZqEbx1W"
      },
      "execution_count": null,
      "outputs": []
    },
    {
      "cell_type": "markdown",
      "source": [
        "# BERT Concatenation Synonym"
      ],
      "metadata": {
        "id": "lumAg51Qd4Z9"
      }
    },
    {
      "cell_type": "code",
      "source": [
        "def findSynonymBertConcat(pos_synonym_list):\n",
        "  synonym_dict = {}\n",
        "\n",
        "  batch_sentence = {\n",
        "      'text1': [],\n",
        "      'text2': []\n",
        "  }\n",
        "\n",
        "  word_and_prob = {\n",
        "      'word': [],\n",
        "      'sentence': []\n",
        "  }\n",
        "\n",
        "  batch_size = 0\n",
        "  cnt = 0\n",
        "\n",
        "  for key in tqdm(pos_synonym_list.keys()):\n",
        "    small_synonym_dict = {}\n",
        "    for sub_key in pos_synonym_list[key]:\n",
        "      for i in range(len(pos_synonym_list[key][sub_key])):\n",
        "        pos_synonym_word = pos_synonym_list[key][sub_key][i]\n",
        "        if pos_synonym_word in punctuation_set:\n",
        "          continue\n",
        "\n",
        "        sentence = sub_key.replace(key, pos_synonym_word)\n",
        "\n",
        "        if batch_size < 16:\n",
        "          batch_sentence['text1'].append(sub_key)\n",
        "          batch_sentence['text2'].append(sentence)\n",
        "          word_and_prob['word'].append(pos_synonym_word)\n",
        "          word_and_prob['sentence'].append(sub_key)\n",
        "\n",
        "          batch_size += 1\n",
        "          cnt += 1\n",
        "        else:\n",
        "          batch_size = 0\n",
        "          list_similarity_score = infer1(batch_sentence, tokenizer)\n",
        "          batch_sentence['text1'] = []\n",
        "          batch_sentence['text2'] = []\n",
        "\n",
        "          for k in range(len(list_similarity_score.tolist())):\n",
        "            similarity_score = list_similarity_score.tolist()[k]\n",
        "            if similarity_score == 1:\n",
        "              if word_and_prob['sentence'][k] not in small_synonym_dict.keys():\n",
        "                #if word_and_prob['word'][k] not in small_synonym_dict[word_and_prob['sentence'][k]].keys():\n",
        "                  small_synonym_dict[word_and_prob['sentence'][k]] = [word_and_prob['word'][k]]\n",
        "              else:\n",
        "                small_synonym_dict[word_and_prob['sentence'][k]].append(word_and_prob['word'][k])\n",
        "\n",
        "          word_and_prob['word'] = []\n",
        "          word_and_prob['sentence'] = []\n",
        "\n",
        "      if batch_size > 0:\n",
        "        batch_size = 0\n",
        "        list_similarity_score = infer1(batch_sentence, tokenizer)\n",
        "        batch_sentence['text1'] = []\n",
        "        batch_sentence['text2'] = []\n",
        "\n",
        "        for k in range(len(list_similarity_score.tolist())):\n",
        "          similarity_score = list_similarity_score.tolist()[k]\n",
        "          if similarity_score == 1:\n",
        "            if word_and_prob['sentence'][k] not in small_synonym_dict.keys():\n",
        "              #if word_and_prob['word'][k] not in small_synonym_dict[word_and_prob['sentence'][k]].keys():\n",
        "                small_synonym_dict[word_and_prob['sentence'][k]] = [word_and_prob['word'][k]]\n",
        "            else:\n",
        "              small_synonym_dict[word_and_prob['sentence'][k]].append(word_and_prob['word'][k])\n",
        "\n",
        "        word_and_prob['word'] = []\n",
        "        word_and_prob['sentence'] = []\n",
        "      synonym_dict[key] = small_synonym_dict\n",
        "\n",
        "  return synonym_dict"
      ],
      "metadata": {
        "id": "lzPrnJHzfEOP"
      },
      "execution_count": null,
      "outputs": []
    },
    {
      "cell_type": "markdown",
      "source": [
        "**Noun synonym**"
      ],
      "metadata": {
        "id": "lzSjzk0FeHHX"
      }
    },
    {
      "cell_type": "code",
      "source": [
        "import json\n",
        "bert_concat_noun_file = open('/content/drive/MyDrive/Final Project Zalo Internship/Final Project/Categorized vocab (No Trec57)/Bert Concatenation/Candidate/noun_synonym_candidate.json', encoding='utf-8')\n",
        "bert_concat_noun_list = json.loads(bert_concat_noun_file.read())"
      ],
      "metadata": {
        "id": "gq9Dfk2_eGd5"
      },
      "execution_count": null,
      "outputs": []
    },
    {
      "cell_type": "code",
      "source": [
        "bert_concat_noun_synonym_dict = findSynonymBertConcat(bert_concat_noun_list)"
      ],
      "metadata": {
        "colab": {
          "base_uri": "https://localhost:8080/"
        },
        "id": "HqQoJ_F7ech9",
        "outputId": "768c3fb0-7b4f-442a-8aee-b6692017ec3f"
      },
      "execution_count": null,
      "outputs": [
        {
          "output_type": "stream",
          "name": "stderr",
          "text": [
            "100%|██████████| 150/150 [11:23<00:00,  4.56s/it]\n"
          ]
        }
      ]
    },
    {
      "cell_type": "code",
      "source": [
        "with open(\"/content/drive/MyDrive/Final Project Zalo Internship/Final Project/Categorized vocab (No Trec57)/Bert Concatenation/Synonym/150_noun_synonym.json\",\"w\", encoding='utf-8') as jsonfile:\n",
        "    json.dump(bert_concat_noun_synonym_dict,jsonfile,ensure_ascii=False, indent=2)"
      ],
      "metadata": {
        "id": "An5qxC7TiEtJ"
      },
      "execution_count": null,
      "outputs": []
    },
    {
      "cell_type": "markdown",
      "source": [
        "**Verb synonym**"
      ],
      "metadata": {
        "id": "RKK3kNRrjhbV"
      }
    },
    {
      "cell_type": "code",
      "source": [
        "import json\n",
        "bert_concat_verb_file = open('/content/drive/MyDrive/Final Project Zalo Internship/Final Project/Categorized vocab (No Trec57)/Bert Concatenation/Candidate/verb_synonym_candidate.json', encoding='utf-8')\n",
        "bert_concat_verb_list = json.loads(bert_concat_verb_file.read())"
      ],
      "metadata": {
        "id": "O169D0ogjhL7"
      },
      "execution_count": null,
      "outputs": []
    },
    {
      "cell_type": "code",
      "source": [
        "bert_concat_verb_synonym_dict = findSynonymBertConcat(bert_concat_verb_list)"
      ],
      "metadata": {
        "colab": {
          "base_uri": "https://localhost:8080/"
        },
        "id": "-vN6S-jjeg44",
        "outputId": "2bd6f4b7-41d9-41c5-b2f4-77e863293b15"
      },
      "execution_count": null,
      "outputs": [
        {
          "output_type": "stream",
          "name": "stderr",
          "text": [
            "100%|██████████| 100/100 [18:14<00:00, 10.95s/it]\n"
          ]
        }
      ]
    },
    {
      "cell_type": "code",
      "source": [
        "with open(\"/content/drive/MyDrive/Final Project Zalo Internship/Final Project/Categorized vocab (No Trec57)/Bert Concatenation/Synonym/100_verb_synonym.json\",\"w\", encoding='utf-8') as jsonfile:\n",
        "    json.dump(bert_concat_verb_synonym_dict,jsonfile,ensure_ascii=False, indent=2)"
      ],
      "metadata": {
        "id": "36xdhIctjubg"
      },
      "execution_count": null,
      "outputs": []
    },
    {
      "cell_type": "markdown",
      "source": [
        "**Adj synonym**"
      ],
      "metadata": {
        "id": "Tl3_foMejyuZ"
      }
    },
    {
      "cell_type": "code",
      "source": [
        "import json\n",
        "bert_concat_adj_file = open('/content/drive/MyDrive/Final Project Zalo Internship/Final Project/Categorized vocab (No Trec57)/Bert Concatenation/Candidate/adj_synonym_candidate.json', encoding='utf-8')\n",
        "bert_concat_adj_list = json.loads(bert_concat_adj_file.read())"
      ],
      "metadata": {
        "id": "JZ9J6GfwjyUf"
      },
      "execution_count": null,
      "outputs": []
    },
    {
      "cell_type": "code",
      "source": [
        "bert_concat_adj_synonym_dict = findSynonymBertConcat(bert_concat_adj_list)"
      ],
      "metadata": {
        "colab": {
          "base_uri": "https://localhost:8080/"
        },
        "id": "3BZwwSwpj6Rz",
        "outputId": "077a6ebb-a2d4-458e-95bd-407d69aa978a"
      },
      "execution_count": null,
      "outputs": [
        {
          "output_type": "stream",
          "name": "stderr",
          "text": [
            "100%|██████████| 50/50 [01:31<00:00,  1.83s/it]\n"
          ]
        }
      ]
    },
    {
      "cell_type": "code",
      "source": [
        "with open(\"/content/drive/MyDrive/Final Project Zalo Internship/Final Project/Categorized vocab (No Trec57)/Bert Concatenation/Synonym/50_adj_synonym.json\",\"w\", encoding='utf-8') as jsonfile:\n",
        "    json.dump(bert_concat_adj_synonym_dict,jsonfile,ensure_ascii=False, indent=2)"
      ],
      "metadata": {
        "id": "q1jWST_Ij9fE"
      },
      "execution_count": null,
      "outputs": []
    },
    {
      "cell_type": "markdown",
      "source": [
        "# BERT Concatenation Occurrence"
      ],
      "metadata": {
        "id": "qdrjWwN8mSR6"
      }
    },
    {
      "cell_type": "markdown",
      "source": [
        "**Noun Occurrence**"
      ],
      "metadata": {
        "id": "tekTIFjxmfu-"
      }
    },
    {
      "cell_type": "code",
      "source": [
        "import json\n",
        "bert_concat_noun_synonym_file = open('/content/drive/MyDrive/Final Project Zalo Internship/Final Project/Categorized vocab (No Trec57)/Bert Concatenation/Synonym/150_noun_synonym.json', encoding='utf-8')\n",
        "bert_concat_noun_synonym_dict = json.loads(bert_concat_noun_synonym_file.read())"
      ],
      "metadata": {
        "id": "zOpuumChmfJG"
      },
      "execution_count": null,
      "outputs": []
    },
    {
      "cell_type": "code",
      "source": [
        "bert_concat_noun_occurrence = wordOccurrence(bert_concat_noun_synonym_dict)"
      ],
      "metadata": {
        "colab": {
          "base_uri": "https://localhost:8080/"
        },
        "id": "BXkTl2Q4mRyf",
        "outputId": "bfe64f8b-c89a-4a02-9bbb-2205c20fb63a"
      },
      "execution_count": null,
      "outputs": [
        {
          "output_type": "stream",
          "name": "stderr",
          "text": [
            "100%|██████████| 150/150 [00:00<00:00, 15523.34it/s]\n"
          ]
        }
      ]
    },
    {
      "cell_type": "code",
      "source": [
        "with open(\"/content/drive/MyDrive/Final Project Zalo Internship/Final Project/Categorized vocab (No Trec57)/Bert Concatenation/Occurrence/occurrence_of_150_noun.json\",\"w\", encoding='utf-8') as jsonfile:\n",
        "    json.dump(bert_concat_noun_occurrence,jsonfile,ensure_ascii=False, indent=2)"
      ],
      "metadata": {
        "id": "1saQF0Lvm8tg"
      },
      "execution_count": null,
      "outputs": []
    },
    {
      "cell_type": "code",
      "source": [
        "synonym_noun_sentence = wordOccurrenceSentence(bert_concat_noun_synonym_dict)"
      ],
      "metadata": {
        "colab": {
          "base_uri": "https://localhost:8080/"
        },
        "id": "lTAukch1nP-i",
        "outputId": "26ddd2c7-036d-4d4d-c7e9-d3982ba480c8"
      },
      "execution_count": null,
      "outputs": [
        {
          "output_type": "stream",
          "name": "stderr",
          "text": [
            "100%|██████████| 150/150 [00:00<00:00, 4495.66it/s]\n"
          ]
        }
      ]
    },
    {
      "cell_type": "code",
      "source": [
        "with open(\"/content/drive/MyDrive/Final Project Zalo Internship/Final Project/Categorized vocab (No Trec57)/Bert Concatenation/Occurrence/occurrence_150_noun_sentence.json.json\",\"w\", encoding='utf-8') as jsonfile:\n",
        "    json.dump(synonym_noun_sentence,jsonfile,ensure_ascii=False, indent=2)"
      ],
      "metadata": {
        "id": "e6-aw3_GnXBA"
      },
      "execution_count": null,
      "outputs": []
    },
    {
      "cell_type": "markdown",
      "source": [
        "**Verb Occurrence**"
      ],
      "metadata": {
        "id": "Ca_-fZtHnfc9"
      }
    },
    {
      "cell_type": "code",
      "source": [
        "import json\n",
        "bert_concat_verb_synonym_file = open('/content/drive/MyDrive/Final Project Zalo Internship/Final Project/Categorized vocab (No Trec57)/Bert Concatenation/Synonym/100_verb_synonym.json', encoding='utf-8')\n",
        "bert_concat_verb_synonym_dict = json.loads(bert_concat_verb_synonym_file.read())"
      ],
      "metadata": {
        "id": "5pJ78MZynrVR"
      },
      "execution_count": null,
      "outputs": []
    },
    {
      "cell_type": "code",
      "source": [
        "bert_concat_verb_occurrence = wordOccurrence(bert_concat_verb_synonym_dict)"
      ],
      "metadata": {
        "colab": {
          "base_uri": "https://localhost:8080/"
        },
        "id": "Z-GZQsTtnyHF",
        "outputId": "244be73e-3ff6-4db6-a8b4-6cd139888a1f"
      },
      "execution_count": null,
      "outputs": [
        {
          "output_type": "stream",
          "name": "stderr",
          "text": [
            "100%|██████████| 100/100 [00:00<00:00, 3556.88it/s]\n"
          ]
        }
      ]
    },
    {
      "cell_type": "code",
      "source": [
        "with open(\"/content/drive/MyDrive/Final Project Zalo Internship/Final Project/Categorized vocab (No Trec57)/Bert Concatenation/Occurrence/occurrence_of_100_verb.json\",\"w\", encoding='utf-8') as jsonfile:\n",
        "    json.dump(bert_concat_verb_occurrence,jsonfile,ensure_ascii=False, indent=2)"
      ],
      "metadata": {
        "id": "pzT84Xb8n1to"
      },
      "execution_count": null,
      "outputs": []
    },
    {
      "cell_type": "code",
      "source": [
        "synonym_verb_sentence = wordOccurrenceSentence(bert_concat_verb_synonym_dict)"
      ],
      "metadata": {
        "colab": {
          "base_uri": "https://localhost:8080/"
        },
        "id": "ZX6WruK_n8lT",
        "outputId": "714d457e-4f45-44c5-e8ae-7a555675c879"
      },
      "execution_count": null,
      "outputs": [
        {
          "output_type": "stream",
          "name": "stderr",
          "text": [
            "100%|██████████| 100/100 [00:00<00:00, 1794.34it/s]\n"
          ]
        }
      ]
    },
    {
      "cell_type": "code",
      "source": [
        "with open(\"/content/drive/MyDrive/Final Project Zalo Internship/Final Project/Categorized vocab (No Trec57)/Bert Concatenation/Occurrence/occurrence_100_verb_sentence.json.json\",\"w\", encoding='utf-8') as jsonfile:\n",
        "    json.dump(synonym_verb_sentence,jsonfile,ensure_ascii=False, indent=2)"
      ],
      "metadata": {
        "id": "aHRiiQsgoAGp"
      },
      "execution_count": null,
      "outputs": []
    },
    {
      "cell_type": "markdown",
      "source": [
        "**Adj Occurrence**"
      ],
      "metadata": {
        "id": "tN5wemw9oI1W"
      }
    },
    {
      "cell_type": "code",
      "source": [
        "import json\n",
        "bert_concat_adj_synonym_file = open('/content/drive/MyDrive/Final Project Zalo Internship/Final Project/Categorized vocab (No Trec57)/Bert Concatenation/Synonym/50_adj_synonym.json', encoding='utf-8')\n",
        "bert_concat_adj_synonym_dict = json.loads(bert_concat_adj_synonym_file.read())"
      ],
      "metadata": {
        "id": "HgOgBIn_oMi1"
      },
      "execution_count": null,
      "outputs": []
    },
    {
      "cell_type": "code",
      "source": [
        "bert_concat_adj_occurrence = wordOccurrence(bert_concat_adj_synonym_dict)"
      ],
      "metadata": {
        "colab": {
          "base_uri": "https://localhost:8080/"
        },
        "id": "tK8oIR5joSyB",
        "outputId": "ec0fc74d-f725-42c6-bf7d-f70437968d90"
      },
      "execution_count": null,
      "outputs": [
        {
          "output_type": "stream",
          "name": "stderr",
          "text": [
            "100%|██████████| 50/50 [00:00<00:00, 17524.46it/s]\n"
          ]
        }
      ]
    },
    {
      "cell_type": "code",
      "source": [
        "with open(\"/content/drive/MyDrive/Final Project Zalo Internship/Final Project/Categorized vocab (No Trec57)/Bert Concatenation/Occurrence/occurrence_of_50_adj.json\",\"w\", encoding='utf-8') as jsonfile:\n",
        "    json.dump(bert_concat_adj_occurrence,jsonfile,ensure_ascii=False, indent=2)"
      ],
      "metadata": {
        "id": "p2wLAjRIoWFu"
      },
      "execution_count": null,
      "outputs": []
    },
    {
      "cell_type": "code",
      "source": [
        "synonym_adj_sentence = wordOccurrenceSentence(bert_concat_adj_synonym_dict)"
      ],
      "metadata": {
        "colab": {
          "base_uri": "https://localhost:8080/"
        },
        "id": "TV3cNyQZobcX",
        "outputId": "65e09e1e-c405-4a56-e69b-21c06722c608"
      },
      "execution_count": null,
      "outputs": [
        {
          "output_type": "stream",
          "name": "stderr",
          "text": [
            "100%|██████████| 50/50 [00:00<00:00, 12329.66it/s]\n"
          ]
        }
      ]
    },
    {
      "cell_type": "code",
      "source": [
        "with open(\"/content/drive/MyDrive/Final Project Zalo Internship/Final Project/Categorized vocab (No Trec57)/Bert Concatenation/Occurrence/occurrence_50_adj_sentence.json.json\",\"w\", encoding='utf-8') as jsonfile:\n",
        "    json.dump(synonym_adj_sentence,jsonfile,ensure_ascii=False, indent=2)"
      ],
      "metadata": {
        "id": "6b93E1Mwoeit"
      },
      "execution_count": null,
      "outputs": []
    },
    {
      "cell_type": "markdown",
      "source": [
        "# BERT Partial Mask Candidate"
      ],
      "metadata": {
        "id": "b3TjfLdb1y6s"
      }
    },
    {
      "cell_type": "markdown",
      "source": [
        "**Load Model**"
      ],
      "metadata": {
        "id": "0U6OpCjd-8lR"
      }
    },
    {
      "cell_type": "code",
      "source": [
        "tokenizer = AutoTokenizer.from_pretrained('vinai/phobert-base')\n",
        "lm_model = RobertaForMaskedLM.from_pretrained('vinai/phobert-base')\n",
        "raw_model = AutoModel.from_pretrained('vinai/phobert-base', output_hidden_states=True, output_attentions=True)\n",
        "\n",
        "def load_transformers():\n",
        "    return tokenizer, lm_model, raw_model"
      ],
      "metadata": {
        "colab": {
          "base_uri": "https://localhost:8080/"
        },
        "id": "_4e0y6QL-7-z",
        "outputId": "ad316718-b012-4384-a2cd-2e22902f504e"
      },
      "execution_count": null,
      "outputs": [
        {
          "output_type": "stream",
          "name": "stderr",
          "text": [
            "Special tokens have been added in the vocabulary, make sure the associated word embeddings are fine-tuned or trained.\n",
            "Some weights of the model checkpoint at vinai/phobert-base were not used when initializing RobertaModel: ['lm_head.dense.bias', 'lm_head.decoder.bias', 'lm_head.layer_norm.bias', 'lm_head.bias', 'lm_head.layer_norm.weight', 'lm_head.dense.weight', 'lm_head.decoder.weight']\n",
            "- This IS expected if you are initializing RobertaModel from the checkpoint of a model trained on another task or with another architecture (e.g. initializing a BertForSequenceClassification model from a BertForPreTraining model).\n",
            "- This IS NOT expected if you are initializing RobertaModel from the checkpoint of a model that you expect to be exactly identical (initializing a BertForSequenceClassification model from a BertForSequenceClassification model).\n"
          ]
        }
      ]
    },
    {
      "cell_type": "markdown",
      "source": [
        "**Calculate Score**"
      ],
      "metadata": {
        "id": "1JvQaleN8UQZ"
      }
    },
    {
      "cell_type": "code",
      "source": [
        "#Calculates the similarity score\n",
        "def similarity_score(original_output, subst_output, k):\n",
        "    mask_idx = k\n",
        "    cos_sim = torch.nn.CosineSimilarity(dim=1, eps=1e-6)\n",
        "    weights = torch.div(torch.stack(list(original_output[3])).squeeze().sum(0).sum(0), (12 * 12.0))\n",
        "\n",
        "    #Calculate the similarittimey score\n",
        "    #SIM(x, x'; k) = sum_i^L [ w_{i,k} * cos(h(x_i|x), h(x_i'|x')) ]\n",
        "\n",
        "    #subst_output = raw_model(sent.reshape(1, sent.shape[0]))\n",
        "    suma = 0.0\n",
        "    sent_len = original_output[2][2].shape[1]\n",
        "\n",
        "    for token_idx in range(sent_len):\n",
        "        original_hidden = original_output[2]\n",
        "        subst_hidden = subst_output[2]\n",
        "\n",
        "        #Calculate the contextualized representation of the i-th word as a concatenation of RoBERTa's values in its last four layers\n",
        "        context_original = torch.cat( tuple( [original_hidden[hs_idx][:, token_idx, :] for hs_idx in [1, 2, 3, 4]] ), dim=1)\n",
        "        context_subst = torch.cat( tuple( [subst_hidden[hs_idx][:, token_idx, :] for hs_idx in [1, 2, 3, 4]] ), dim=1)\n",
        "        suma += weights[mask_idx][token_idx] * cos_sim(context_original, context_subst)\n",
        "\n",
        "    substitute_validation = suma\n",
        "    return substitute_validation\n",
        "\n",
        "\n",
        "#Calculates the proposal score\n",
        "def proposal_score(original_score, subst_scores):\n",
        "    subst_scores = torch.tensor(subst_scores)\n",
        "    return np.log( torch.div(subst_scores , (1.0 - original_score)) )\n",
        "\n",
        "\n",
        "#Calculates the proposal scores, substitute validation scores, and then the final score for each candidate word's fit as a substitution.\n",
        "def calc_scores(scr, sentences, original_output, original_score, mask_index):\n",
        "    #Get representations of all substitute sentences\n",
        "    _, _, raw_model = load_transformers()\n",
        "    subst_output = raw_model(sentences)\n",
        "\n",
        "    prop_score = proposal_score(original_score, scr)\n",
        "    substitute_validation = similarity_score(original_output, subst_output, mask_index)\n",
        "\n",
        "    alpha = 0.003\n",
        "    final_score = substitute_validation + alpha*prop_score\n",
        "\n",
        "    '''\n",
        "    print(\"Proposal score: \" + str(prop_score))\n",
        "    print(\"Subst. validation: \" + str(substitute_validation))\n",
        "    print(\"Final score for \" + str(final_score) + \"\\n\")\n",
        "    '''\n",
        "    return final_score, prop_score, substitute_validation"
      ],
      "metadata": {
        "id": "6wX_DFRY8Qyi"
      },
      "execution_count": null,
      "outputs": []
    },
    {
      "cell_type": "markdown",
      "source": [
        "**Check if candidate consists of number in it**"
      ],
      "metadata": {
        "id": "5crLGncR9uFC"
      }
    },
    {
      "cell_type": "code",
      "source": [
        "def has_numbers(inputString):\n",
        "    return any(char.isdigit() for char in inputString)"
      ],
      "metadata": {
        "id": "17P-j8ss9KOG"
      },
      "execution_count": null,
      "outputs": []
    },
    {
      "cell_type": "markdown",
      "source": [
        "**Function to find candidate**"
      ],
      "metadata": {
        "id": "uZ86Y0bp9zH2"
      }
    },
    {
      "cell_type": "code",
      "source": [
        "def bertPartialCandidate(sentence, target_word):\n",
        "  original_tokenizer = tokenizer.encode(\" \"+sentence, return_tensors=\"pt\")\n",
        "\n",
        "  original_output = raw_model(original_tokenizer)\n",
        "\n",
        "  inputs_embeds = original_output[2][1]\n",
        "\n",
        "  target_token_id = tokenizer.encode(\" \"+target_word)[1]\n",
        "  input_ids = tokenizer.encode(\" \"+sentence)\n",
        "  mask_position = input_ids.index(target_token_id)\n",
        "\n",
        "  embedding_dim = 768\n",
        "  dropout_percent = 0.3\n",
        "  dropout_amount = round(dropout_percent*embedding_dim)\n",
        "\n",
        "  all_scores = dict()\n",
        "  all_counts = dict()\n",
        "  num_iterations = 5\n",
        "  for it in range(num_iterations):\n",
        "      #Choose the weight indices to drop out.\n",
        "      dropout_indices = np.random.choice(embedding_dim, dropout_amount, replace=False)\n",
        "      inputs_embeds[0, mask_position, dropout_indices] = 0\n",
        "\n",
        "      #Pass the embeddings where masked word's embedding is partially droppped out to the model\n",
        "      with torch.no_grad():\n",
        "              output = lm_model(inputs_embeds=inputs_embeds)\n",
        "      logits = output[0].squeeze()\n",
        "\n",
        "      #Get top guesses\n",
        "      mask_logits = logits[mask_position]\n",
        "      top_tokens = torch.topk(mask_logits, k=50, dim=0)[1]\n",
        "      scores = torch.softmax(mask_logits, dim=0)[top_tokens].tolist()\n",
        "      words = [tokenizer.decode(i.item()).strip() for i in top_tokens]\n",
        "\n",
        "      original_score = torch.softmax(mask_logits, dim=0)[target_token_id]\n",
        "      sentences = list()\n",
        "\n",
        "      for i in range(len(words)):\n",
        "          subst_word = top_tokens[i]\n",
        "          input_ids[mask_position] = int(subst_word)\n",
        "          sentences.append(list(input_ids))\n",
        "\n",
        "      sentences = torch.tensor(sentences)\n",
        "\n",
        "      finals, props, subval = calc_scores(scores, sentences, original_output, original_score, mask_position)\n",
        "      finals = map(lambda f : float(f), finals)\n",
        "      props = map(lambda f : float(f), props)\n",
        "      subval = map(lambda f : float(f), subval)\n",
        "\n",
        "      #Update total scores and counts in the dictionary\n",
        "      res = dict(zip(words, finals))\n",
        "      for w, s in res.items():\n",
        "          all_scores[w] = all_scores[w] + s if w in all_scores.keys() else s\n",
        "          all_counts[w] = all_counts[w] + 1 if w in all_counts.keys() else 1\n",
        "\n",
        "  #Get the average of accumulated scores.\n",
        "  for w, s in all_scores.items():\n",
        "      all_scores[w] = s / all_counts[w]\n",
        "  words, finals = list(all_scores.keys()), list(all_scores.values())\n",
        "\n",
        "\n",
        "  #Sort the found substitutes by scores and print them out.\n",
        "  x = dict(zip(words, finals))\n",
        "  finish = list(sorted(x.items(), key=lambda item: item[1], reverse=True))[:50]\n",
        "\n",
        "  res = {}\n",
        "  finalDict = {}\n",
        "  for i in range(len(finish)):\n",
        "    if '@' in finish[i][0] or finish[i][0] in string.punctuation or '<' in finish[i][0] or has_numbers(finish[i][0]) or target_word == finish[i][0].replace(' ', ''):\n",
        "      continue\n",
        "    res[finish[i][0].replace(' ', '')] = finish[i][1]\n",
        "\n",
        "  finalDict['sentence'] = sentence\n",
        "  finalDict['target_word'] = target_word\n",
        "  finalDict['synonym_candidates'] = res\n",
        "\n",
        "  return finalDict"
      ],
      "metadata": {
        "id": "XEjset1K1yBN"
      },
      "execution_count": null,
      "outputs": []
    },
    {
      "cell_type": "code",
      "source": [
        "def findSynonymCandidate(data, keys):\n",
        "  final_dict = {}\n",
        "\n",
        "  for key in tqdm(keys):\n",
        "    for sentence in data[key]:\n",
        "      dict = bertPartialCandidate(sentence, key)\n",
        "      if dict['target_word'] not in final_dict.keys():\n",
        "        final_dict[dict['target_word']] = {dict['sentence']:dict['synonym_candidates']}\n",
        "      else:\n",
        "        final_dict[dict['target_word']][dict['sentence']] = dict['synonym_candidates']\n",
        "\n",
        "  return final_dict"
      ],
      "metadata": {
        "id": "MnZ07d0O-h25"
      },
      "execution_count": null,
      "outputs": []
    },
    {
      "cell_type": "markdown",
      "source": [
        "**Noun synonym candidate**"
      ],
      "metadata": {
        "id": "RHBfgCb5BK7-"
      }
    },
    {
      "cell_type": "code",
      "source": [
        "noun_and_question_file = open('/content/drive/MyDrive/Final Project Zalo Internship/Final Project/Categorized vocab (No Trec57)/Extracted Words and Questions/noun_and_question.json')\n",
        "noun_and_question_data = json.load(noun_and_question_file)"
      ],
      "metadata": {
        "id": "uhWo1wfyBIz7"
      },
      "execution_count": null,
      "outputs": []
    },
    {
      "cell_type": "code",
      "source": [
        "noun_candidate = findSynonymCandidate(noun_and_question_data, noun_keys)"
      ],
      "metadata": {
        "colab": {
          "base_uri": "https://localhost:8080/"
        },
        "id": "F2S3L0XtCrvD",
        "outputId": "481343e5-cf81-42fe-b24d-7d46c348a727"
      },
      "execution_count": null,
      "outputs": [
        {
          "output_type": "stream",
          "name": "stderr",
          "text": [
            "100%|██████████| 150/150 [1:24:36<00:00, 33.84s/it]\n"
          ]
        }
      ]
    },
    {
      "cell_type": "code",
      "source": [
        "with open(\"/content/drive/MyDrive/Final Project Zalo Internship/Final Project/Categorized vocab (No Trec57)/Bert Partial Mask/Candidate/noun_synonym_candidate.json\",\"w\", encoding='utf-8') as jsonfile:\n",
        "    json.dump(noun_candidate,jsonfile,ensure_ascii=False, indent=2)"
      ],
      "metadata": {
        "id": "XJrUr9_aMv9C"
      },
      "execution_count": null,
      "outputs": []
    },
    {
      "cell_type": "markdown",
      "source": [
        "**Verb synonym candidate**"
      ],
      "metadata": {
        "id": "QCq5fGx4NQuf"
      }
    },
    {
      "cell_type": "code",
      "source": [
        "verb_and_question_file = open('/content/drive/MyDrive/Final Project Zalo Internship/Final Project/Categorized vocab (No Trec57)/Extracted Words and Questions/verb_and_question.json')\n",
        "verb_and_question_data = json.load(verb_and_question_file)"
      ],
      "metadata": {
        "id": "Hw3iZyVVNTjM"
      },
      "execution_count": null,
      "outputs": []
    },
    {
      "cell_type": "code",
      "source": [
        "verb_candidate = findSynonymCandidate(verb_and_question_data, verb_keys)"
      ],
      "metadata": {
        "colab": {
          "base_uri": "https://localhost:8080/"
        },
        "id": "l8IsU_3wNVoW",
        "outputId": "0d013586-ebe9-43b3-a0e4-f9aa31c41dc0"
      },
      "execution_count": null,
      "outputs": [
        {
          "output_type": "stream",
          "name": "stderr",
          "text": [
            "100%|██████████| 100/100 [2:24:05<00:00, 86.45s/it] \n"
          ]
        }
      ]
    },
    {
      "cell_type": "code",
      "source": [
        "with open(\"/content/drive/MyDrive/Final Project Zalo Internship/Final Project/Categorized vocab (No Trec57)/Bert Partial Mask/Candidate/verb_synonym_candidate.json\",\"w\", encoding='utf-8') as jsonfile:\n",
        "    json.dump(verb_candidate,jsonfile,ensure_ascii=False, indent=2)"
      ],
      "metadata": {
        "id": "05Hx4d6uQZGa"
      },
      "execution_count": null,
      "outputs": []
    },
    {
      "cell_type": "markdown",
      "source": [
        "**Adj synonym candidate**"
      ],
      "metadata": {
        "id": "sRDNA165Qd3g"
      }
    },
    {
      "cell_type": "code",
      "source": [
        "adj_and_question_file = open('/content/drive/MyDrive/Final Project Zalo Internship/Final Project/Categorized vocab (No Trec57)/Extracted Words and Questions/adj_and_question.json')\n",
        "adj_and_question_data = json.load(adj_and_question_file)"
      ],
      "metadata": {
        "id": "_hRuC_CHQdKh"
      },
      "execution_count": null,
      "outputs": []
    },
    {
      "cell_type": "code",
      "source": [
        "adj_candidate = findSynonymCandidate(adj_and_question_data, adj_keys)"
      ],
      "metadata": {
        "colab": {
          "base_uri": "https://localhost:8080/"
        },
        "id": "lLGDUJbhQifS",
        "outputId": "e2f24a72-4dd7-4e7a-be41-f0d291e93c75"
      },
      "execution_count": null,
      "outputs": [
        {
          "output_type": "stream",
          "name": "stderr",
          "text": [
            "100%|██████████| 50/50 [09:41<00:00, 11.62s/it]\n"
          ]
        }
      ]
    },
    {
      "cell_type": "code",
      "source": [
        "with open(\"/content/drive/MyDrive/Final Project Zalo Internship/Final Project/Categorized vocab (No Trec57)/Bert Partial Mask/Candidate/adj_synonym_candidate.json\",\"w\", encoding='utf-8') as jsonfile:\n",
        "    json.dump(adj_candidate,jsonfile,ensure_ascii=False, indent=2)"
      ],
      "metadata": {
        "id": "9BQwvOZQQn63"
      },
      "execution_count": null,
      "outputs": []
    },
    {
      "cell_type": "markdown",
      "source": [
        "# BERT Partial Synonym"
      ],
      "metadata": {
        "id": "1p_zOexVsm_f"
      }
    },
    {
      "cell_type": "code",
      "source": [
        "def findSynonymBertPartial(pos_synonym_list):\n",
        "  synonym_dict = {}\n",
        "\n",
        "  batch_sentence = {\n",
        "      'text1': [],\n",
        "      'text2': []\n",
        "  }\n",
        "\n",
        "  word_and_prob = {\n",
        "      'word': [],\n",
        "      'sentence': []\n",
        "  }\n",
        "\n",
        "  batch_size = 0\n",
        "  cnt = 0\n",
        "\n",
        "  for key in tqdm(pos_synonym_list.keys()):\n",
        "    small_synonym_dict = {}\n",
        "    for sub_key in pos_synonym_list[key]:\n",
        "      listWord = list(pos_synonym_list[key][sub_key].keys())\n",
        "      for i in range(len(listWord)):\n",
        "        pos_synonym_word = listWord[i]\n",
        "\n",
        "        sentence = sub_key.replace(key, pos_synonym_word)\n",
        "\n",
        "        if batch_size < 16:\n",
        "          batch_sentence['text1'].append(sub_key)\n",
        "          batch_sentence['text2'].append(sentence)\n",
        "          word_and_prob['word'].append(pos_synonym_word)\n",
        "          word_and_prob['sentence'].append(sub_key)\n",
        "\n",
        "          batch_size += 1\n",
        "          cnt += 1\n",
        "        else:\n",
        "          batch_size = 0\n",
        "          list_similarity_score = infer1(batch_sentence, tokenizer)\n",
        "          batch_sentence['text1'] = []\n",
        "          batch_sentence['text2'] = []\n",
        "\n",
        "          for k in range(len(list_similarity_score.tolist())):\n",
        "            similarity_score = list_similarity_score.tolist()[k]\n",
        "            if similarity_score == 1:\n",
        "              if word_and_prob['sentence'][k] not in small_synonym_dict.keys():\n",
        "                small_synonym_dict[word_and_prob['sentence'][k]] = [word_and_prob['word'][k]]\n",
        "              else:\n",
        "                small_synonym_dict[word_and_prob['sentence'][k]].append(word_and_prob['word'][k])\n",
        "\n",
        "          word_and_prob['word'] = []\n",
        "          word_and_prob['sentence'] = []\n",
        "\n",
        "      if batch_size > 0:\n",
        "        batch_size = 0\n",
        "        list_similarity_score = infer1(batch_sentence, tokenizer)\n",
        "        batch_sentence['text1'] = []\n",
        "        batch_sentence['text2'] = []\n",
        "\n",
        "        for k in range(len(list_similarity_score.tolist())):\n",
        "          similarity_score = list_similarity_score.tolist()[k]\n",
        "          if similarity_score == 1:\n",
        "            if word_and_prob['sentence'][k] not in small_synonym_dict.keys():\n",
        "              small_synonym_dict[word_and_prob['sentence'][k]] = [word_and_prob['word'][k]]\n",
        "            else:\n",
        "              small_synonym_dict[word_and_prob['sentence'][k]].append(word_and_prob['word'][k])\n",
        "\n",
        "        word_and_prob['word'] = []\n",
        "        word_and_prob['sentence'] = []\n",
        "      synonym_dict[key] = small_synonym_dict\n",
        "\n",
        "  return synonym_dict"
      ],
      "metadata": {
        "id": "T1WOj0EisvUi"
      },
      "execution_count": null,
      "outputs": []
    },
    {
      "cell_type": "markdown",
      "source": [
        "**Noun Synonym**"
      ],
      "metadata": {
        "id": "dvBxO1dQvKU7"
      }
    },
    {
      "cell_type": "code",
      "source": [
        "import json\n",
        "bert_partial_noun_file = open('/content/drive/MyDrive/Final Project Zalo Internship/Final Project/Categorized vocab (No Trec57)/Bert Partial Mask/Candidate/noun_synonym_candidate.json', encoding='utf-8')\n",
        "bert_partial_noun_list = json.loads(bert_partial_noun_file.read())"
      ],
      "metadata": {
        "id": "VnuaCyufvJyc"
      },
      "execution_count": null,
      "outputs": []
    },
    {
      "cell_type": "code",
      "source": [
        "bert_partial_noun_synonym_dict = findSynonymBertPartial(bert_partial_noun_list)"
      ],
      "metadata": {
        "colab": {
          "base_uri": "https://localhost:8080/"
        },
        "id": "4tEVoaeXvUc4",
        "outputId": "8ec87634-50a9-42e2-f567-aa54bef3da1d"
      },
      "execution_count": null,
      "outputs": [
        {
          "output_type": "stream",
          "name": "stderr",
          "text": [
            "100%|██████████| 150/150 [10:06<00:00,  4.04s/it]\n"
          ]
        }
      ]
    },
    {
      "cell_type": "code",
      "source": [
        "with open(\"/content/drive/MyDrive/Final Project Zalo Internship/Final Project/Categorized vocab (No Trec57)/Bert Partial Mask/Synonym/150_noun_synonym.json\",\"w\", encoding='utf-8') as jsonfile:\n",
        "    json.dump(bert_partial_noun_synonym_dict,jsonfile,ensure_ascii=False, indent=2)"
      ],
      "metadata": {
        "id": "8z9QaxeSvZ9H"
      },
      "execution_count": null,
      "outputs": []
    },
    {
      "cell_type": "markdown",
      "source": [
        "**Verb Synonym**"
      ],
      "metadata": {
        "id": "7bTGfpz4vgCu"
      }
    },
    {
      "cell_type": "code",
      "source": [
        "import json\n",
        "bert_partial_verb_file = open('/content/drive/MyDrive/Final Project Zalo Internship/Final Project/Categorized vocab (No Trec57)/Bert Partial Mask/Candidate/verb_synonym_candidate.json', encoding='utf-8')\n",
        "bert_partial_verb_list = json.loads(bert_partial_verb_file.read())"
      ],
      "metadata": {
        "id": "daiG3kaKvfpZ"
      },
      "execution_count": null,
      "outputs": []
    },
    {
      "cell_type": "code",
      "source": [
        "bert_partial_verb_synonym_dict = findSynonymBertPartial(bert_partial_verb_list)"
      ],
      "metadata": {
        "colab": {
          "base_uri": "https://localhost:8080/"
        },
        "id": "Lsc5zn_0vpbx",
        "outputId": "c740f494-845b-449e-94bf-8431e789ddb1"
      },
      "execution_count": null,
      "outputs": [
        {
          "output_type": "stream",
          "name": "stderr",
          "text": [
            "100%|██████████| 100/100 [15:40<00:00,  9.40s/it]\n"
          ]
        }
      ]
    },
    {
      "cell_type": "code",
      "source": [
        "with open(\"/content/drive/MyDrive/Final Project Zalo Internship/Final Project/Categorized vocab (No Trec57)/Bert Partial Mask/Synonym/100_verb_synonym.json\",\"w\", encoding='utf-8') as jsonfile:\n",
        "    json.dump(bert_partial_verb_synonym_dict,jsonfile,ensure_ascii=False, indent=2)"
      ],
      "metadata": {
        "id": "9TKv6pRuvtEp"
      },
      "execution_count": null,
      "outputs": []
    },
    {
      "cell_type": "markdown",
      "source": [
        "**Adj Synonym**"
      ],
      "metadata": {
        "id": "P7nIS1-fvx3u"
      }
    },
    {
      "cell_type": "code",
      "source": [
        "import json\n",
        "bert_partial_adj_file = open('/content/drive/MyDrive/Final Project Zalo Internship/Final Project/Categorized vocab (No Trec57)/Bert Partial Mask/Candidate/adj_synonym_candidate.json', encoding='utf-8')\n",
        "bert_partial_adj_list = json.loads(bert_partial_adj_file.read())"
      ],
      "metadata": {
        "id": "8VH0Ic6KvxhR"
      },
      "execution_count": null,
      "outputs": []
    },
    {
      "cell_type": "code",
      "source": [
        "bert_partial_adj_synonym_dict = findSynonymBertPartial(bert_partial_adj_list)"
      ],
      "metadata": {
        "colab": {
          "base_uri": "https://localhost:8080/"
        },
        "id": "mNNwyd-cv3w5",
        "outputId": "62ba59c8-d4ce-4e4c-e56f-549b1b1c08a6"
      },
      "execution_count": null,
      "outputs": [
        {
          "output_type": "stream",
          "name": "stderr",
          "text": [
            "100%|██████████| 50/50 [01:18<00:00,  1.57s/it]\n"
          ]
        }
      ]
    },
    {
      "cell_type": "code",
      "source": [
        "with open(\"/content/drive/MyDrive/Final Project Zalo Internship/Final Project/Categorized vocab (No Trec57)/Bert Partial Mask/Synonym/50_adj_synonym.json\",\"w\", encoding='utf-8') as jsonfile:\n",
        "    json.dump(bert_partial_adj_synonym_dict,jsonfile,ensure_ascii=False, indent=2)"
      ],
      "metadata": {
        "id": "XH2uG2Vbv7wW"
      },
      "execution_count": null,
      "outputs": []
    },
    {
      "cell_type": "markdown",
      "source": [
        "# BERT Partial Occurrence"
      ],
      "metadata": {
        "id": "u8MHIEYCwIHA"
      }
    },
    {
      "cell_type": "markdown",
      "source": [
        "**Noun**"
      ],
      "metadata": {
        "id": "GZQdEWa4xhps"
      }
    },
    {
      "cell_type": "code",
      "source": [
        "import json\n",
        "bert_partial_noun_synonym_file = open('/content/drive/MyDrive/Final Project Zalo Internship/Final Project/Categorized vocab (No Trec57)/Bert Partial Mask/Synonym/150_noun_synonym.json', encoding='utf-8')\n",
        "bert_partial_noun_synonym_dict = json.loads(bert_partial_noun_synonym_file.read())"
      ],
      "metadata": {
        "id": "2T7Bj130wMDb"
      },
      "execution_count": null,
      "outputs": []
    },
    {
      "cell_type": "code",
      "source": [
        "bert_partial_noun_occurrence = wordOccurrence(bert_partial_noun_synonym_dict)"
      ],
      "metadata": {
        "colab": {
          "base_uri": "https://localhost:8080/"
        },
        "id": "NFlL2G2AxNxv",
        "outputId": "2c5030b2-f3c2-476f-d77b-0e7f75e4afa4"
      },
      "execution_count": null,
      "outputs": [
        {
          "output_type": "stream",
          "name": "stderr",
          "text": [
            "100%|██████████| 150/150 [00:00<00:00, 13365.60it/s]\n"
          ]
        }
      ]
    },
    {
      "cell_type": "code",
      "source": [
        "with open(\"/content/drive/MyDrive/Final Project Zalo Internship/Final Project/Categorized vocab (No Trec57)/Bert Partial Mask/Occurrence/occurrence_of_150_noun.json\",\"w\", encoding='utf-8') as jsonfile:\n",
        "    json.dump(bert_partial_noun_occurrence,jsonfile,ensure_ascii=False, indent=2)"
      ],
      "metadata": {
        "id": "iQ976H7AxRo1"
      },
      "execution_count": null,
      "outputs": []
    },
    {
      "cell_type": "code",
      "source": [
        "synonym_noun_sentence = wordOccurrenceSentence(bert_partial_noun_synonym_dict)"
      ],
      "metadata": {
        "colab": {
          "base_uri": "https://localhost:8080/"
        },
        "id": "Ei95H_1GxXpe",
        "outputId": "9b0fa348-3e3d-4bc2-8bb3-5206f555f912"
      },
      "execution_count": null,
      "outputs": [
        {
          "output_type": "stream",
          "name": "stderr",
          "text": [
            "100%|██████████| 150/150 [00:00<00:00, 4555.59it/s]\n"
          ]
        }
      ]
    },
    {
      "cell_type": "code",
      "source": [
        "with open(\"/content/drive/MyDrive/Final Project Zalo Internship/Final Project/Categorized vocab (No Trec57)/Bert Partial Mask/Occurrence/occurrence_150_noun_sentence.json.json\",\"w\", encoding='utf-8') as jsonfile:\n",
        "    json.dump(synonym_noun_sentence,jsonfile,ensure_ascii=False, indent=2)"
      ],
      "metadata": {
        "id": "RuQer-MHxbEE"
      },
      "execution_count": null,
      "outputs": []
    },
    {
      "cell_type": "markdown",
      "source": [
        "**Verb**"
      ],
      "metadata": {
        "id": "bhIds3CoxmDz"
      }
    },
    {
      "cell_type": "code",
      "source": [
        "import json\n",
        "bert_partial_verb_synonym_file = open('/content/drive/MyDrive/Final Project Zalo Internship/Final Project/Categorized vocab (No Trec57)/Bert Partial Mask/Synonym/100_verb_synonym.json', encoding='utf-8')\n",
        "bert_partial_verb_synonym_dict = json.loads(bert_partial_verb_synonym_file.read())"
      ],
      "metadata": {
        "id": "iI7jwVPKxoWX"
      },
      "execution_count": null,
      "outputs": []
    },
    {
      "cell_type": "code",
      "source": [
        "bert_partial_verb_occurrence = wordOccurrence(bert_partial_verb_synonym_dict)"
      ],
      "metadata": {
        "colab": {
          "base_uri": "https://localhost:8080/"
        },
        "id": "8ZG-uzifxvdh",
        "outputId": "649caf3c-88aa-4622-93c9-853e1b4b0af1"
      },
      "execution_count": null,
      "outputs": [
        {
          "output_type": "stream",
          "name": "stderr",
          "text": [
            "100%|██████████| 100/100 [00:00<00:00, 3980.25it/s]\n"
          ]
        }
      ]
    },
    {
      "cell_type": "code",
      "source": [
        "with open(\"/content/drive/MyDrive/Final Project Zalo Internship/Final Project/Categorized vocab (No Trec57)/Bert Partial Mask/Occurrence/occurrence_of_100_verb.json\",\"w\", encoding='utf-8') as jsonfile:\n",
        "    json.dump(bert_partial_verb_occurrence,jsonfile,ensure_ascii=False, indent=2)"
      ],
      "metadata": {
        "id": "wQQfQJyfxyvE"
      },
      "execution_count": null,
      "outputs": []
    },
    {
      "cell_type": "code",
      "source": [
        "synonym_verb_sentence = wordOccurrenceSentence(bert_partial_verb_synonym_dict)"
      ],
      "metadata": {
        "colab": {
          "base_uri": "https://localhost:8080/"
        },
        "id": "jlX_E_y7x4H-",
        "outputId": "ab1eab03-d556-4aeb-a510-036c95f88380"
      },
      "execution_count": null,
      "outputs": [
        {
          "output_type": "stream",
          "name": "stderr",
          "text": [
            "100%|██████████| 100/100 [00:00<00:00, 2111.73it/s]\n"
          ]
        }
      ]
    },
    {
      "cell_type": "code",
      "source": [
        "with open(\"/content/drive/MyDrive/Final Project Zalo Internship/Final Project/Categorized vocab (No Trec57)/Bert Partial Mask/Occurrence/occurrence_100_verb_sentence.json.json\",\"w\", encoding='utf-8') as jsonfile:\n",
        "    json.dump(synonym_verb_sentence,jsonfile,ensure_ascii=False, indent=2)"
      ],
      "metadata": {
        "id": "6rY1uPcKx77i"
      },
      "execution_count": null,
      "outputs": []
    },
    {
      "cell_type": "markdown",
      "source": [
        "**Adj**"
      ],
      "metadata": {
        "id": "uP6mtgzxyDhK"
      }
    },
    {
      "cell_type": "code",
      "source": [
        "import json\n",
        "bert_partial_adj_synonym_file = open('/content/drive/MyDrive/Final Project Zalo Internship/Final Project/Categorized vocab (No Trec57)/Bert Partial Mask/Synonym/50_adj_synonym.json', encoding='utf-8')\n",
        "bert_partial_adj_synonym_dict = json.loads(bert_partial_adj_synonym_file.read())"
      ],
      "metadata": {
        "id": "dPewsQBvynNB"
      },
      "execution_count": null,
      "outputs": []
    },
    {
      "cell_type": "code",
      "source": [
        "bert_partial_adj_occurrence = wordOccurrence(bert_partial_adj_synonym_dict)"
      ],
      "metadata": {
        "colab": {
          "base_uri": "https://localhost:8080/"
        },
        "id": "Ln35eAPMyDOH",
        "outputId": "ef8c4d76-5b17-4070-e958-c5ef34de27f8"
      },
      "execution_count": null,
      "outputs": [
        {
          "output_type": "stream",
          "name": "stderr",
          "text": [
            "100%|██████████| 50/50 [00:00<00:00, 28513.28it/s]\n"
          ]
        }
      ]
    },
    {
      "cell_type": "code",
      "source": [
        "with open(\"/content/drive/MyDrive/Final Project Zalo Internship/Final Project/Categorized vocab (No Trec57)/Bert Partial Mask/Occurrence/occurrence_of_50_adj.json\",\"w\", encoding='utf-8') as jsonfile:\n",
        "    json.dump(bert_partial_adj_occurrence,jsonfile,ensure_ascii=False, indent=2)"
      ],
      "metadata": {
        "id": "4kJxWDdyyxMC"
      },
      "execution_count": null,
      "outputs": []
    },
    {
      "cell_type": "code",
      "source": [
        "synonym_adj_sentence = wordOccurrenceSentence(bert_partial_adj_synonym_dict)"
      ],
      "metadata": {
        "colab": {
          "base_uri": "https://localhost:8080/"
        },
        "id": "i3FgfeeAy6YM",
        "outputId": "3d9ca9c3-4c0b-40fd-a9ec-5a34a4dc1667"
      },
      "execution_count": null,
      "outputs": [
        {
          "output_type": "stream",
          "name": "stderr",
          "text": [
            "100%|██████████| 50/50 [00:00<00:00, 8493.59it/s]\n"
          ]
        }
      ]
    },
    {
      "cell_type": "code",
      "source": [
        "with open(\"/content/drive/MyDrive/Final Project Zalo Internship/Final Project/Categorized vocab (No Trec57)/Bert Partial Mask/Occurrence/occurrence_50_adj_sentence.json.json\",\"w\", encoding='utf-8') as jsonfile:\n",
        "    json.dump(synonym_adj_sentence,jsonfile,ensure_ascii=False, indent=2)"
      ],
      "metadata": {
        "id": "Viw8Y-C8y-le"
      },
      "execution_count": null,
      "outputs": []
    },
    {
      "cell_type": "markdown",
      "source": [
        "# Function to join BERT to Wordnet"
      ],
      "metadata": {
        "id": "HLHVV3FhuhsB"
      }
    },
    {
      "cell_type": "code",
      "source": [
        "def joinBertBaseline(bert_data, wordnet_data):\n",
        "  res = {}\n",
        "  for key in wordnet_data.keys():\n",
        "    tokenzied_key = key.replace(' ', '_')\n",
        "    if tokenzied_key in bert_data.keys():\n",
        "      res[key] = {\"wordnet\": wordnet_data[key], \"bert\": bert_data[tokenzied_key]}\n",
        "  return res"
      ],
      "metadata": {
        "id": "eVz4FyJuqUyD"
      },
      "execution_count": null,
      "outputs": []
    },
    {
      "cell_type": "markdown",
      "source": [
        "# Load Wordnet Data"
      ],
      "metadata": {
        "id": "3cfGWr6tuvMj"
      }
    },
    {
      "cell_type": "code",
      "source": [
        "noun_wordnet_file = open('/content/drive/MyDrive/Final Project Zalo Internship/Final Project/Categorized vocab (No Trec57)/Wordnet Synonym/wordnet_noun_synonym.json')\n",
        "noun_wordnet_data = json.load(noun_wordnet_file)"
      ],
      "metadata": {
        "id": "uQsndwo-qE-T"
      },
      "execution_count": null,
      "outputs": []
    },
    {
      "cell_type": "code",
      "source": [
        "verb_wordnet_file = open('/content/drive/MyDrive/Final Project Zalo Internship/Final Project/Categorized vocab (No Trec57)/Wordnet Synonym/wordnet_verb_synonym.json')\n",
        "verb_wordnet_data = json.load(verb_wordnet_file)"
      ],
      "metadata": {
        "id": "esbSO5IPwfZ9"
      },
      "execution_count": null,
      "outputs": []
    },
    {
      "cell_type": "code",
      "source": [
        "adj_wordnet_file = open('/content/drive/MyDrive/Final Project Zalo Internship/Final Project/Categorized vocab (No Trec57)/Wordnet Synonym/wordnet_adj_synonym.json')\n",
        "adj_wordnet_data = json.load(adj_wordnet_file)"
      ],
      "metadata": {
        "id": "23Zo9pyUwP2o"
      },
      "execution_count": null,
      "outputs": []
    },
    {
      "cell_type": "markdown",
      "source": [
        "# Wordnet and Bert Baseline"
      ],
      "metadata": {
        "id": "EdVujSTWpBtX"
      }
    },
    {
      "cell_type": "markdown",
      "source": [
        "**Noun**"
      ],
      "metadata": {
        "id": "AoluktLRqCd5"
      }
    },
    {
      "cell_type": "code",
      "source": [
        "noun_data_file = open('/content/drive/MyDrive/Final Project Zalo Internship/Final Project/Categorized vocab (No Trec57)/Bert Full Mask/Occurrence/occurrence_150_noun_sentence.json')\n",
        "bert_noun_data = json.load(noun_data_file)"
      ],
      "metadata": {
        "id": "7oYGqOq_pNWB"
      },
      "execution_count": null,
      "outputs": []
    },
    {
      "cell_type": "code",
      "source": [
        "noun_bert_wordnet = joinBertBaseline(bert_noun_data, noun_wordnet_data)"
      ],
      "metadata": {
        "id": "ppzsL8HJq2pE"
      },
      "execution_count": null,
      "outputs": []
    },
    {
      "cell_type": "code",
      "source": [
        "with open(\"/content/drive/MyDrive/Final Project Zalo Internship/Final Project/Categorized vocab (No Trec57)/Wordnet and Bert Baseline/noun_bert_wordnet.json\",\"w\", encoding='utf-8') as jsonfile:\n",
        "    json.dump(noun_bert_wordnet,jsonfile,ensure_ascii=False, indent=2)"
      ],
      "metadata": {
        "id": "bTbcFz7HvCYu"
      },
      "execution_count": null,
      "outputs": []
    },
    {
      "cell_type": "markdown",
      "source": [
        "**Verb**"
      ],
      "metadata": {
        "id": "zB8x55Z9vlSF"
      }
    },
    {
      "cell_type": "code",
      "source": [
        "verb_data_file = open('/content/drive/MyDrive/Final Project Zalo Internship/Final Project/Categorized vocab (No Trec57)/Bert Full Mask/Occurrence/occurrence_100_verb_sentence.json')\n",
        "bert_verb_data = json.load(verb_data_file)"
      ],
      "metadata": {
        "id": "Hdj3WzFPvn4j"
      },
      "execution_count": null,
      "outputs": []
    },
    {
      "cell_type": "code",
      "source": [
        "verb_bert_wordnet = joinBertBaseline(bert_verb_data, verb_wordnet_data)"
      ],
      "metadata": {
        "id": "xOkU_cc4pVcm"
      },
      "execution_count": null,
      "outputs": []
    },
    {
      "cell_type": "code",
      "source": [
        "with open(\"/content/drive/MyDrive/Final Project Zalo Internship/Final Project/Categorized vocab (No Trec57)/Wordnet and Bert Baseline/verb_bert_wordnet.json\",\"w\", encoding='utf-8') as jsonfile:\n",
        "    json.dump(verb_bert_wordnet,jsonfile,ensure_ascii=False, indent=2)"
      ],
      "metadata": {
        "id": "Sj_DRHdtv9af"
      },
      "execution_count": null,
      "outputs": []
    },
    {
      "cell_type": "markdown",
      "source": [
        "**Adj**"
      ],
      "metadata": {
        "id": "Vjf8y7ZewCjN"
      }
    },
    {
      "cell_type": "code",
      "source": [
        "adj_data_file = open('/content/drive/MyDrive/Final Project Zalo Internship/Final Project/Categorized vocab (No Trec57)/Bert Full Mask/Occurrence/occurrence_50_adj_sentence.json')\n",
        "bert_adj_data = json.load(adj_data_file)"
      ],
      "metadata": {
        "id": "ZCeeviVZwBlU"
      },
      "execution_count": null,
      "outputs": []
    },
    {
      "cell_type": "code",
      "source": [
        "adj_bert_wordnet = joinBertBaseline(bert_adj_data, adj_wordnet_data)"
      ],
      "metadata": {
        "id": "jrtyYFbGwViu"
      },
      "execution_count": null,
      "outputs": []
    },
    {
      "cell_type": "code",
      "source": [
        "with open(\"/content/drive/MyDrive/Final Project Zalo Internship/Final Project/Categorized vocab (No Trec57)/Wordnet and Bert Baseline/adj_bert_wordnet.json\",\"w\", encoding='utf-8') as jsonfile:\n",
        "    json.dump(adj_bert_wordnet,jsonfile,ensure_ascii=False, indent=2)"
      ],
      "metadata": {
        "id": "rBsBs0SGwsxb"
      },
      "execution_count": null,
      "outputs": []
    },
    {
      "cell_type": "markdown",
      "source": [
        "# Wordnet and BERT Concatenation"
      ],
      "metadata": {
        "id": "WZNjU2pQu6C2"
      }
    },
    {
      "cell_type": "markdown",
      "source": [
        "**Noun**"
      ],
      "metadata": {
        "id": "W7OIw0rgvIZM"
      }
    },
    {
      "cell_type": "code",
      "source": [
        "noun_data_file = open('/content/drive/MyDrive/Final Project Zalo Internship/Final Project/Categorized vocab (No Trec57)/Bert Concatenation/Occurrence/occurrence_150_noun_sentence.json.json')\n",
        "bert_noun_data = json.load(noun_data_file)"
      ],
      "metadata": {
        "id": "lNvxVbB7vHwm"
      },
      "execution_count": null,
      "outputs": []
    },
    {
      "cell_type": "code",
      "source": [
        "noun_bert_wordnet = joinBertBaseline(bert_noun_data, noun_wordnet_data)"
      ],
      "metadata": {
        "id": "Ya4Liao3viKV"
      },
      "execution_count": null,
      "outputs": []
    },
    {
      "cell_type": "code",
      "source": [
        "with open(\"/content/drive/MyDrive/Final Project Zalo Internship/Final Project/Categorized vocab (No Trec57)/Wordnet and Bert Concatenation/noun_bert_wordnet.json\",\"w\", encoding='utf-8') as jsonfile:\n",
        "    json.dump(noun_bert_wordnet,jsonfile,ensure_ascii=False, indent=2)"
      ],
      "metadata": {
        "id": "0bFJIyJCvoqW"
      },
      "execution_count": null,
      "outputs": []
    },
    {
      "cell_type": "markdown",
      "source": [
        "**Verb**"
      ],
      "metadata": {
        "id": "1gVnQKq3v6aW"
      }
    },
    {
      "cell_type": "code",
      "source": [
        "verb_data_file = open('/content/drive/MyDrive/Final Project Zalo Internship/Final Project/Categorized vocab (No Trec57)/Bert Concatenation/Occurrence/occurrence_100_verb_sentence.json.json')\n",
        "bert_verb_data = json.load(verb_data_file)"
      ],
      "metadata": {
        "id": "snHjyezOv9g2"
      },
      "execution_count": null,
      "outputs": []
    },
    {
      "cell_type": "code",
      "source": [
        "verb_bert_wordnet = joinBertBaseline(bert_verb_data, verb_wordnet_data)"
      ],
      "metadata": {
        "id": "Z3RHfvSJwGBD"
      },
      "execution_count": null,
      "outputs": []
    },
    {
      "cell_type": "code",
      "source": [
        "with open(\"/content/drive/MyDrive/Final Project Zalo Internship/Final Project/Categorized vocab (No Trec57)/Wordnet and Bert Concatenation/verb_bert_wordnet.json\",\"w\", encoding='utf-8') as jsonfile:\n",
        "    json.dump(verb_bert_wordnet,jsonfile,ensure_ascii=False, indent=2)"
      ],
      "metadata": {
        "id": "4egqPE_NwJ4x"
      },
      "execution_count": null,
      "outputs": []
    },
    {
      "cell_type": "markdown",
      "source": [
        "**Adj**"
      ],
      "metadata": {
        "id": "OatpiSm6wOaX"
      }
    },
    {
      "cell_type": "code",
      "source": [
        "adj_data_file = open('/content/drive/MyDrive/Final Project Zalo Internship/Final Project/Categorized vocab (No Trec57)/Bert Concatenation/Occurrence/occurrence_50_adj_sentence.json.json')\n",
        "bert_adj_data = json.load(adj_data_file)"
      ],
      "metadata": {
        "id": "iPyTy_DOwODb"
      },
      "execution_count": null,
      "outputs": []
    },
    {
      "cell_type": "code",
      "source": [
        "adj_bert_wordnet = joinBertBaseline(bert_adj_data, adj_wordnet_data)"
      ],
      "metadata": {
        "id": "l1KubjQqwaTJ"
      },
      "execution_count": null,
      "outputs": []
    },
    {
      "cell_type": "code",
      "source": [
        "with open(\"/content/drive/MyDrive/Final Project Zalo Internship/Final Project/Categorized vocab (No Trec57)/Wordnet and Bert Concatenation/adj_bert_wordnet.json\",\"w\", encoding='utf-8') as jsonfile:\n",
        "    json.dump(adj_bert_wordnet,jsonfile,ensure_ascii=False, indent=2)"
      ],
      "metadata": {
        "id": "2bg9HeJwwdUG"
      },
      "execution_count": null,
      "outputs": []
    },
    {
      "cell_type": "markdown",
      "source": [
        "# Wordnet and Bert Partial Mask"
      ],
      "metadata": {
        "id": "lggfAad8Ff64"
      }
    },
    {
      "cell_type": "markdown",
      "source": [
        "**Noun**"
      ],
      "metadata": {
        "id": "zkjgSKNaF3o_"
      }
    },
    {
      "cell_type": "code",
      "source": [
        "noun_data_file = open('/content/drive/MyDrive/Final Project Zalo Internship/Final Project/Categorized vocab (No Trec57)/Bert Partial Mask/Occurrence/occurrence_150_noun_sentence.json.json')\n",
        "bert_noun_data = json.load(noun_data_file)"
      ],
      "metadata": {
        "id": "8beT-qG2F3FJ"
      },
      "execution_count": null,
      "outputs": []
    },
    {
      "cell_type": "code",
      "source": [
        "noun_bert_wordnet = joinBertBaseline(bert_noun_data, noun_wordnet_data)"
      ],
      "metadata": {
        "id": "3F6c_IH7F_DN"
      },
      "execution_count": null,
      "outputs": []
    },
    {
      "cell_type": "code",
      "source": [
        "with open(\"/content/drive/MyDrive/Final Project Zalo Internship/Final Project/Categorized vocab (No Trec57)/Wordnet and Bert Partial Mask/noun_bert_wordnet.json\",\"w\", encoding='utf-8') as jsonfile:\n",
        "    json.dump(noun_bert_wordnet,jsonfile,ensure_ascii=False, indent=2)"
      ],
      "metadata": {
        "id": "8N1WHIveGEur"
      },
      "execution_count": null,
      "outputs": []
    },
    {
      "cell_type": "markdown",
      "source": [
        "**Verb**"
      ],
      "metadata": {
        "id": "nwQ4FhTDGJt2"
      }
    },
    {
      "cell_type": "code",
      "source": [
        "verb_data_file = open('/content/drive/MyDrive/Final Project Zalo Internship/Final Project/Categorized vocab (No Trec57)/Bert Partial Mask/Occurrence/occurrence_100_verb_sentence.json.json')\n",
        "bert_verb_data = json.load(verb_data_file)"
      ],
      "metadata": {
        "id": "XWybsthZGJQf"
      },
      "execution_count": null,
      "outputs": []
    },
    {
      "cell_type": "code",
      "source": [
        "verb_bert_wordnet = joinBertBaseline(bert_verb_data, verb_wordnet_data)"
      ],
      "metadata": {
        "id": "0QsS5sM9GI5R"
      },
      "execution_count": null,
      "outputs": []
    },
    {
      "cell_type": "code",
      "source": [
        "with open(\"/content/drive/MyDrive/Final Project Zalo Internship/Final Project/Categorized vocab (No Trec57)/Wordnet and Bert Partial Mask/verb_bert_wordnet.json\",\"w\", encoding='utf-8') as jsonfile:\n",
        "    json.dump(verb_bert_wordnet,jsonfile,ensure_ascii=False, indent=2)"
      ],
      "metadata": {
        "id": "KRrArlIeGWZt"
      },
      "execution_count": null,
      "outputs": []
    },
    {
      "cell_type": "markdown",
      "source": [
        "**Adj**"
      ],
      "metadata": {
        "id": "psDbDm0GGa6O"
      }
    },
    {
      "cell_type": "code",
      "source": [
        "adj_data_file = open('/content/drive/MyDrive/Final Project Zalo Internship/Final Project/Categorized vocab (No Trec57)/Bert Partial Mask/Occurrence/occurrence_50_adj_sentence.json.json')\n",
        "bert_adj_data = json.load(adj_data_file)"
      ],
      "metadata": {
        "id": "Da9LXDiTGZ4c"
      },
      "execution_count": null,
      "outputs": []
    },
    {
      "cell_type": "code",
      "source": [
        "adj_bert_wordnet = joinBertBaseline(bert_adj_data, adj_wordnet_data)"
      ],
      "metadata": {
        "id": "zR1w5iVBGi7n"
      },
      "execution_count": null,
      "outputs": []
    },
    {
      "cell_type": "code",
      "source": [
        "with open(\"/content/drive/MyDrive/Final Project Zalo Internship/Final Project/Categorized vocab (No Trec57)/Wordnet and Bert Partial Mask/adj_bert_wordnet.json\",\"w\", encoding='utf-8') as jsonfile:\n",
        "    json.dump(adj_bert_wordnet,jsonfile,ensure_ascii=False, indent=2)"
      ],
      "metadata": {
        "id": "NxbUkTwYGl_i"
      },
      "execution_count": null,
      "outputs": []
    },
    {
      "cell_type": "markdown",
      "source": [
        "# Write 300 words to CSV"
      ],
      "metadata": {
        "id": "S5YjsP9K1ulA"
      }
    },
    {
      "cell_type": "code",
      "source": [
        "import csv\n",
        "cnt=0\n",
        "header = ['word_type', 'word', 'is_good']\n",
        "\n",
        "with open('/content/drive/MyDrive/Final Project Zalo Internship/Final Project/Categorized vocab (No Trec57)/300_words.csv', 'w') as f:\n",
        "    # create the csv writer\n",
        "    writer = csv.writer(f)\n",
        "    writer.writerow(header)\n",
        "\n",
        "    for word in all_300_words:\n",
        "    # write a row to the csv file\n",
        "      if cnt < 150:\n",
        "        writer.writerow(['noun', word, ''])\n",
        "      elif cnt > 149 and cnt < 250:\n",
        "        writer.writerow(['verb', word, ''])\n",
        "      else:\n",
        "        writer.writerow(['adj', word, ''])\n",
        "      cnt+=1"
      ],
      "metadata": {
        "id": "mk8tTuFovOIG"
      },
      "execution_count": null,
      "outputs": []
    },
    {
      "cell_type": "markdown",
      "source": [
        "# Function to write synonym to CSV"
      ],
      "metadata": {
        "id": "kYgc6edvw6yv"
      }
    },
    {
      "cell_type": "code",
      "source": [
        "import csv\n",
        "\n",
        "def writeSynonymToCSV(path):\n",
        "  cnt=0\n",
        "  header = ['word_type', 'word', 'wordnet_synonym', 'bert_synonym', 'is_good']\n",
        "\n",
        "  with open(path, 'w') as f:\n",
        "      # create the csv writer\n",
        "      writer = csv.writer(f)\n",
        "      writer.writerow(header)\n",
        "\n",
        "      for word in all_300_words:\n",
        "      # write a row to the csv file\n",
        "        detokenized_word = word.replace('_', ' ')\n",
        "        if cnt < 150:\n",
        "          writer.writerow(['noun', word, noun_synonym_data[detokenized_word]['wordnet'], list(noun_synonym_data[detokenized_word]['bert'].keys()), ''])\n",
        "        elif cnt > 149 and cnt < 250:\n",
        "          writer.writerow(['verb', word, verb_synonym_data[detokenized_word]['wordnet'], list(verb_synonym_data[detokenized_word]['bert'].keys()), ''])\n",
        "        else:\n",
        "          writer.writerow(['adj', word, adj_synonym_data[detokenized_word]['wordnet'], list(adj_synonym_data[detokenized_word]['bert'].keys()), ''])\n",
        "        cnt+=1"
      ],
      "metadata": {
        "id": "0Zb0B58d1WXT"
      },
      "execution_count": null,
      "outputs": []
    },
    {
      "cell_type": "markdown",
      "source": [
        "# Write 300 words and synonym to CSV (BERT Concatenation)"
      ],
      "metadata": {
        "id": "BBomioC911Zw"
      }
    },
    {
      "cell_type": "code",
      "source": [
        "noun_synonym_file = open('/content/drive/MyDrive/Final Project Zalo Internship/Final Project/Categorized vocab (No Trec57)/Wordnet and Bert Concatenation/noun_bert_wordnet.json')\n",
        "noun_synonym_data = json.load(noun_synonym_file)\n",
        "\n",
        "verb_synonym_file = open('/content/drive/MyDrive/Final Project Zalo Internship/Final Project/Categorized vocab (No Trec57)/Wordnet and Bert Concatenation/verb_bert_wordnet.json')\n",
        "verb_synonym_data = json.load(verb_synonym_file)\n",
        "\n",
        "adj_synonym_file = open('/content/drive/MyDrive/Final Project Zalo Internship/Final Project/Categorized vocab (No Trec57)/Wordnet and Bert Concatenation/adj_bert_wordnet.json')\n",
        "adj_synonym_data = json.load(adj_synonym_file)"
      ],
      "metadata": {
        "id": "nGqUYgFE16M7"
      },
      "execution_count": null,
      "outputs": []
    },
    {
      "cell_type": "code",
      "source": [
        "writeSynonymToCSV('/content/drive/MyDrive/Final Project Zalo Internship/Final Project/Categorized vocab (No Trec57)/Wordnet and Bert Concatenation/synonym.csv')"
      ],
      "metadata": {
        "id": "LXSB3fRmxKeb"
      },
      "execution_count": null,
      "outputs": []
    },
    {
      "cell_type": "markdown",
      "source": [
        "# Write 300 words and synonym to CSV (BERT Partial Mask)"
      ],
      "metadata": {
        "id": "Dj_TFn0NHXUA"
      }
    },
    {
      "cell_type": "code",
      "source": [
        "noun_synonym_file = open('/content/drive/MyDrive/Final Project Zalo Internship/Final Project/Categorized vocab (No Trec57)/Wordnet and Bert Partial Mask/noun_bert_wordnet.json')\n",
        "noun_synonym_data = json.load(noun_synonym_file)\n",
        "\n",
        "verb_synonym_file = open('/content/drive/MyDrive/Final Project Zalo Internship/Final Project/Categorized vocab (No Trec57)/Wordnet and Bert Partial Mask/verb_bert_wordnet.json')\n",
        "verb_synonym_data = json.load(verb_synonym_file)\n",
        "\n",
        "adj_synonym_file = open('/content/drive/MyDrive/Final Project Zalo Internship/Final Project/Categorized vocab (No Trec57)/Wordnet and Bert Partial Mask/adj_bert_wordnet.json')\n",
        "adj_synonym_data = json.load(adj_synonym_file)"
      ],
      "metadata": {
        "id": "T4CL5RBuHVQF"
      },
      "execution_count": null,
      "outputs": []
    },
    {
      "cell_type": "code",
      "source": [
        "writeSynonymToCSV('/content/drive/MyDrive/Final Project Zalo Internship/Final Project/Categorized vocab (No Trec57)/Wordnet and Bert Partial Mask/synonym.csv')"
      ],
      "metadata": {
        "id": "5aBQixdCHhiP"
      },
      "execution_count": null,
      "outputs": []
    },
    {
      "cell_type": "markdown",
      "source": [
        "# Function create CSV to be revised"
      ],
      "metadata": {
        "id": "t2JyhalAap6w"
      }
    },
    {
      "cell_type": "code",
      "source": [
        "import csv\n",
        "\n",
        "def synonymToBeRevised(path):\n",
        "  header = ['Từ', 'Từ thay thế', 'Ngữ cảnh (chỗ <mask> là vị trí của từ/từ thay thế)', 'Phân loại', 'Chú thích (nếu cần thiết)']\n",
        "\n",
        "  with open(path, 'w') as f:\n",
        "      # create the csv writer\n",
        "      writer = csv.writer(f)\n",
        "      writer.writerow(header)\n",
        "\n",
        "      for dict in [noun_synonym_data, verb_synonym_data, adj_synonym_data]:\n",
        "        for key in dict.keys():\n",
        "          cnt = 0\n",
        "          tmp = []\n",
        "          for synonym_word in dict[key]['bert'].keys():\n",
        "            detokenized_synonym = synonym_word.replace('_', ' ')\n",
        "            if key.lower() != detokenized_synonym.lower() and cnt < 11 and detokenized_synonym.lower() not in tmp:\n",
        "              writer.writerow([key, synonym_word, dict[key]['bert'][synonym_word]['sentence'], '', ''])\n",
        "              tmp.append(detokenized_synonym.lower())\n",
        "              cnt += 1"
      ],
      "metadata": {
        "id": "CVqPxDr9apUz"
      },
      "execution_count": null,
      "outputs": []
    },
    {
      "cell_type": "code",
      "source": [
        "synonymToBeRevised('/content/drive/MyDrive/Final Project Zalo Internship/Final Project/Categorized vocab (No Trec57)/Wordnet and Bert Concatenation/synonymToBeRevised.csv')"
      ],
      "metadata": {
        "id": "MljjLJFgft92"
      },
      "execution_count": null,
      "outputs": []
    },
    {
      "cell_type": "markdown",
      "source": [
        "# Word2Vec Baseline\n",
        "\n"
      ],
      "metadata": {
        "id": "ORA0GbPkauEm"
      }
    },
    {
      "cell_type": "code",
      "source": [
        "from gensim.models import KeyedVectors\n",
        "from gensim import models\n",
        "\n",
        "word2vec_path = '/content/drive/MyDrive/Final Project Zalo Internship/Final Project/baomoi.window2.vn.model.bin.gz'\n",
        "w2v_model = models.KeyedVectors.load_word2vec_format(word2vec_path, binary=True)"
      ],
      "metadata": {
        "id": "h6hRVBaIJp8E"
      },
      "execution_count": null,
      "outputs": []
    },
    {
      "cell_type": "code",
      "source": [
        "w2v_dict = {}\n",
        "for wrd in tqdm(word):\n",
        "  if wrd in w2v_model.vocab:\n",
        "    w2v_dict[wrd] = w2v_model.most_similar(wrd.lower(), topn=50)"
      ],
      "metadata": {
        "colab": {
          "base_uri": "https://localhost:8080/"
        },
        "id": "NMJq6AgGJ3DR",
        "outputId": "d8371680-2996-411e-a5f9-a3576958a24f"
      },
      "execution_count": null,
      "outputs": [
        {
          "output_type": "stream",
          "name": "stderr",
          "text": [
            "100%|██████████| 1205/1205 [00:24<00:00, 48.63it/s]\n"
          ]
        }
      ]
    },
    {
      "cell_type": "code",
      "source": [
        "synonym_Occurrence_dict['khu_vực']"
      ],
      "metadata": {
        "colab": {
          "base_uri": "https://localhost:8080/"
        },
        "id": "moDWWJ1ENKzT",
        "outputId": "f8cf9da9-39d5-42a1-e501-b3af61fb661a"
      },
      "execution_count": null,
      "outputs": [
        {
          "output_type": "execute_result",
          "data": {
            "text/plain": [
              "{'khu_vực': {'occurence': 186,\n",
              "  'sentence': ['tổng_sản_phẩm nội_địa của <mask> Mỹ Latinh năm 2010 là bao_nhiêu',\n",
              "   'Tây_Ban_Nha nằm ở <mask> nào',\n",
              "   'Liên_Xô nằm ở <mask> nào']},\n",
              " 'vùng': {'occurence': 180,\n",
              "  'sentence': ['tổng_sản_phẩm nội_địa của <mask> Mỹ Latinh năm 2010 là bao_nhiêu',\n",
              "   'Tây_Ban_Nha nằm ở <mask> nào',\n",
              "   'Liên_Xô nằm ở <mask> nào']},\n",
              " 'khu': {'occurence': 135,\n",
              "  'sentence': ['tổng_sản_phẩm nội_địa của <mask> Mỹ Latinh năm 2010 là bao_nhiêu',\n",
              "   'Tây_Ban_Nha nằm ở <mask> nào',\n",
              "   'Triều_Tiên nằm ở <mask> nào']},\n",
              " 'tỉnh': {'occurence': 125,\n",
              "  'sentence': ['Tây_Ban_Nha nằm ở <mask> nào',\n",
              "   'Liên_Xô nằm ở <mask> nào',\n",
              "   'Macedonia thuộc <mask> nào']},\n",
              " 'lãnh_thổ': {'occurence': 101,\n",
              "  'sentence': ['tổng_sản_phẩm nội_địa của <mask> Mỹ Latinh năm 2010 là bao_nhiêu',\n",
              "   'Tây_Ban_Nha nằm ở <mask> nào',\n",
              "   'Liên_Xô nằm ở <mask> nào']},\n",
              " 'vùng_đất': {'occurence': 84,\n",
              "  'sentence': ['Tây_Ban_Nha nằm ở <mask> nào',\n",
              "   'Liên_Xô nằm ở <mask> nào',\n",
              "   'Canada nằm ở <mask> nào']},\n",
              " 'miền': {'occurence': 78,\n",
              "  'sentence': ['Tây_Ban_Nha nằm ở <mask> nào',\n",
              "   'Liên_Xô nằm ở <mask> nào',\n",
              "   'Triều_Tiên nằm ở <mask> nào']},\n",
              " 'quận': {'occurence': 77,\n",
              "  'sentence': ['Canada nằm ở <mask> nào',\n",
              "   'Gibraltar thuộc <mask> nào',\n",
              "   'Quy_Nhơn nằm ở <mask> nào']},\n",
              " 'địa_bàn': {'occurence': 76,\n",
              "  'sentence': ['Tây_Ban_Nha nằm ở <mask> nào',\n",
              "   'Liên_Xô nằm ở <mask> nào',\n",
              "   'Canada nằm ở <mask> nào']},\n",
              " 'nước': {'occurence': 75,\n",
              "  'sentence': ['tổng_sản_phẩm nội_địa của <mask> Mỹ Latinh năm 2010 là bao_nhiêu',\n",
              "   'Tây_Ban_Nha nằm ở <mask> nào',\n",
              "   'Liên_Xô nằm ở <mask> nào']},\n",
              " 'vị_trí': {'occurence': 73,\n",
              "  'sentence': ['Tây_Ban_Nha nằm ở <mask> nào',\n",
              "   'Liên_Xô nằm ở <mask> nào',\n",
              "   'Canada nằm ở <mask> nào']},\n",
              " 'phần': {'occurence': 71,\n",
              "  'sentence': ['Đảo Đài_Loan nằm ở <mask> nào',\n",
              "   'Nước Bồ_Đào_Nha hiện_nay thuộc <mask> địa_lý nào của châu_Âu',\n",
              "   'Nga nằm ở <mask> nào']},\n",
              " 'nơi': {'occurence': 68,\n",
              "  'sentence': ['Tây_Ban_Nha nằm ở <mask> nào',\n",
              "   'Liên_Xô nằm ở <mask> nào',\n",
              "   'Canada nằm ở <mask> nào']},\n",
              " 'quốc_gia': {'occurence': 67,\n",
              "  'sentence': ['tổng_sản_phẩm nội_địa của <mask> Mỹ Latinh năm 2010 là bao_nhiêu',\n",
              "   'Tây_Ban_Nha nằm ở <mask> nào',\n",
              "   'Liên_Xô nằm ở <mask> nào']},\n",
              " 'bộ_phận': {'occurence': 66,\n",
              "  'sentence': ['Tây_Ban_Nha nằm ở <mask> nào',\n",
              "   'Liên_Xô nằm ở <mask> nào',\n",
              "   'Canada nằm ở <mask> nào']},\n",
              " 'Khu_vực': {'occurence': 65,\n",
              "  'sentence': ['tổng_sản_phẩm nội_địa của <mask> Mỹ Latinh năm 2010 là bao_nhiêu',\n",
              "   'Nước Bồ_Đào_Nha hiện_nay thuộc <mask> địa_lý nào của châu_Âu',\n",
              "   'Các ngân_hàng <mask> công ở Ấn_Độ là một con tàu chìm']},\n",
              " 'châu_lục': {'occurence': 64,\n",
              "  'sentence': ['Tây_Ban_Nha nằm ở <mask> nào',\n",
              "   'Liên_Xô nằm ở <mask> nào',\n",
              "   'Macedonia thuộc <mask> nào']},\n",
              " 'địa_phận': {'occurence': 64,\n",
              "  'sentence': ['Gibraltar thuộc <mask> nào',\n",
              "   'Quy_Nhơn nằm ở <mask> nào',\n",
              "   'Đảo Đài_Loan nằm ở <mask> nào']},\n",
              " 'Vùng': {'occurence': 62,\n",
              "  'sentence': ['tổng_sản_phẩm nội_địa của <mask> Mỹ Latinh năm 2010 là bao_nhiêu',\n",
              "   'Nước Bồ_Đào_Nha hiện_nay thuộc <mask> địa_lý nào của châu_Âu',\n",
              "   'Israel thuộc <mask> địa_lý nào']},\n",
              " 'huyện': {'occurence': 58,\n",
              "  'sentence': ['Canada nằm ở <mask> nào',\n",
              "   'Gibraltar thuộc <mask> nào',\n",
              "   'Quy_Nhơn nằm ở <mask> nào']},\n",
              " 'về': {'occurence': 56,\n",
              "  'sentence': ['Nước Bồ_Đào_Nha hiện_nay thuộc <mask> địa_lý nào của châu_Âu',\n",
              "   'Israel thuộc <mask> địa_lý nào',\n",
              "   'Canada thuộc <mask> địa_lý nào']},\n",
              " 'tiểu_vùng': {'occurence': 56,\n",
              "  'sentence': ['Nước Bồ_Đào_Nha hiện_nay thuộc <mask> địa_lý nào của châu_Âu',\n",
              "   'Israel thuộc <mask> địa_lý nào',\n",
              "   'Canada thuộc <mask> địa_lý nào']},\n",
              " 'nhóm': {'occurence': 54,\n",
              "  'sentence': ['tổng_sản_phẩm nội_địa của <mask> Mỹ Latinh năm 2010 là bao_nhiêu',\n",
              "   'Nước Bồ_Đào_Nha hiện_nay thuộc <mask> địa_lý nào của châu_Âu',\n",
              "   'Israel thuộc <mask> địa_lý nào']},\n",
              " 'điểm': {'occurence': 53,\n",
              "  'sentence': ['Tây_Ban_Nha nằm ở <mask> nào',\n",
              "   'Liên_Xô nằm ở <mask> nào',\n",
              "   'Canada nằm ở <mask> nào']},\n",
              " 'địa_điểm': {'occurence': 53,\n",
              "  'sentence': ['Tây_Ban_Nha nằm ở <mask> nào',\n",
              "   'Liên_Xô nằm ở <mask> nào',\n",
              "   'Canada nằm ở <mask> nào']},\n",
              " 'hướng': {'occurence': 50,\n",
              "  'sentence': ['Tây_Ban_Nha nằm ở <mask> nào',\n",
              "   'Liên_Xô nằm ở <mask> nào',\n",
              "   'Canada nằm ở <mask> nào']},\n",
              " 'chỗ': {'occurence': 48,\n",
              "  'sentence': ['Tây_Ban_Nha nằm ở <mask> nào',\n",
              "   'Liên_Xô nằm ở <mask> nào',\n",
              "   'Canada nằm ở <mask> nào']},\n",
              " 'địa_phương': {'occurence': 48,\n",
              "  'sentence': ['Tây_Ban_Nha nằm ở <mask> nào',\n",
              "   'Canada nằm ở <mask> nào',\n",
              "   'Gibraltar thuộc <mask> nào']},\n",
              " 'phân_vùng': {'occurence': 48,\n",
              "  'sentence': ['Nước Bồ_Đào_Nha hiện_nay thuộc <mask> địa_lý nào của châu_Âu',\n",
              "   'Canada thuộc <mask> địa_lý nào',\n",
              "   'Sint_Maarten thuộc <mask> nào']},\n",
              " 'phạm_vi': {'occurence': 48,\n",
              "  'sentence': ['Nước Bồ_Đào_Nha hiện_nay thuộc <mask> địa_lý nào của châu_Âu',\n",
              "   'Canada thuộc <mask> địa_lý nào',\n",
              "   'Nền văn_minh của người Maya được xây_dựng ở <mask> địa_lý nào']},\n",
              " 'khối': {'occurence': 46,\n",
              "  'sentence': ['tổng_sản_phẩm nội_địa của <mask> Mỹ Latinh năm 2010 là bao_nhiêu',\n",
              "   'Nước Bồ_Đào_Nha hiện_nay thuộc <mask> địa_lý nào của châu_Âu',\n",
              "   'Nền văn_minh của người Maya được xây_dựng ở <mask> địa_lý nào']},\n",
              " 'bang': {'occurence': 44,\n",
              "  'sentence': ['Tây_Ban_Nha nằm ở <mask> nào',\n",
              "   'Canada nằm ở <mask> nào',\n",
              "   'Malaysia nằm ở <mask> nào']},\n",
              " 'trung_tâm': {'occurence': 44,\n",
              "  'sentence': ['Tây_Ban_Nha nằm ở <mask> nào',\n",
              "   'Liên_Xô nằm ở <mask> nào',\n",
              "   'Triều_Tiên nằm ở <mask> nào']},\n",
              " 'lục_địa': {'occurence': 40,\n",
              "  'sentence': ['Tây_Ban_Nha nằm ở <mask> nào',\n",
              "   'Liên_Xô nằm ở <mask> nào',\n",
              "   'Canada nằm ở <mask> nào']},\n",
              " 'thành_phố': {'occurence': 40,\n",
              "  'sentence': ['Tây_Ban_Nha nằm ở <mask> nào',\n",
              "   'Liên_Xô nằm ở <mask> nào',\n",
              "   'Canada nằm ở <mask> nào']},\n",
              " 'toàn': {'occurence': 39,\n",
              "  'sentence': ['tổng_sản_phẩm nội_địa của <mask> Mỹ Latinh năm 2010 là bao_nhiêu',\n",
              "   'Myanmar có diện_tích rộng thứ mấy trong <mask> Đông_Nam_Á',\n",
              "   'Tỉnh nào có dân_số đông nhất <mask> miền Tây']},\n",
              " 'thành_phần': {'occurence': 39,\n",
              "  'sentence': ['Canada thuộc <mask> địa_lý nào',\n",
              "   'Luxembourg thuộc <mask> địa_lý nào',\n",
              "   'Moldova thuộc <mask> nào']},\n",
              " 'toạ_độ': {'occurence': 38,\n",
              "  'sentence': ['Liên_Xô nằm ở <mask> nào',\n",
              "   'Canada nằm ở <mask> nào',\n",
              "   'Quy_Nhơn nằm ở <mask> nào']},\n",
              " 'xứ': {'occurence': 37,\n",
              "  'sentence': ['Tây_Ban_Nha nằm ở <mask> nào',\n",
              "   'Liên_Xô nằm ở <mask> nào',\n",
              "   'Saint_Helena thuộc <mask> nào']},\n",
              " 'ở': {'occurence': 37,\n",
              "  'sentence': ['Ngọn núi nào cao nhất <mask> Tây_Nam_Bộ',\n",
              "   'Tỉnh nào có dân_số đông nhất <mask> miền Tây',\n",
              "   'Peru có diện_tích xếp thứ mấy <mask> Nam_Mỹ']},\n",
              " 'của': {'occurence': 35,\n",
              "  'sentence': ['Các ngân_hàng <mask> công ở Ấn_Độ là một con tàu chìm',\n",
              "   'Ngọn núi nào cao nhất <mask> Tây_Nam_Bộ',\n",
              "   'Tỉnh nào có dân_số đông nhất <mask> miền Tây']},\n",
              " 'phương': {'occurence': 33,\n",
              "  'sentence': ['Liên_Xô nằm ở <mask> nào',\n",
              "   'Triều_Tiên nằm ở <mask> nào',\n",
              "   'Quy_Nhơn nằm ở <mask> nào']},\n",
              " 'tại': {'occurence': 33,\n",
              "  'sentence': ['Ngọn núi nào cao nhất <mask> Tây_Nam_Bộ',\n",
              "   'Tỉnh nào có dân_số đông nhất <mask> miền Tây',\n",
              "   'Peru có diện_tích xếp thứ mấy <mask> Nam_Mỹ']},\n",
              " 'địa_lý': {'occurence': 32,\n",
              "  'sentence': ['Tây_Ban_Nha nằm ở <mask> nào',\n",
              "   'Canada nằm ở <mask> nào',\n",
              "   'Quy_Nhơn nằm ở <mask> nào']},\n",
              " 'góc': {'occurence': 31,\n",
              "  'sentence': ['Tây_Ban_Nha nằm ở <mask> nào',\n",
              "   'Canada nằm ở <mask> nào',\n",
              "   'Triều_Tiên nằm ở <mask> nào']},\n",
              " 'địa_danh': {'occurence': 31,\n",
              "  'sentence': ['Canada nằm ở <mask> nào',\n",
              "   'Quy_Nhơn nằm ở <mask> nào',\n",
              "   'Hồng_Kong nằm ở <mask> nào']},\n",
              " 'thuộc': {'occurence': 31,\n",
              "  'sentence': ['Ngọn núi nào cao nhất <mask> Tây_Nam_Bộ',\n",
              "   'Tỉnh nào có dân_số đông nhất <mask> miền Tây',\n",
              "   'Peru có diện_tích xếp thứ mấy <mask> Nam_Mỹ']},\n",
              " 'toàn_bộ': {'occurence': 30,\n",
              "  'sentence': ['tổng_sản_phẩm nội_địa của <mask> Mỹ Latinh năm 2010 là bao_nhiêu',\n",
              "   'Myanmar có diện_tích rộng thứ mấy trong <mask> Đông_Nam_Á',\n",
              "   'Tỉnh nào có dân_số đông nhất <mask> miền Tây']},\n",
              " 'đô_thị': {'occurence': 30,\n",
              "  'sentence': ['Quy_Nhơn nằm ở <mask> nào',\n",
              "   'Malaysia nằm ở <mask> nào',\n",
              "   'Hồng_Kong nằm ở <mask> nào']},\n",
              " 'cụm': {'occurence': 30,\n",
              "  'sentence': ['Cộng_hoà Peru thuộc <mask> địa_lý nào',\n",
              "   'Bốn tỉnh thuộc <mask> Tây_Bắc là những tỉnh nào',\n",
              "   'Ngọn núi nào cao nhất <mask> Tây_Nam_Bộ']},\n",
              " 'đất_nước': {'occurence': 29,\n",
              "  'sentence': ['tổng_sản_phẩm nội_địa của <mask> Mỹ Latinh năm 2010 là bao_nhiêu',\n",
              "   'Tây_Ban_Nha nằm ở <mask> nào',\n",
              "   'Liên_Xô nằm ở <mask> nào']},\n",
              " 'hành_chính': {'occurence': 29,\n",
              "  'sentence': ['Gibraltar thuộc <mask> nào',\n",
              "   'Tỉnh Nam_Định thuộc <mask> nào nước ta',\n",
              "   'Tỉnh Đắk_Lắk thuộc <mask> nào của nước ta']},\n",
              " 'trong': {'occurence': 29,\n",
              "  'sentence': ['Tỉnh nào có dân_số đông nhất <mask> miền Tây',\n",
              "   'Peru có diện_tích xếp thứ mấy <mask> Nam_Mỹ',\n",
              "   'Quốc_gia nào có diện_tích lớn thứ ba <mask> Đông_Nam_Á']},\n",
              " 'diện_tích': {'occurence': 28,\n",
              "  'sentence': ['Tây_Ban_Nha nằm ở <mask> nào',\n",
              "   'Canada nằm ở <mask> nào',\n",
              "   'Đảo Đài_Loan nằm ở <mask> nào']},\n",
              " 'cả': {'occurence': 27,\n",
              "  'sentence': ['tổng_sản_phẩm nội_địa của <mask> Mỹ Latinh năm 2010 là bao_nhiêu',\n",
              "   'Tỉnh nào có dân_số đông nhất <mask> miền Tây',\n",
              "   'Nước nào ở <mask> Đông_Nam_Á không giáp với biển']},\n",
              " 'phía': {'occurence': 26,\n",
              "  'sentence': ['Đảo Đài_Loan nằm ở <mask> nào',\n",
              "   'Thanh_Hoá nằm ở <mask> nào của Việt_Nam',\n",
              "   'Biển Đen nằm ở <mask> nào của Trái_Đất']},\n",
              " 'ranh_giới': {'occurence': 25,\n",
              "  'sentence': ['Nước Bồ_Đào_Nha hiện_nay thuộc <mask> địa_lý nào của châu_Âu',\n",
              "   'Israel thuộc <mask> địa_lý nào',\n",
              "   'Nền văn_minh của người Maya được xây_dựng ở <mask> địa_lý nào']},\n",
              " 'đơn_vị': {'occurence': 25,\n",
              "  'sentence': ['Nước Bồ_Đào_Nha hiện_nay thuộc <mask> địa_lý nào của châu_Âu',\n",
              "   'Israel thuộc <mask> địa_lý nào',\n",
              "   'Canada thuộc <mask> địa_lý nào']},\n",
              " 'hệ_thống': {'occurence': 24,\n",
              "  'sentence': ['Nước Bồ_Đào_Nha hiện_nay thuộc <mask> địa_lý nào của châu_Âu',\n",
              "   'Luxembourg thuộc <mask> địa_lý nào',\n",
              "   'Venezuela thuộc <mask> địa_lý nào']},\n",
              " 'trên': {'occurence': 24,\n",
              "  'sentence': ['Tỉnh nào có dân_số đông nhất <mask> miền Tây',\n",
              "   'Peru có diện_tích xếp thứ mấy <mask> Nam_Mỹ',\n",
              "   'Quốc_gia nào có diện_tích lớn thứ ba <mask> Đông_Nam_Á']},\n",
              " '</s>': {'occurence': 23,\n",
              "  'sentence': ['Tỉnh nào có dân_số đông nhất <mask> miền Tây',\n",
              "   'Peru có diện_tích xếp thứ mấy <mask> Nam_Mỹ',\n",
              "   'Quốc_gia nào có diện_tích lớn thứ ba <mask> Đông_Nam_Á']},\n",
              " 'khoảng_cách': {'occurence': 22,\n",
              "  'sentence': ['Liên_Xô nằm ở <mask> nào',\n",
              "   'Canada nằm ở <mask> nào',\n",
              "   'Đảo Đài_Loan nằm ở <mask> nào']},\n",
              " 'cho': {'occurence': 22,\n",
              "  'sentence': ['Ngọn núi nào cao nhất <mask> Tây_Nam_Bộ',\n",
              "   'Tỉnh nào có dân_số đông nhất <mask> miền Tây',\n",
              "   'Peru có diện_tích xếp thứ mấy <mask> Nam_Mỹ']},\n",
              " 'hạt': {'occurence': 21,\n",
              "  'sentence': ['Nước Bồ_Đào_Nha hiện_nay thuộc <mask> địa_lý nào của châu_Âu',\n",
              "   'Saint_Helena thuộc <mask> nào',\n",
              "   'Madagascar thuộc <mask> nào']},\n",
              " 'đất': {'occurence': 21,\n",
              "  'sentence': ['Ngọn núi nào cao nhất <mask> Tây_Nam_Bộ',\n",
              "   'Phú_Yên ở <mask> nào của nước ta',\n",
              "   'Tỉnh nào có dân_số đông nhất <mask> miền Tây']},\n",
              " 'cộng_đồng': {'occurence': 20,\n",
              "  'sentence': ['tổng_sản_phẩm nội_địa của <mask> Mỹ Latinh năm 2010 là bao_nhiêu',\n",
              "   'Israel thuộc <mask> địa_lý nào',\n",
              "   'Cộng_hoà Peru thuộc <mask> địa_lý nào']},\n",
              " 'với': {'occurence': 20,\n",
              "  'sentence': ['Ngọn núi nào cao nhất <mask> Tây_Nam_Bộ',\n",
              "   'Tỉnh nào có dân_số đông nhất <mask> miền Tây',\n",
              "   'Peru có diện_tích xếp thứ mấy <mask> Nam_Mỹ']},\n",
              " 'phân_khu': {'occurence': 20,\n",
              "  'sentence': ['Italy thuộc <mask> nào của châu_Âu',\n",
              "   'Trung_Quốc thuộc <mask> nào của châu_Á',\n",
              "   'Biên_Hoà thuộc <mask> nào']},\n",
              " 'thế': {'occurence': 19,\n",
              "  'sentence': ['Quy_Nhơn nằm ở <mask> nào',\n",
              "   'Nền văn_minh của người Maya được xây_dựng ở <mask> địa_lý nào',\n",
              "   'Thành_phố Đà_Lạt nằm ở <mask> nào']},\n",
              " 'đồng_bằng': {'occurence': 19,\n",
              "  'sentence': ['Quy_Nhơn nằm ở <mask> nào',\n",
              "   'Trà_Vinh nằm ở <mask> nào',\n",
              "   'Vĩnh_Long nằm ở <mask> nào']},\n",
              " 'địa': {'occurence': 19,\n",
              "  'sentence': ['Nước Bồ_Đào_Nha hiện_nay thuộc <mask> địa_lý nào của châu_Âu',\n",
              "   'Israel thuộc <mask> địa_lý nào',\n",
              "   'Canada thuộc <mask> địa_lý nào']},\n",
              " 'và': {'occurence': 19,\n",
              "  'sentence': ['Các ngân_hàng <mask> công ở Ấn_Độ là một con tàu chìm',\n",
              "   'Ngọn núi nào cao nhất <mask> Tây_Nam_Bộ',\n",
              "   'Tỉnh nào có dân_số đông nhất <mask> miền Tây']},\n",
              " 'Liên_minh': {'occurence': 19,\n",
              "  'sentence': ['Myanmar có diện_tích rộng thứ mấy trong <mask> Đông_Nam_Á',\n",
              "   'Peru có diện_tích xếp thứ mấy <mask> Nam_Mỹ',\n",
              "   'Quốc_gia nào có diện_tích lớn thứ ba <mask> Đông_Nam_Á']},\n",
              " 'đối_với': {'occurence': 19,\n",
              "  'sentence': ['Tỉnh nào có dân_số đông nhất <mask> miền Tây',\n",
              "   'Peru có diện_tích xếp thứ mấy <mask> Nam_Mỹ',\n",
              "   'Quốc_gia nào có diện_tích lớn thứ ba <mask> Đông_Nam_Á']},\n",
              " 'mức_độ': {'occurence': 18,\n",
              "  'sentence': ['Tây_Ban_Nha nằm ở <mask> nào',\n",
              "   'Liên_Xô nằm ở <mask> nào',\n",
              "   'Canada nằm ở <mask> nào']},\n",
              " 'loại': {'occurence': 18,\n",
              "  'sentence': ['Nước Bồ_Đào_Nha hiện_nay thuộc <mask> địa_lý nào của châu_Âu',\n",
              "   'Israel thuộc <mask> địa_lý nào',\n",
              "   'Canada thuộc <mask> địa_lý nào']},\n",
              " 'không_gian': {'occurence': 18,\n",
              "  'sentence': ['Nước Bồ_Đào_Nha hiện_nay thuộc <mask> địa_lý nào của châu_Âu',\n",
              "   'Israel thuộc <mask> địa_lý nào',\n",
              "   'Canada thuộc <mask> địa_lý nào']},\n",
              " 'thế_giới': {'occurence': 18,\n",
              "  'sentence': ['Myanmar có diện_tích rộng thứ mấy trong <mask> Đông_Nam_Á',\n",
              "   'Tỉnh nào có dân_số đông nhất <mask> miền Tây',\n",
              "   'Peru có diện_tích xếp thứ mấy <mask> Nam_Mỹ']},\n",
              " 'tiểu_bang': {'occurence': 17,\n",
              "  'sentence': ['Tây_Ban_Nha nằm ở <mask> nào',\n",
              "   'Canada nằm ở <mask> nào',\n",
              "   'Malaysia nằm ở <mask> nào']},\n",
              " 'tỉnh_thành': {'occurence': 17,\n",
              "  'sentence': ['Quy_Nhơn nằm ở <mask> nào',\n",
              "   'Thanh_Hoá nằm ở <mask> nào của Việt_Nam',\n",
              "   'Vịnh Hạ_Long nằm ở <mask> nào']},\n",
              " 'Khu': {'occurence': 17,\n",
              "  'sentence': ['Nước Bồ_Đào_Nha hiện_nay thuộc <mask> địa_lý nào của châu_Âu',\n",
              "   'Bốn tỉnh thuộc <mask> Tây_Bắc là những tỉnh nào',\n",
              "   'Ngọn núi nào cao nhất <mask> Tây_Nam_Bộ']},\n",
              " 'dạng': {'occurence': 17,\n",
              "  'sentence': ['Israel thuộc <mask> địa_lý nào',\n",
              "   'Canada thuộc <mask> địa_lý nào',\n",
              "   'Nền văn_minh của người Maya được xây_dựng ở <mask> địa_lý nào']},\n",
              " 'là': {'occurence': 17,\n",
              "  'sentence': ['Tỉnh nào có dân_số đông nhất <mask> miền Tây',\n",
              "   'Quốc_gia nào có diện_tích lớn thứ ba <mask> Đông_Nam_Á',\n",
              "   'Tỉnh nào có diện_tích lớn nhất <mask> Tây_Bắc']},\n",
              " 'khắp': {'occurence': 17,\n",
              "  'sentence': ['Peru có diện_tích xếp thứ mấy <mask> Nam_Mỹ',\n",
              "   'Quốc_gia nào có diện_tích lớn thứ ba <mask> Đông_Nam_Á',\n",
              "   'Nước nào ở <mask> Đông_Nam_Á không giáp với biển']},\n",
              " 'người': {'occurence': 16,\n",
              "  'sentence': ['tổng_sản_phẩm nội_địa của <mask> Mỹ Latinh năm 2010 là bao_nhiêu',\n",
              "   'Tỉnh nào có dân_số đông nhất <mask> miền Tây',\n",
              "   'Peru có diện_tích xếp thứ mấy <mask> Nam_Mỹ']},\n",
              " 'nhất': {'occurence': 16,\n",
              "  'sentence': ['Ngọn núi nào cao nhất <mask> Tây_Nam_Bộ',\n",
              "   'Tỉnh nào có dân_số đông nhất <mask> miền Tây',\n",
              "   'Quốc_gia nào có diện_tích lớn thứ ba <mask> Đông_Nam_Á']},\n",
              " 'vĩ_độ': {'occurence': 15,\n",
              "  'sentence': ['Liên_Xô nằm ở <mask> nào',\n",
              "   'Đảo Đài_Loan nằm ở <mask> nào',\n",
              "   'Hồng_Kong nằm ở <mask> nào']},\n",
              " 'thực_thể': {'occurence': 15,\n",
              "  'sentence': ['Nước Bồ_Đào_Nha hiện_nay thuộc <mask> địa_lý nào của châu_Âu',\n",
              "   'Israel thuộc <mask> địa_lý nào',\n",
              "   'Canada thuộc <mask> địa_lý nào']},\n",
              " 'tiểu_khu': {'occurence': 15,\n",
              "  'sentence': ['Italy thuộc <mask> nào của châu_Âu',\n",
              "   'Trung_Quốc thuộc <mask> nào của châu_Á',\n",
              "   'Bangladesh thuộc <mask> nào của châu_Á']},\n",
              " 'lịch_sử': {'occurence': 15,\n",
              "  'sentence': ['Myanmar có diện_tích rộng thứ mấy trong <mask> Đông_Nam_Á',\n",
              "   'Quốc_gia nào có diện_tích lớn thứ ba <mask> Đông_Nam_Á',\n",
              "   'Quốc_gia nào đông dân nhất <mask> Đông_Nam_Á']},\n",
              " 'độ': {'occurence': 14,\n",
              "  'sentence': ['Đảo Đài_Loan nằm ở <mask> nào',\n",
              "   'Vương_quốc_Anh nằm ở <mask> nào',\n",
              "   'Myanmar nằm ở <mask> nào']},\n",
              " 'dải': {'occurence': 14,\n",
              "  'sentence': ['Nước Bồ_Đào_Nha hiện_nay thuộc <mask> địa_lý nào của châu_Âu',\n",
              "   'Nền văn_minh của người Maya được xây_dựng ở <mask> địa_lý nào',\n",
              "   'Venezuela thuộc <mask> địa_lý nào']},\n",
              " 'thị_trường': {'occurence': 13,\n",
              "  'sentence': ['tổng_sản_phẩm nội_địa của <mask> Mỹ Latinh năm 2010 là bao_nhiêu',\n",
              "   'Tây_Ban_Nha nằm ở <mask> nào',\n",
              "   'Malaysia nằm ở <mask> nào']},\n",
              " 'liên_minh': {'occurence': 13,\n",
              "  'sentence': ['tổng_sản_phẩm nội_địa của <mask> Mỹ Latinh năm 2010 là bao_nhiêu',\n",
              "   'Myanmar có diện_tích rộng thứ mấy trong <mask> Đông_Nam_Á',\n",
              "   'Quốc_gia nào đông dân nhất <mask> Đông_Nam_Á']},\n",
              " 'phường': {'occurence': 13,\n",
              "  'sentence': ['Quy_Nhơn nằm ở <mask> nào',\n",
              "   'Sint_Maarten thuộc <mask> nào',\n",
              "   'Thành_phố Đà_Lạt nằm ở <mask> nào']},\n",
              " 'cự_ly': {'occurence': 13,\n",
              "  'sentence': ['Quy_Nhơn nằm ở <mask> nào',\n",
              "   'Đảo Đài_Loan nằm ở <mask> nào',\n",
              "   'Thanh_Hoá nằm ở <mask> nào của Việt_Nam']},\n",
              " 'châu': {'occurence': 13,\n",
              "  'sentence': ['Tỉnh Nam_Định thuộc <mask> nào nước ta',\n",
              "   'Peru có diện_tích xếp thứ mấy <mask> Nam_Mỹ',\n",
              "   'Nepal thuộc <mask> nào của châu_Á']},\n",
              " 'Cụm': {'occurence': 13,\n",
              "  'sentence': ['Bốn tỉnh thuộc <mask> Tây_Bắc là những tỉnh nào',\n",
              "   'Ngọn núi nào cao nhất <mask> Tây_Nam_Bộ',\n",
              "   'Lăng_Thoại_Ngọc_Hầu tại <mask> danh_thắng núi Sam còn được gọi là gì']},\n",
              " 'Quân_khu': {'occurence': 13,\n",
              "  'sentence': ['Bốn tỉnh thuộc <mask> Tây_Bắc là những tỉnh nào',\n",
              "   'Tỉnh Đắk_Lắk thuộc <mask> nào của nước ta',\n",
              "   'Tỉnh Cao_Bằng thuộc <mask> nào của nước ta']},\n",
              " 'từ': {'occurence': 13,\n",
              "  'sentence': ['Tỉnh nào có dân_số đông nhất <mask> miền Tây',\n",
              "   'Peru có diện_tích xếp thứ mấy <mask> Nam_Mỹ',\n",
              "   'Quốc_gia nào có diện_tích lớn thứ ba <mask> Đông_Nam_Á']},\n",
              " 'Cộng_đồng': {'occurence': 12,\n",
              "  'sentence': ['tổng_sản_phẩm nội_địa của <mask> Mỹ Latinh năm 2010 là bao_nhiêu',\n",
              "   'Myanmar có diện_tích rộng thứ mấy trong <mask> Đông_Nam_Á',\n",
              "   'Quốc_gia nào có diện_tích lớn thứ ba <mask> Đông_Nam_Á']},\n",
              " 'xã': {'occurence': 12,\n",
              "  'sentence': ['Quy_Nhơn nằm ở <mask> nào',\n",
              "   'Sint_Maarten thuộc <mask> nào',\n",
              "   'Vịnh Hạ_Long nằm ở <mask> nào']},\n",
              " 'tuyến': {'occurence': 12,\n",
              "  'sentence': ['Nước Bồ_Đào_Nha hiện_nay thuộc <mask> địa_lý nào của châu_Âu',\n",
              "   'Nền văn_minh của người Maya được xây_dựng ở <mask> địa_lý nào',\n",
              "   'Venezuela thuộc <mask> địa_lý nào']},\n",
              " '–': {'occurence': 12,\n",
              "  'sentence': ['Ngọn núi nào cao nhất <mask> Tây_Nam_Bộ',\n",
              "   'Tỉnh nào có dân_số đông nhất <mask> miền Tây',\n",
              "   'Thành_phố nào có dân_số đông nhất <mask> Tây_Nguyên']},\n",
              " 'ngoài': {'occurence': 12,\n",
              "  'sentence': ['Peru có diện_tích xếp thứ mấy <mask> Nam_Mỹ',\n",
              "   'Dân_số Ethiopia xếp thứ mấy <mask> châu_Phi',\n",
              "   'Quốc_gia nào dân_số ít_nhất <mask> Đông_Nam_Á']},\n",
              " 'bên': {'occurence': 12,\n",
              "  'sentence': ['Peru có diện_tích xếp thứ mấy <mask> Nam_Mỹ',\n",
              "   'Quốc_gia nào có diện_tích lớn thứ ba <mask> Đông_Nam_Á',\n",
              "   'Dân_số Ethiopia xếp thứ mấy <mask> châu_Phi']},\n",
              " 'trục': {'occurence': 11,\n",
              "  'sentence': ['Nước Bồ_Đào_Nha hiện_nay thuộc <mask> địa_lý nào của châu_Âu',\n",
              "   'Nền văn_minh của người Maya được xây_dựng ở <mask> địa_lý nào',\n",
              "   'Cộng_hoà Peru thuộc <mask> địa_lý nào']},\n",
              " 'biên_giới': {'occurence': 11,\n",
              "  'sentence': ['Nước Bồ_Đào_Nha hiện_nay thuộc <mask> địa_lý nào của châu_Âu',\n",
              "   'Sông Amazon nằm ở <mask> nào',\n",
              "   'Ngọn núi nào cao nhất <mask> Tây_Nam_Bộ']},\n",
              " 'hình_thái': {'occurence': 11,\n",
              "  'sentence': ['Nước Bồ_Đào_Nha hiện_nay thuộc <mask> địa_lý nào của châu_Âu',\n",
              "   'Israel thuộc <mask> địa_lý nào',\n",
              "   'Nền văn_minh của người Maya được xây_dựng ở <mask> địa_lý nào']},\n",
              " 'đối_tượng': {'occurence': 11,\n",
              "  'sentence': ['Israel thuộc <mask> địa_lý nào',\n",
              "   'Canada thuộc <mask> địa_lý nào',\n",
              "   'Luxembourg thuộc <mask> địa_lý nào']},\n",
              " 'lưu_vực': {'occurence': 10,\n",
              "  'sentence': ['tổng_sản_phẩm nội_địa của <mask> Mỹ Latinh năm 2010 là bao_nhiêu',\n",
              "   'Sông Amazon nằm ở <mask> nào',\n",
              "   'Nước nào ở <mask> Đông_Nam_Á không giáp với biển']},\n",
              " 'bán_đảo': {'occurence': 10,\n",
              "  'sentence': ['Đảo Đài_Loan nằm ở <mask> nào',\n",
              "   'Hồng_Kong nằm ở <mask> nào',\n",
              "   'Macao nằm ở <mask> nào']},\n",
              " 'bộ': {'occurence': 10,\n",
              "  'sentence': ['Nước Bồ_Đào_Nha hiện_nay thuộc <mask> địa_lý nào của châu_Âu',\n",
              "   'Luxembourg thuộc <mask> địa_lý nào',\n",
              "   'Cộng_hoà Peru thuộc <mask> địa_lý nào']},\n",
              " 'quy_hoạch_vùng': {'occurence': 10,\n",
              "  'sentence': ['Tỉnh Nam_Định thuộc <mask> nào nước ta',\n",
              "   'Bốn tỉnh thuộc <mask> Tây_Bắc là những tỉnh nào',\n",
              "   'Sông nào không chảy qua <mask> Đông_Nam_Bộ']},\n",
              " 'khu_tự_trị': {'occurence': 10,\n",
              "  'sentence': ['Tỉnh Cao_Bằng thuộc <mask> nào của nước ta',\n",
              "   'Nepal thuộc <mask> nào của châu_Á',\n",
              "   'Tỉnh nào có diện_tích lớn nhất <mask> Tây_Bắc']},\n",
              " 'theo': {'occurence': 10,\n",
              "  'sentence': ['Tỉnh nào có dân_số đông nhất <mask> miền Tây',\n",
              "   'Peru có diện_tích xếp thứ mấy <mask> Nam_Mỹ',\n",
              "   'Quốc_gia nào có diện_tích lớn thứ ba <mask> Đông_Nam_Á']},\n",
              " 'địa_hình': {'occurence': 9,\n",
              "  'sentence': ['Quy_Nhơn nằm ở <mask> nào',\n",
              "   'Thành_phố Đà_Lạt nằm ở <mask> nào',\n",
              "   'Vịnh Hạ_Long nằm ở <mask> nào']},\n",
              " 'đường': {'occurence': 9,\n",
              "  'sentence': ['Israel thuộc <mask> địa_lý nào',\n",
              "   'Venezuela thuộc <mask> địa_lý nào',\n",
              "   'Cuba thuộc <mask> địa_lý nào']},\n",
              " 'bản_đồ': {'occurence': 9,\n",
              "  'sentence': ['Luxembourg thuộc <mask> địa_lý nào sau đây',\n",
              "   'Myanmar có diện_tích rộng thứ mấy trong <mask> Đông_Nam_Á',\n",
              "   'Hiện_nay diện_tích và dân_số Indonesia xếp thứ mấy <mask> Đông_Nam_Á']},\n",
              " 'KV': {'occurence': 9,\n",
              "  'sentence': ['Bốn tỉnh thuộc <mask> Tây_Bắc là những tỉnh nào',\n",
              "   'Myanmar có diện_tích rộng thứ mấy trong <mask> Đông_Nam_Á',\n",
              "   'Tỉnh nào không thuộc <mask> miền Trung']},\n",
              " 'Nhóm': {'occurence': 9,\n",
              "  'sentence': ['Bốn tỉnh thuộc <mask> Tây_Bắc là những tỉnh nào',\n",
              "   'Myanmar có diện_tích rộng thứ mấy trong <mask> Đông_Nam_Á',\n",
              "   'Nước nào ở <mask> Đông_Nam_Á không giáp với biển']},\n",
              " 'quân_khu': {'occurence': 9,\n",
              "  'sentence': ['Tỉnh Đắk_Lắk thuộc <mask> nào của nước ta',\n",
              "   'Tỉnh Cao_Bằng thuộc <mask> nào của nước ta',\n",
              "   'Biên_Hoà thuộc <mask> nào']},\n",
              " 'giữa': {'occurence': 9,\n",
              "  'sentence': ['Ngọn núi nào cao nhất <mask> Tây_Nam_Bộ',\n",
              "   'Quốc_gia nào có diện_tích lớn thứ ba <mask> Đông_Nam_Á',\n",
              "   'Dân_số Ethiopia xếp thứ mấy <mask> châu_Phi']},\n",
              " 'hiện_nay': {'occurence': 9,\n",
              "  'sentence': ['Tỉnh nào có dân_số đông nhất <mask> miền Tây',\n",
              "   'Quốc_gia nào đông dân nhất <mask> Đông_Nam_Á',\n",
              "   'Thành_phố nào có dân_số đông nhất <mask> Tây_Nguyên']},\n",
              " 'Ở': {'occurence': 9,\n",
              "  'sentence': ['Tỉnh nào có dân_số đông nhất <mask> miền Tây',\n",
              "   'Quốc_gia nào có diện_tích lớn thứ ba <mask> Đông_Nam_Á',\n",
              "   'Hiện_nay diện_tích và dân_số Indonesia xếp thứ mấy <mask> Đông_Nam_Á']},\n",
              " 'nhì': {'occurence': 9,\n",
              "  'sentence': ['Peru có diện_tích xếp thứ mấy <mask> Nam_Mỹ',\n",
              "   'Tỉnh nào có ít thành_phố thị_xã nhất <mask> Đông_Nam_Bộ',\n",
              "   'Dãy núi nào cao nhất <mask> Tây_Nguyên']},\n",
              " 'Đồng_bằng': {'occurence': 9,\n",
              "  'sentence': ['Sông nào không chảy qua <mask> Đông_Nam_Bộ',\n",
              "   'Tỉnh nào có dân_số đông nhất <mask> Đông_Bắc_Bộ',\n",
              "   'Tỉnh nào không thuộc <mask> miền Trung']},\n",
              " 'các': {'occurence': 8,\n",
              "  'sentence': ['tổng_sản_phẩm nội_địa của <mask> Mỹ Latinh năm 2010 là bao_nhiêu',\n",
              "   'Nước Bồ_Đào_Nha hiện_nay thuộc <mask> địa_lý nào của châu_Âu',\n",
              "   'Nền văn_minh của người Maya được xây_dựng ở <mask> địa_lý nào']},\n",
              " 'khâu': {'occurence': 8,\n",
              "  'sentence': ['Nga nằm ở <mask> nào',\n",
              "   'Hậu_Giang nằm ở <mask> nào',\n",
              "   'Tuyên_Quang nằm ở <mask> nào']},\n",
              " 'thị_trấn': {'occurence': 8,\n",
              "  'sentence': ['Macao nằm ở <mask> nào',\n",
              "   'Sint_Maarten thuộc <mask> nào',\n",
              "   'Myanmar nằm ở <mask> nào']},\n",
              " 'tổ_hợp': {'occurence': 8,\n",
              "  'sentence': ['Luxembourg thuộc <mask> địa_lý nào',\n",
              "   'Venezuela thuộc <mask> địa_lý nào',\n",
              "   'Cuba thuộc <mask> địa_lý nào']},\n",
              " 'Phần': {'occurence': 8,\n",
              "  'sentence': ['Biển Đen nằm ở <mask> nào của Trái_Đất',\n",
              "   'Italy thuộc <mask> nào của châu_Âu',\n",
              "   'Bangladesh thuộc <mask> nào của châu_Á']},\n",
              " 'diện': {'occurence': 8,\n",
              "  'sentence': ['Tỉnh Nam_Định thuộc <mask> nào nước ta',\n",
              "   'Bốn tỉnh thuộc <mask> Tây_Bắc là những tỉnh nào',\n",
              "   'Trung_Quốc thuộc <mask> nào của châu_Á']},\n",
              " 'nhánh': {'occurence': 8,\n",
              "  'sentence': ['Uzebekistan thuộc <mask> nào của châu_Á',\n",
              "   'Tỉnh Điện_Biên ở <mask> nào của vùng Tây_Bắc',\n",
              "   'Nepal thuộc <mask> nào của châu_Á']},\n",
              " 'sau': {'occurence': 8,\n",
              "  'sentence': ['Peru có diện_tích xếp thứ mấy <mask> Nam_Mỹ',\n",
              "   'Dân_số Ethiopia xếp thứ mấy <mask> châu_Phi',\n",
              "   'Philippines có dân_số xếp thứ mấy <mask> Đông_Nam_Á']},\n",
              " 'vùng_biển': {'occurence': 7,\n",
              "  'sentence': ['Đảo Đài_Loan nằm ở <mask> nào',\n",
              "   'Hồng_Kong nằm ở <mask> nào',\n",
              "   'Macao nằm ở <mask> nào']},\n",
              " 'Quốc_gia': {'occurence': 7,\n",
              "  'sentence': ['Saint_Helena thuộc <mask> nào',\n",
              "   'Quốc_gia khai_sinh ra ASIAD thuộc <mask> nào châu_Á',\n",
              "   'ASEAN là tổ_chức kinh_tế của <mask> nào']},\n",
              " 'đặc_điểm': {'occurence': 7,\n",
              "  'sentence': ['Nền văn_minh của người Maya được xây_dựng ở <mask> địa_lý nào',\n",
              "   'Luxembourg thuộc <mask> địa_lý nào',\n",
              "   'Venezuela thuộc <mask> địa_lý nào']},\n",
              " 'thời_điểm': {'occurence': 7,\n",
              "  'sentence': ['Macao nằm ở <mask> nào',\n",
              "   'Vịnh Hạ_Long nằm ở <mask> nào',\n",
              "   'Biển Đen nằm ở <mask> nào của Trái_Đất']},\n",
              " 'tam_giác': {'occurence': 7,\n",
              "  'sentence': ['Venezuela thuộc <mask> địa_lý nào',\n",
              "   'Cuba thuộc <mask> địa_lý nào',\n",
              "   'Mozambique thuộc <mask> địa_lý nào']},\n",
              " 'KKT': {'occurence': 7,\n",
              "  'sentence': ['Bốn tỉnh thuộc <mask> Tây_Bắc là những tỉnh nào',\n",
              "   'Sông nào không chảy qua <mask> Đông_Nam_Bộ',\n",
              "   'Tỉnh nào có diện_tích lớn nhất <mask> Tây_Bắc']},\n",
              " 'chừng': {'occurence': 7,\n",
              "  'sentence': ['Sông Amazon nằm ở <mask> nào',\n",
              "   'Phú_Yên ở <mask> nào của nước ta',\n",
              "   'Người Mường sống ở <mask> nào nước ta']},\n",
              " 'Miền': {'occurence': 7,\n",
              "  'sentence': ['Ngọn núi nào cao nhất <mask> Tây_Nam_Bộ',\n",
              "   'Tỉnh nào có diện_tích lớn nhất <mask> Tây_Bắc',\n",
              "   'Thành_phố nào có dân_số đông nhất <mask> Tây_Nguyên']},\n",
              " 'Liên_bang': {'occurence': 7,\n",
              "  'sentence': ['Myanmar có diện_tích rộng thứ mấy trong <mask> Đông_Nam_Á',\n",
              "   'Thành_phố nào có dân_số đông nhất <mask> Tây_Nguyên',\n",
              "   'Thành_phố nào có diện_tích lớn nhất <mask> Tây_Nguyên']},\n",
              " 'thì': {'occurence': 7,\n",
              "  'sentence': ['Tỉnh nào có dân_số đông nhất <mask> miền Tây',\n",
              "   'Quốc_gia nào dân_số ít_nhất <mask> Đông_Nam_Á',\n",
              "   'Tỉnh nào có ít thành_phố thị_xã nhất <mask> Đông_Nam_Bộ']},\n",
              " 'Việt_Nam': {'occurence': 7,\n",
              "  'sentence': ['Tỉnh nào có dân_số đông nhất <mask> miền Tây',\n",
              "   'Thành_phố nào có dân_số đông nhất <mask> Tây_Nguyên',\n",
              "   'Dãy núi nào cao nhất <mask> Tây_Nguyên']},\n",
              " 'dân_số': {'occurence': 7,\n",
              "  'sentence': ['Dân_số Ethiopia xếp thứ mấy <mask> châu_Phi',\n",
              "   'Quốc_gia nào dân_số ít_nhất <mask> Đông_Nam_Á',\n",
              "   'Cuba có có diện_tích tự_nhiên và dân_số xếp thứ mấy trong <mask>']},\n",
              " 'cửa_ngõ': {'occurence': 6,\n",
              "  'sentence': ['Quy_Nhơn nằm ở <mask> nào',\n",
              "   'Thành_phố Đà_Lạt nằm ở <mask> nào',\n",
              "   'Phú_Yên ở <mask> nào của nước ta']},\n",
              " 'cấp': {'occurence': 6,\n",
              "  'sentence': ['Nước Bồ_Đào_Nha hiện_nay thuộc <mask> địa_lý nào của châu_Âu',\n",
              "   'Nền văn_minh của người Maya được xây_dựng ở <mask> địa_lý nào',\n",
              "   'Tỉnh Điện_Biên ở <mask> nào của vùng Tây_Bắc']},\n",
              " 'Tỉnh': {'occurence': 6,\n",
              "  'sentence': ['Nước Bồ_Đào_Nha hiện_nay thuộc <mask> địa_lý nào của châu_Âu',\n",
              "   'Sint_Maarten thuộc <mask> nào',\n",
              "   'Mozambique thuộc <mask> địa_lý nào']},\n",
              " 'góc_độ': {'occurence': 6,\n",
              "  'sentence': ['Hồng_Kong nằm ở <mask> nào',\n",
              "   'Nền văn_minh của người Maya được xây_dựng ở <mask> địa_lý nào',\n",
              "   'Vịnh Hạ_Long nằm ở <mask> nào']},\n",
              " 'khoảng': {'occurence': 6,\n",
              "  'sentence': ['Nền văn_minh của người Maya được xây_dựng ở <mask> địa_lý nào',\n",
              "   'Biển Đen nằm ở <mask> nào của Trái_Đất',\n",
              "   'Bắc_Ninh nằm ở <mask> nào Việt_Nam']},\n",
              " 'cực': {'occurence': 6,\n",
              "  'sentence': ['Nền văn_minh của người Maya được xây_dựng ở <mask> địa_lý nào',\n",
              "   'Biển Đen nằm ở <mask> nào của Trái_Đất',\n",
              "   'Bhutan thuộc <mask> địa_lý nào trên thế_giới']},\n",
              " 'khu_phố': {'occurence': 6,\n",
              "  'sentence': ['Macao nằm ở <mask> nào',\n",
              "   'Singapore nằm ở <mask> nào',\n",
              "   'Biên_Hoà thuộc <mask> nào']},\n",
              " 'đoạn': {'occurence': 6,\n",
              "  'sentence': ['Vịnh Hạ_Long nằm ở <mask> nào',\n",
              "   'Biển Đen nằm ở <mask> nào của Trái_Đất',\n",
              "   'Có_thể xuất_hiện khối_u ở <mask> nào']},\n",
              " 'miệt': {'occurence': 6,\n",
              "  'sentence': ['Hậu_Giang nằm ở <mask> nào',\n",
              "   'Trà_Vinh nằm ở <mask> nào',\n",
              "   'Vĩnh_Long nằm ở <mask> nào']},\n",
              " 'Khu_tự_trị': {'occurence': 6,\n",
              "  'sentence': ['Bốn tỉnh thuộc <mask> Tây_Bắc là những tỉnh nào',\n",
              "   'Tỉnh nào có diện_tích lớn nhất <mask> Tây_Bắc',\n",
              "   'Thành_phố nào có dân_số đông nhất <mask> Tây_Nguyên']},\n",
              " 'Hiệp_hội': {'occurence': 6,\n",
              "  'sentence': ['Myanmar có diện_tích rộng thứ mấy trong <mask> Đông_Nam_Á',\n",
              "   'Nước nào ở <mask> Đông_Nam_Á không giáp với biển',\n",
              "   'Quốc_gia nào đông dân nhất <mask> Đông_Nam_Á']},\n",
              " 'Đông': {'occurence': 6,\n",
              "  'sentence': ['Myanmar có diện_tích rộng thứ mấy trong <mask> Đông_Nam_Á',\n",
              "   'Nước nào ở <mask> Đông_Nam_Á không giáp với biển',\n",
              "   'Có bao_nhiêu vương_quốc ở <mask> Đông_Nam_Á']},\n",
              " 'thung_lũng': {'occurence': 6,\n",
              "  'sentence': ['Lăng_Thoại_Ngọc_Hầu tại <mask> danh_thắng núi Sam còn được gọi là gì',\n",
              "   'Ruộng_bậc_thang nổi_tiếng nào thuộc <mask> Tây_Bắc',\n",
              "   'Người Ba Na chủ_yếu sinh_sống ở <mask> nào']},\n",
              " 'ờ': {'occurence': 6,\n",
              "  'sentence': ['Peru có diện_tích xếp thứ mấy <mask> Nam_Mỹ',\n",
              "   'Dân_số Ethiopia xếp thứ mấy <mask> châu_Phi',\n",
              "   'Quốc_gia nào dân_số ít_nhất <mask> Đông_Nam_Á']},\n",
              " 'được': {'occurence': 6,\n",
              "  'sentence': ['Quốc_gia nào có diện_tích lớn thứ ba <mask> Đông_Nam_Á',\n",
              "   'Tỉnh nào có diện_tích lớn nhất <mask> Tây_Bắc',\n",
              "   'Quốc_gia nào dân_số ít_nhất <mask> Đông_Nam_Á']},\n",
              " 'đến': {'occurence': 6,\n",
              "  'sentence': ['Thành_phố nào có dân_số đông nhất <mask> Tây_Nguyên',\n",
              "   'Thành_phố nào có diện_tích lớn nhất <mask> Tây_Nguyên',\n",
              "   'Quốc_gia nào sản_xuất vàng nhiều nhất <mask> Nam_Mỹ']},\n",
              " 'tất_cả': {'occurence': 5,\n",
              "  'sentence': ['tổng_sản_phẩm nội_địa của <mask> Mỹ Latinh năm 2010 là bao_nhiêu',\n",
              "   'Myanmar có diện_tích rộng thứ mấy trong <mask> Đông_Nam_Á',\n",
              "   'Quốc_gia nào dân_số ít_nhất <mask> Đông_Nam_Á']},\n",
              " 'tầm': {'occurence': 5,\n",
              "  'sentence': ['Đảo Đài_Loan nằm ở <mask> nào',\n",
              "   'Macao nằm ở <mask> nào',\n",
              "   'Myanmar nằm ở <mask> nào']},\n",
              " 'ô': {'occurence': 5,\n",
              "  'sentence': ['Nước Bồ_Đào_Nha hiện_nay thuộc <mask> địa_lý nào của châu_Âu',\n",
              "   'Thuỵ_Sĩ thuộc <mask> nào của châu_Âu',\n",
              "   'Thuỵ_Điển thuộc <mask> nào của châu_Âu']},\n",
              " 'dãy': {'occurence': 5,\n",
              "  'sentence': ['Nền văn_minh của người Maya được xây_dựng ở <mask> địa_lý nào',\n",
              "   'Bốn tỉnh thuộc <mask> Tây_Bắc là những tỉnh nào',\n",
              "   'Ruộng_bậc_thang nổi_tiếng nào thuộc <mask> Tây_Bắc']},\n",
              " 'nền': {'occurence': 5,\n",
              "  'sentence': ['Nền văn_minh của người Maya được xây_dựng ở <mask> địa_lý nào',\n",
              "   'Cuba thuộc <mask> địa_lý nào',\n",
              "   'Cộng_hoà Peru thuộc <mask> địa_lý nào']},\n",
              " 'giới': {'occurence': 5,\n",
              "  'sentence': ['Luxembourg thuộc <mask> địa_lý nào',\n",
              "   'Ruộng_bậc_thang nổi_tiếng nào thuộc <mask> Tây_Bắc',\n",
              "   'Quảng_Ninh thuộc <mask> địa_lý nào']},\n",
              " 'mặt': {'occurence': 5,\n",
              "  'sentence': ['Biển Đen nằm ở <mask> nào của Trái_Đất',\n",
              "   'Có_thể xuất_hiện khối_u ở <mask> nào',\n",
              "   'Tỉnh Điện_Biên ở <mask> nào của vùng Tây_Bắc']},\n",
              " 'lãnh_địa': {'occurence': 5,\n",
              "  'sentence': ['Uzebekistan thuộc <mask> nào của châu_Á',\n",
              "   'Nepal thuộc <mask> nào của châu_Á',\n",
              "   'Mexico thuộc <mask> nào của châu_Mỹ']},\n",
              " 'dưới': {'occurence': 5,\n",
              "  'sentence': ['Peru có diện_tích xếp thứ mấy <mask> Nam_Mỹ',\n",
              "   'Quốc_gia nào có diện_tích lớn thứ ba <mask> Đông_Nam_Á',\n",
              "   'Philippines có dân_số xếp thứ mấy <mask> Đông_Nam_Á']},\n",
              " 'trước': {'occurence': 5,\n",
              "  'sentence': ['Peru có diện_tích xếp thứ mấy <mask> Nam_Mỹ',\n",
              "   'Dân_số Ethiopia xếp thứ mấy <mask> châu_Phi',\n",
              "   'Philippines có dân_số xếp thứ mấy <mask> Đông_Nam_Á']},\n",
              " 'châu_Á': {'occurence': 5,\n",
              "  'sentence': ['Quốc_gia nào đông dân nhất <mask> Đông_Nam_Á',\n",
              "   'Quốc_gia Đông_Nam_Á nào bị bão càn_quét nhiều nhất ở <mask>',\n",
              "   'Indonesia dẫn_đầu <mask> Đông_Nam_Á về hiện_tượng tự_nhiên nào']},\n",
              " 'vùng_cao': {'occurence': 5,\n",
              "  'sentence': ['Tỉnh Điện_Biên ở <mask> nào của vùng Tây_Bắc',\n",
              "   'Người Mường sống ở <mask> nào nước ta',\n",
              "   'Ruộng_bậc_thang nổi_tiếng nào thuộc <mask> Tây_Bắc']},\n",
              " 'Tại': {'occurence': 5,\n",
              "  'sentence': ['Dân_số Ethiopia xếp thứ mấy <mask> châu_Phi',\n",
              "   'Philippines có dân_số xếp thứ mấy <mask> Đông_Nam_Á',\n",
              "   'Quốc_gia nào sản_xuất vàng nhiều nhất <mask> Nam_Mỹ']},\n",
              " 'bảng': {'occurence': 5,\n",
              "  'sentence': ['Quốc_gia khai_sinh ra ASIAD thuộc <mask> nào châu_Á',\n",
              "   'Hiện_nay diện_tích và dân_số Indonesia xếp thứ mấy <mask> Đông_Nam_Á',\n",
              "   'Cuba có có diện_tích tự_nhiên và dân_số xếp thứ mấy trong <mask>']},\n",
              " 'vương_quốc': {'occurence': 5,\n",
              "  'sentence': ['Có bao_nhiêu vương_quốc ở <mask> Đông_Nam_Á',\n",
              "   'Dãy núi nào cao nhất <mask> Tây_Nguyên',\n",
              "   'Trước thế_kỷ 19 <mask> Nam_Mỹ từng là thuộc địa của thực_dân nào']},\n",
              " 'làng': {'occurence': 5,\n",
              "  'sentence': ['Người Ba Na chủ_yếu sinh_sống ở <mask> nào',\n",
              "   'Maildves nằm ở <mask> nào',\n",
              "   'Sông Amazon chảy qua <mask> nào']},\n",
              " 'người_dân': {'occurence': 4,\n",
              "  'sentence': ['tổng_sản_phẩm nội_địa của <mask> Mỹ Latinh năm 2010 là bao_nhiêu',\n",
              "   'Phần_lớn <mask> Đông_Nam_Á nằm ở bán_cầu nào',\n",
              "   'Dân_số của Sóc_Trăng đứng thứ mấy trong <mask> đồng_bằng sông Cửu_Long']},\n",
              " 'vòng_cung': {'occurence': 4,\n",
              "  'sentence': ['Nước Bồ_Đào_Nha hiện_nay thuộc <mask> địa_lý nào của châu_Âu',\n",
              "   'Bốn tỉnh thuộc <mask> Tây_Bắc là những tỉnh nào',\n",
              "   'Ruộng_bậc_thang nổi_tiếng nào thuộc <mask> Tây_Bắc']},\n",
              " 'loại_hình': {'occurence': 4,\n",
              "  'sentence': ['Nền văn_minh của người Maya được xây_dựng ở <mask> địa_lý nào',\n",
              "   'Luxembourg thuộc <mask> địa_lý nào sau đây',\n",
              "   'Quốc_gia khai_sinh ra ASIAD thuộc <mask> nào châu_Á']},\n",
              " 'có': {'occurence': 4,\n",
              "  'sentence': ['Các ngân_hàng <mask> công ở Ấn_Độ là một con tàu chìm',\n",
              "   'Quốc_gia nào dân_số ít_nhất <mask> Đông_Nam_Á',\n",
              "   'Tỉnh nào có ít thành_phố thị_xã nhất <mask> Đông_Nam_Bộ']},\n",
              " 'lớp': {'occurence': 4,\n",
              "  'sentence': ['Luxembourg thuộc <mask> địa_lý nào sau đây',\n",
              "   'Quốc_gia khai_sinh ra ASIAD thuộc <mask> nào châu_Á',\n",
              "   'Các <mask> sẫm màu trên Mặt_Trăng gần hố Aristarchus có_thể là gì']},\n",
              " 'nhà': {'occurence': 4,\n",
              "  'sentence': ['Luxembourg thuộc <mask> địa_lý nào sau đây',\n",
              "   'ASEAN là tổ_chức kinh_tế của <mask> nào',\n",
              "   'Thị_xã Lạng_Sơn là <mask> hoạt_động của nhà cách_mạng nào']},\n",
              " 'giai_đoạn': {'occurence': 4,\n",
              "  'sentence': ['Biển Đen nằm ở <mask> nào của Trái_Đất',\n",
              "   'Có_thể xuất_hiện khối_u ở <mask> nào',\n",
              "   'Nước Anh hiện nằm ở <mask> nào của châu_Âu']},\n",
              " 'núi_rừng': {'occurence': 4,\n",
              "  'sentence': ['Ngọn núi nào cao nhất <mask> Tây_Nam_Bộ',\n",
              "   'Tỉnh nào có diện_tích lớn nhất <mask> Tây_Bắc',\n",
              "   'Ruộng_bậc_thang nổi_tiếng nào thuộc <mask> Tây_Bắc']},\n",
              " 'vòng': {'occurence': 4,\n",
              "  'sentence': ['Myanmar có diện_tích rộng thứ mấy trong <mask> Đông_Nam_Á',\n",
              "   'Nước nào ở <mask> Đông_Nam_Á không giáp với biển',\n",
              "   'Dân_số Việt_Nam đứng thứ mấy trong <mask> Châu_Á']},\n",
              " 'tổng_số': {'occurence': 4,\n",
              "  'sentence': ['Myanmar có diện_tích rộng thứ mấy trong <mask> Đông_Nam_Á',\n",
              "   'Cuba có có diện_tích tự_nhiên và dân_số xếp thứ mấy trong <mask>',\n",
              "   'Dân_số Việt_Nam đứng thứ mấy trong <mask> Châu_Á']},\n",
              " 'ASEAN': {'occurence': 4,\n",
              "  'sentence': ['Myanmar có diện_tích rộng thứ mấy trong <mask> Đông_Nam_Á',\n",
              "   'Cuba có có diện_tích tự_nhiên và dân_số xếp thứ mấy trong <mask>',\n",
              "   'ASEAN là tổ_chức liên_kết <mask> nào']},\n",
              " 'biển': {'occurence': 4,\n",
              "  'sentence': ['Myanmar có diện_tích rộng thứ mấy trong <mask> Đông_Nam_Á',\n",
              "   'Nước nào ở <mask> Đông_Nam_Á không giáp với biển',\n",
              "   'Singapore là quốc_gia có diện_tích tự_nhiên xếp thứ mấy <mask> Đông_Nam_Á']},\n",
              " 'vành_đai': {'occurence': 4,\n",
              "  'sentence': ['Đất_nước Uruguay thuộc <mask> nào của châu_Mỹ',\n",
              "   'Ruộng_bậc_thang nổi_tiếng nào thuộc <mask> Tây_Bắc',\n",
              "   'Quốc_gia có diện_tích nhỏ nhất thuộc <mask> Nam_Mỹ']},\n",
              " 'vào': {'occurence': 4,\n",
              "  'sentence': ['Tỉnh nào có dân_số đông nhất <mask> miền Tây',\n",
              "   'thành_phố nào lớn nhất <mask> miền Trung',\n",
              "   'Tỉnh Quảng_Bình có diện_tích tự_nhiên xếp thứ mấy <mask> Bắc Trung_bộ']},\n",
              " 'Đông_Nam_Á': {'occurence': 4,\n",
              "  'sentence': ['Nước nào ở <mask> Đông_Nam_Á không giáp với biển',\n",
              "   'Quốc_gia Đông_Nam_Á nào bị bão càn_quét nhiều nhất ở <mask>',\n",
              "   'Cuba có có diện_tích tự_nhiên và dân_số xếp thứ mấy trong <mask>']},\n",
              " 'chủ_thể': {'occurence': 4,\n",
              "  'sentence': ['Croatia thuộc <mask> nào của châu_Âu',\n",
              "   'Ai_Cập thuộc <mask> nào của châu_Phi',\n",
              "   'Hà_Lan thuộc <mask> nào của châu_Âu']},\n",
              " 'Vùng_đất': {'occurence': 4,\n",
              "  'sentence': ['Sông nào không chảy qua <mask> Đông_Nam_Bộ',\n",
              "   'Trước thế_kỷ 19 <mask> Nam_Mỹ từng là thuộc địa của thực_dân nào',\n",
              "   'Tỉnh nào có nhiều thành_phố thị_xã nhất <mask> Đông_Nam_Bộ']},\n",
              " '...': {'occurence': 4,\n",
              "  'sentence': ['Dân_số Ethiopia xếp thứ mấy <mask> châu_Phi',\n",
              "   'Cuba có có diện_tích tự_nhiên và dân_số xếp thứ mấy trong <mask>',\n",
              "   'thành_phố nào lớn nhất <mask> miền Trung']},\n",
              " 'rừng': {'occurence': 4,\n",
              "  'sentence': ['Ruộng_bậc_thang nổi_tiếng nào thuộc <mask> Tây_Bắc',\n",
              "   'Người Ba Na chủ_yếu sinh_sống ở <mask> nào',\n",
              "   'Diện_tích của <mask> núi Athos là bao_nhiêu']},\n",
              " 'kinh_tế': {'occurence': 3,\n",
              "  'sentence': ['tổng_sản_phẩm nội_địa của <mask> Mỹ Latinh năm 2010 là bao_nhiêu',\n",
              "   'Myanmar có diện_tích rộng thứ mấy trong <mask> Đông_Nam_Á',\n",
              "   'ASEAN là tổ_chức kinh_tế của <mask> nào']},\n",
              " 'châu_Mỹ': {'occurence': 3,\n",
              "  'sentence': ['tổng_sản_phẩm nội_địa của <mask> Mỹ Latinh năm 2010 là bao_nhiêu',\n",
              "   'Quốc_gia có diện_tích nhỏ nhất thuộc <mask> Nam_Mỹ',\n",
              "   'Trước thế_kỷ 19 , <mask> Nam_Mỹ từng là thuộc địa của thực_dân nào']},\n",
              " 'xứ_sở': {'occurence': 3,\n",
              "  'sentence': ['Nga nằm ở <mask> nào',\n",
              "   'Trước thế_kỷ 19 , <mask> Nam_Mỹ từng là thuộc địa của thực_dân nào',\n",
              "   'Thành_phố nào đã từng là trung_tâm ngân_hàng của <mask> Trung_Đông trong nhiều thập_kỷ']},\n",
              " 'yếu_tố': {'occurence': 3,\n",
              "  'sentence': ['Israel thuộc <mask> địa_lý nào',\n",
              "   'Có_thể xuất_hiện khối_u ở <mask> nào',\n",
              "   'Các <mask> sẫm màu trên Mặt_Trăng gần hố Aristarchus có_thể là gì']},\n",
              " 'thời_kỳ': {'occurence': 3,\n",
              "  'sentence': ['Nền văn_minh của người Maya được xây_dựng ở <mask> địa_lý nào',\n",
              "   'Quốc_gia khai_sinh ra ASIAD thuộc <mask> nào châu_Á',\n",
              "   'Thành_phố nào đã từng là trung_tâm ngân_hàng của <mask> Trung_Đông trong nhiều thập_kỷ']},\n",
              " 'Quận': {'occurence': 3,\n",
              "  'sentence': ['Macao nằm ở <mask> nào',\n",
              "   'Biên_Hoà thuộc <mask> nào',\n",
              "   'Bồ_Đào_Nha thuộc <mask> địa_lý nào của châu_Âu']},\n",
              " 'Huyện': {'occurence': 3,\n",
              "  'sentence': ['Tuyên_Quang nằm ở <mask> nào',\n",
              "   'Quảng_Đông nằm ở <mask> nào',\n",
              "   'Đắk_Nông nằm ở <mask> nào']},\n",
              " 'phủ': {'occurence': 3,\n",
              "  'sentence': ['Tỉnh Đắk_Lắk thuộc <mask> nào của nước ta',\n",
              "   'Tỉnh Cao_Bằng thuộc <mask> nào của nước ta',\n",
              "   'Tỉnh Khánh_Hoà thuộc <mask> nào của nước ta']},\n",
              " 'đảo': {'occurence': 3,\n",
              "  'sentence': ['Sông Amazon nằm ở <mask> nào',\n",
              "   'Tỉnh nào có diện_tích lớn nhất <mask> Tây_Bắc',\n",
              "   'Philippines có dân_số xếp thứ mấy <mask> Đông_Nam_Á']},\n",
              " 'đâu': {'occurence': 3,\n",
              "  'sentence': ['Sông Amazon nằm ở <mask> nào',\n",
              "   'Bhutan nằm ở <mask> nào',\n",
              "   'Iran nằm ở <mask> nào']},\n",
              " 'đoàn_kết': {'occurence': 3,\n",
              "  'sentence': ['Myanmar có diện_tích rộng thứ mấy trong <mask> Đông_Nam_Á',\n",
              "   'Quốc_gia nào có diện_tích lớn thứ ba <mask> Đông_Nam_Á',\n",
              "   'Thành_phố nào có dân_số đông nhất <mask> Đông_Nam_Á']},\n",
              " 'số': {'occurence': 3,\n",
              "  'sentence': ['Myanmar có diện_tích rộng thứ mấy trong <mask> Đông_Nam_Á',\n",
              "   'Cuba có có diện_tích tự_nhiên và dân_số xếp thứ mấy trong <mask>',\n",
              "   'Dân_số Việt_Nam đứng thứ mấy trong <mask> Châu_Á']},\n",
              " 'quần_thể': {'occurence': 3,\n",
              "  'sentence': ['Lăng_Thoại_Ngọc_Hầu tại <mask> danh_thắng núi Sam còn được gọi là gì',\n",
              "   'Ruộng_bậc_thang nổi_tiếng nào thuộc <mask> Tây_Bắc',\n",
              "   'Diện_tích của <mask> núi Athos là bao_nhiêu']},\n",
              " 'tầng_lớp': {'occurence': 3,\n",
              "  'sentence': ['Đất_nước Uruguay thuộc <mask> nào của châu_Mỹ',\n",
              "   'Quốc_gia khai_sinh ra ASIAD thuộc <mask> nào châu_Á',\n",
              "   'Luật La_Mã được sử_dụng ở những <mask> nào']},\n",
              " 'bấy_nhiêu': {'occurence': 3,\n",
              "  'sentence': ['Tỉnh nào có dân_số đông nhất <mask> miền Tây',\n",
              "   'Thành_phố nào có dân_số đông nhất <mask> Tây_Nguyên',\n",
              "   'thành_phố nào lớn nhất <mask> miền Trung']},\n",
              " 'Lục_địa': {'occurence': 3,\n",
              "  'sentence': ['Nước nào ở <mask> Đông_Nam_Á không giáp với biển',\n",
              "   'Trước thế_kỷ 19 <mask> Nam_Mỹ từng là thuộc địa của thực_dân nào',\n",
              "   'Trước thế_kỷ 19 , <mask> Nam_Mỹ từng là thuộc địa của thực_dân nào']},\n",
              " 'Đông_Nam': {'occurence': 3,\n",
              "  'sentence': ['Nước nào ở <mask> Đông_Nam_Á không giáp với biển',\n",
              "   'Quốc_gia Đông_Nam_Á nào bị bão càn_quét nhiều nhất ở <mask>',\n",
              "   'Bóng_đá Thái_Lan vô_địch giải <mask> mấy lần rồi']},\n",
              " 'hầu_hết': {'occurence': 3,\n",
              "  'sentence': ['Nước nào ở <mask> Đông_Nam_Á không giáp với biển',\n",
              "   'Có bao_nhiêu vương_quốc ở <mask> Đông_Nam_Á',\n",
              "   'Trước thế_kỷ 19 , <mask> Nam_Mỹ từng là thuộc địa của thực_dân nào']},\n",
              " 'duyên_hải': {'occurence': 3,\n",
              "  'sentence': ['Nước nào ở <mask> Đông_Nam_Á không giáp với biển',\n",
              "   'Thừa_Thiên_Huế có diện_tích xếp thứ mấy <mask> Bắc Trung_Bộ',\n",
              "   'Tỉnh Quảng_Bình có diện_tích tự_nhiên xếp thứ mấy <mask> Bắc Trung_bộ']},\n",
              " 'Vương_quốc': {'occurence': 3,\n",
              "  'sentence': ['Thành_phố nào có diện_tích lớn nhất <mask> Tây_Nguyên',\n",
              "   'Có bao_nhiêu vương_quốc ở <mask> Đông_Nam_Á',\n",
              "   'Tỉnh nào có diện_tích nhỏ nhất <mask> Tây_Nguyên']},\n",
              " 'hệ': {'occurence': 3,\n",
              "  'sentence': ['Tỉnh nào có dân_số đông nhất <mask> Đông_Bắc_Bộ',\n",
              "   'Tỉnh nào có ít thành_phố thị_xã nhất <mask> Đông_Nam_Bộ',\n",
              "   'Tỉnh nào có diện_tích tự_nhiên lớn nhất <mask> Đông_Bắc_Bộ']},\n",
              " 'trực_thuộc': {'occurence': 3,\n",
              "  'sentence': ['Tỉnh nào có dân_số đông nhất <mask> Đông_Bắc_Bộ',\n",
              "   'Tỉnh Đắk_Lắk có diện_tích tự_nhiên xếp thứ mấy <mask> Tây_Nguyên',\n",
              "   'Tỉnh nào có diện_tích tự_nhiên lớn nhất <mask> Đông_Bắc_Bộ']},\n",
              " 'Châu_Á': {'occurence': 3,\n",
              "  'sentence': ['Quốc_gia Đông_Nam_Á nào bị bão càn_quét nhiều nhất ở <mask>',\n",
              "   'Cuba có có diện_tích tự_nhiên và dân_số xếp thứ mấy trong <mask>',\n",
              "   'Indonesia dẫn_đầu <mask> Đông_Nam_Á về hiện_tượng tự_nhiên nào']},\n",
              " 'tư': {'occurence': 3,\n",
              "  'sentence': ['Philippines có dân_số xếp thứ mấy <mask> Đông_Nam_Á',\n",
              "   'Hiện_nay diện_tích và dân_số Indonesia xếp thứ mấy <mask> Đông_Nam_Á',\n",
              "   'Singapore là quốc_gia có diện_tích tự_nhiên xếp thứ mấy <mask> Đông_Nam_Á']},\n",
              " 'Cộng_hoà': {'occurence': 3,\n",
              "  'sentence': ['Quốc_gia có diện_tích nhỏ nhất thuộc <mask> Nam_Mỹ',\n",
              "   'Trước thế_kỷ 19 <mask> Nam_Mỹ từng là thuộc địa của thực_dân nào',\n",
              "   'Trước thế_kỷ 19 , <mask> Nam_Mỹ từng là thuộc địa của thực_dân nào']},\n",
              " 'hợp_tác': {'occurence': 3,\n",
              "  'sentence': ['Tỉnh nào có ít thành_phố thị_xã nhất <mask> Đông_Nam_Bộ',\n",
              "   'Tỉnh nào có nhiều thành_phố thị_xã nhất <mask> Đông_Nam_Bộ',\n",
              "   'Tổ_chức liên_kết <mask> Đông_Nam_Á là gì']},\n",
              " 'phần_lớn': {'occurence': 3,\n",
              "  'sentence': ['Có bao_nhiêu vương_quốc ở <mask> Đông_Nam_Á',\n",
              "   'Nước Anh hiện nằm ở <mask> nào của châu_Âu',\n",
              "   'Trước thế_kỷ 19 , <mask> Nam_Mỹ từng là thuộc địa của thực_dân nào']},\n",
              " 'bắc': {'occurence': 3,\n",
              "  'sentence': ['Tỉnh Đắk_Lắk có diện_tích tự_nhiên xếp thứ mấy <mask> Tây_Nguyên',\n",
              "   'Tỉnh Quảng_Bình có diện_tích tự_nhiên xếp thứ mấy <mask> Bắc Trung_bộ',\n",
              "   'Tỉnh duy_nhất ở <mask> Bắc Trung_Bộ có 2 thành_phố thuộc tỉnh']},\n",
              " 'danh_sách': {'occurence': 3,\n",
              "  'sentence': ['Cuba có có diện_tích tự_nhiên và dân_số xếp thứ mấy trong <mask>',\n",
              "   'Indonesia dẫn_đầu <mask> Đông_Nam_Á về hiện_tượng tự_nhiên nào',\n",
              "   'Dân_số Việt_Nam đứng thứ mấy trong <mask> Châu_Á']},\n",
              " 'top': {'occurence': 3,\n",
              "  'sentence': ['Cuba có có diện_tích tự_nhiên và dân_số xếp thứ mấy trong <mask>',\n",
              "   'Indonesia dẫn_đầu <mask> Đông_Nam_Á về hiện_tượng tự_nhiên nào',\n",
              "   'Dân_số Việt_Nam đứng thứ mấy trong <mask> Châu_Á']},\n",
              " 'ấp': {'occurence': 3,\n",
              "  'sentence': ['Người Ba Na chủ_yếu sinh_sống ở <mask> nào',\n",
              "   'Maildves nằm ở <mask> nào',\n",
              "   'Người Nùng sống ở <mask> nào']},\n",
              " 'Khối': {'occurence': 3,\n",
              "  'sentence': ['Tỉnh nào không thuộc <mask> miền Trung',\n",
              "   'Thành_phố nào có dân_số đông nhất <mask> Đông_Nam_Á',\n",
              "   'Dân_số của Sóc_Trăng đứng thứ mấy trong <mask> đồng_bằng sông Cửu_Long']},\n",
              " 'Bắc': {'occurence': 3,\n",
              "  'sentence': ['Thừa_Thiên_Huế có diện_tích xếp thứ mấy <mask> Bắc Trung_Bộ',\n",
              "   'Tỉnh Quảng_Bình có diện_tích tự_nhiên xếp thứ mấy <mask> Bắc Trung_bộ',\n",
              "   'Tỉnh duy_nhất ở <mask> Bắc Trung_Bộ có 2 thành_phố thuộc tỉnh']},\n",
              " 'vực': {'occurence': 3,\n",
              "  'sentence': ['Thừa_Thiên_Huế có diện_tích xếp thứ mấy <mask> Bắc Trung_Bộ',\n",
              "   'Tỉnh Quảng_Bình có diện_tích tự_nhiên xếp thứ mấy <mask> Bắc Trung_bộ',\n",
              "   'Tỉnh duy_nhất ở <mask> Bắc Trung_Bộ có 2 thành_phố thuộc tỉnh']},\n",
              " 'cư_dân': {'occurence': 3,\n",
              "  'sentence': ['Phần_lớn <mask> Đông_Nam_Á nằm ở bán_cầu nào',\n",
              "   'Các nông_sản chính của <mask> phía đông Hoa_Kì là',\n",
              "   'Dân_số của Sóc_Trăng đứng thứ mấy trong <mask> đồng_bằng sông Cửu_Long']},\n",
              " 'đầu': {'occurence': 3,\n",
              "  'sentence': ['Tỉnh Quảng_Bình có diện_tích tự_nhiên xếp thứ mấy <mask> Bắc Trung_bộ',\n",
              "   'Nước Anh hiện nằm ở <mask> nào của châu_Âu',\n",
              "   'Singapore là quốc_gia có diện_tích tự_nhiên xếp thứ mấy <mask> Đông_Nam_Á']},\n",
              " 'tổng': {'occurence': 3,\n",
              "  'sentence': ['Tỉnh nào có diện_tích tự_nhiên lớn nhất <mask> Đông_Bắc_Bộ',\n",
              "   'Dân_số của Sóc_Trăng đứng thứ mấy trong <mask> đồng_bằng sông Cửu_Long',\n",
              "   'Diện_tích của Sóc_Trăng đứng thứ mấy trong <mask> đồng_bằng sông Cửu_Long']},\n",
              " 'TP': {'occurence': 3,\n",
              "  'sentence': ['Đồng_Nai nằm ở <mask> nào',\n",
              "   'Đà_Nẵng nằm ở <mask> nào',\n",
              "   'Sông Amazon chảy qua <mask> nào']},\n",
              " 'quận_huyện': {'occurence': 3,\n",
              "  'sentence': ['Đồng_Nai nằm ở <mask> nào',\n",
              "   'Đà_Nẵng nằm ở <mask> nào',\n",
              "   'Quảng_Đông nằm ở <mask> nào']},\n",
              " 'cơ_cấu': {'occurence': 3,\n",
              "  'sentence': ['Dân_số Việt_Nam đứng thứ mấy trong <mask> Châu_Á',\n",
              "   'Dân_số của Sóc_Trăng đứng thứ mấy trong <mask> đồng_bằng sông Cửu_Long',\n",
              "   'Diện_tích của Sóc_Trăng đứng thứ mấy trong <mask> đồng_bằng sông Cửu_Long']},\n",
              " 'nhân_dân': {'occurence': 2,\n",
              "  'sentence': ['tổng_sản_phẩm nội_địa của <mask> Mỹ Latinh năm 2010 là bao_nhiêu',\n",
              "   'Trước thế_kỷ 19 <mask> Nam_Mỹ từng là thuộc địa của thực_dân nào']},\n",
              " 'dân': {'occurence': 2,\n",
              "  'sentence': ['tổng_sản_phẩm nội_địa của <mask> Mỹ Latinh năm 2010 là bao_nhiêu',\n",
              "   'Dân_số của Sóc_Trăng đứng thứ mấy trong <mask> đồng_bằng sông Cửu_Long']},\n",
              " 'bình_quân': {'occurence': 2,\n",
              "  'sentence': ['tổng_sản_phẩm nội_địa của <mask> Mỹ Latinh năm 2010 là bao_nhiêu',\n",
              "   'Philippines có dân_số xếp thứ mấy <mask> Đông_Nam_Á']},\n",
              " 'khung': {'occurence': 2,\n",
              "  'sentence': ['Nước Bồ_Đào_Nha hiện_nay thuộc <mask> địa_lý nào của châu_Âu',\n",
              "   'Bồ_Đào_Nha thuộc <mask> địa_lý nào của châu_Âu']},\n",
              " 'kiểu': {'occurence': 2,\n",
              "  'sentence': ['Nền văn_minh của người Maya được xây_dựng ở <mask> địa_lý nào',\n",
              "   'Luxembourg thuộc <mask> địa_lý nào sau đây']},\n",
              " 'cung': {'occurence': 2,\n",
              "  'sentence': ['Nền văn_minh của người Maya được xây_dựng ở <mask> địa_lý nào',\n",
              "   'Lăng_Thoại_Ngọc_Hầu tại <mask> danh_thắng núi Sam còn được gọi là gì']},\n",
              " 'mảnh': {'occurence': 2,\n",
              "  'sentence': ['Nền văn_minh của người Maya được xây_dựng ở <mask> địa_lý nào',\n",
              "   'Các <mask> sẫm màu trên Mặt_Trăng gần hố Aristarchus có_thể là gì']},\n",
              " 'Thành_phố': {'occurence': 2,\n",
              "  'sentence': ['Macao nằm ở <mask> nào', 'Maildves nằm ở <mask> nào']},\n",
              " 'thị_xã': {'occurence': 2,\n",
              "  'sentence': ['Sint_Maarten thuộc <mask> nào',\n",
              "   'Quảng_Đông nằm ở <mask> nào']},\n",
              " 'lĩnh_vực': {'occurence': 2,\n",
              "  'sentence': ['Các ngân_hàng <mask> công ở Ấn_Độ là một con tàu chìm',\n",
              "   'Quốc_gia khai_sinh ra ASIAD thuộc <mask> nào châu_Á']},\n",
              " 'Trục': {'occurence': 2,\n",
              "  'sentence': ['Cộng_hoà Peru thuộc <mask> địa_lý nào',\n",
              "   'Dân_số Việt_Nam đứng thứ mấy trong <mask> Châu_Á']},\n",
              " 'đới': {'occurence': 2,\n",
              "  'sentence': ['Luxembourg thuộc <mask> địa_lý nào sau đây',\n",
              "   'Qatar là quốc_gia thuộc <mask> địa_lý nào']},\n",
              " 'khía_cạnh': {'occurence': 2,\n",
              "  'sentence': ['Biển Đen nằm ở <mask> nào của Trái_Đất',\n",
              "   'tỉnh điện_biên ở <mask> nào của vùng tây bắc']},\n",
              " 'rìa': {'occurence': 2,\n",
              "  'sentence': ['Biển Đen nằm ở <mask> nào của Trái_Đất',\n",
              "   'Nước Anh hiện nằm ở <mask> nào của châu_Âu']},\n",
              " 'vĩ_tuyến': {'occurence': 2,\n",
              "  'sentence': ['Biển Đen nằm ở <mask> nào của Trái_Đất',\n",
              "   'tỉnh điện_biên ở <mask> nào của vùng tây bắc']},\n",
              " 'nửa': {'occurence': 2,\n",
              "  'sentence': ['Biển Đen nằm ở <mask> nào của Trái_Đất',\n",
              "   'Các nông_sản chính của <mask> phía đông Hoa_Kì là']},\n",
              " 'BCĐ': {'occurence': 2,\n",
              "  'sentence': ['Bốn tỉnh thuộc <mask> Tây_Bắc là những tỉnh nào',\n",
              "   'Ngọn núi nào cao nhất <mask> Tây_Nam_Bộ']},\n",
              " 'núi': {'occurence': 2,\n",
              "  'sentence': ['Ngọn núi nào cao nhất <mask> Tây_Nam_Bộ',\n",
              "   'Ruộng_bậc_thang nổi_tiếng nào thuộc <mask> Tây_Bắc']},\n",
              " 'phần_đông': {'occurence': 2,\n",
              "  'sentence': ['Phú_Yên ở <mask> nào của nước ta',\n",
              "   'Nước Anh hiện nằm ở <mask> nào của châu_Âu']},\n",
              " 'vùng_sâu': {'occurence': 2,\n",
              "  'sentence': ['Phú_Yên ở <mask> nào của nước ta',\n",
              "   'Tỉnh Điện_Biên ở <mask> nào của vùng Tây_Bắc']},\n",
              " 'trường': {'occurence': 2,\n",
              "  'sentence': ['Myanmar có diện_tích rộng thứ mấy trong <mask> Đông_Nam_Á',\n",
              "   'Quốc_gia nào trẻ nhất <mask> Đông_Nam_Á']},\n",
              " 'môi_trường': {'occurence': 2,\n",
              "  'sentence': ['Myanmar có diện_tích rộng thứ mấy trong <mask> Đông_Nam_Á',\n",
              "   'Thị_xã Lạng_Sơn là <mask> hoạt_động của nhà cách_mạng nào']},\n",
              " 'lòng': {'occurence': 2,\n",
              "  'sentence': ['Myanmar có diện_tích rộng thứ mấy trong <mask> Đông_Nam_Á',\n",
              "   'Có bao_nhiêu vương_quốc ở <mask> Đông_Nam_Á']},\n",
              " 'TK': {'occurence': 2,\n",
              "  'sentence': ['Myanmar có diện_tích rộng thứ mấy trong <mask> Đông_Nam_Á',\n",
              "   'Dân_số Việt_Nam đứng thứ mấy trong <mask> Châu_Á']},\n",
              " 'vườn': {'occurence': 2,\n",
              "  'sentence': ['Lăng_Thoại_Ngọc_Hầu tại <mask> danh_thắng núi Sam còn được gọi là gì',\n",
              "   'Các nông_sản chính của <mask> phía đông Hoa_Kì là']},\n",
              " 'công_trình': {'occurence': 2,\n",
              "  'sentence': ['Lăng_Thoại_Ngọc_Hầu tại <mask> danh_thắng núi Sam còn được gọi là gì',\n",
              "   'Các nhà vẽ bản_đồ thì dùng cách nào để đặt tên <mask> trên bản_đồ']},\n",
              " 'thổ_dân': {'occurence': 2,\n",
              "  'sentence': ['Peru có diện_tích xếp thứ mấy <mask> Nam_Mỹ',\n",
              "   'Trước thế_kỷ 19 , <mask> Nam_Mỹ từng là thuộc địa của thực_dân nào']},\n",
              " 'ở_riêng': {'occurence': 2,\n",
              "  'sentence': ['Quốc_gia nào có diện_tích lớn thứ ba <mask> Đông_Nam_Á',\n",
              "   'Singapore là quốc_gia có diện_tích tự_nhiên xếp thứ mấy <mask> Đông_Nam_Á']},\n",
              " 'đầu_mối': {'occurence': 2,\n",
              "  'sentence': ['Tỉnh Điện_Biên ở <mask> nào của vùng Tây_Bắc',\n",
              "   'Thị_xã Lạng_Sơn là <mask> hoạt_động của nhà cách_mạng nào']},\n",
              " 'đồng_bào': {'occurence': 2,\n",
              "  'sentence': ['Thành_phố nào có dân_số đông nhất <mask> Tây_Nguyên',\n",
              "   'Thành_phố nào có diện_tích lớn nhất <mask> Tây_Nguyên']},\n",
              " 'tổ_chức': {'occurence': 2,\n",
              "  'sentence': ['Quốc_gia khai_sinh ra ASIAD thuộc <mask> nào châu_Á',\n",
              "   'Luật La_Mã được sử_dụng ở những <mask> nào']},\n",
              " 'Về': {'occurence': 2,\n",
              "  'sentence': ['Ruộng_bậc_thang nổi_tiếng nào thuộc <mask> Tây_Bắc',\n",
              "   'Quốc_gia có diện_tích nhỏ nhất thuộc <mask> Nam_Mỹ']},\n",
              " 'cao_nguyên': {'occurence': 2,\n",
              "  'sentence': ['Ruộng_bậc_thang nổi_tiếng nào thuộc <mask> Tây_Bắc',\n",
              "   'Dãy núi nào cao nhất <mask> Tây_Nguyên']},\n",
              " 'bằng': {'occurence': 2,\n",
              "  'sentence': ['Quốc_gia nào dân_số ít_nhất <mask> Đông_Nam_Á',\n",
              "   'Tỉnh nào có diện_tích tự_nhiên lớn nhất <mask> Đông_Bắc_Bộ']},\n",
              " 'từng': {'occurence': 2,\n",
              "  'sentence': ['Quốc_gia nào dân_số ít_nhất <mask> Đông_Nam_Á',\n",
              "   'Quốc_gia nào trẻ nhất <mask> Đông_Nam_Á']},\n",
              " 'cũng': {'occurence': 2,\n",
              "  'sentence': ['Quốc_gia nào dân_số ít_nhất <mask> Đông_Nam_Á',\n",
              "   'Tỉnh nào có ít thành_phố thị_xã nhất <mask> Đông_Nam_Bộ']},\n",
              " 'khi': {'occurence': 2,\n",
              "  'sentence': ['Hiện_nay diện_tích và dân_số Indonesia xếp thứ mấy <mask> Đông_Nam_Á',\n",
              "   'Bắc_Ninh nằm ở <mask> nào Việt_Nam']},\n",
              " 'Tiểu_vùng': {'occurence': 2,\n",
              "  'sentence': ['Tỉnh nào có ít thành_phố thị_xã nhất <mask> Đông_Nam_Bộ',\n",
              "   'Dân_số của Sóc_Trăng đứng thứ mấy trong <mask> đồng_bằng sông Cửu_Long']},\n",
              " 'quản_lý': {'occurence': 2,\n",
              "  'sentence': ['Các Tiểu vương_quốc Ả_Rập_Thống nhất thuộc <mask> nào của châu_Á',\n",
              "   'Ai_Cập thuộc <mask> nào của châu_Phi']},\n",
              " 'đỉnh': {'occurence': 2,\n",
              "  'sentence': ['Dãy núi nào cao nhất <mask> Tây_Nguyên',\n",
              "   'tỉnh điện_biên ở <mask> nào của vùng tây bắc']},\n",
              " 'nam': {'occurence': 2,\n",
              "  'sentence': ['Tỉnh Đắk_Lắk có diện_tích tự_nhiên xếp thứ mấy <mask> Tây_Nguyên',\n",
              "   'Singapore là quốc_gia có diện_tích tự_nhiên xếp thứ mấy <mask> Đông_Nam_Á']},\n",
              " 'thôn': {'occurence': 2,\n",
              "  'sentence': ['Người Ba Na chủ_yếu sinh_sống ở <mask> nào',\n",
              "   'Người Nùng sống ở <mask> nào']},\n",
              " 'thôn_bản': {'occurence': 2,\n",
              "  'sentence': ['Người Ba Na chủ_yếu sinh_sống ở <mask> nào',\n",
              "   'Người Nùng sống ở <mask> nào']},\n",
              " 'bản': {'occurence': 2,\n",
              "  'sentence': ['Người Ba Na chủ_yếu sinh_sống ở <mask> nào',\n",
              "   'Người Nùng sống ở <mask> nào']},\n",
              " 'xóm': {'occurence': 2,\n",
              "  'sentence': ['Người Ba Na chủ_yếu sinh_sống ở <mask> nào',\n",
              "   'Người Nùng sống ở <mask> nào']},\n",
              " 'bản_làng': {'occurence': 2,\n",
              "  'sentence': ['Người Ba Na chủ_yếu sinh_sống ở <mask> nào',\n",
              "   'Người Nùng sống ở <mask> nào']},\n",
              " 'Bắc_Trung_Bộ': {'occurence': 2,\n",
              "  'sentence': ['Tỉnh nào không thuộc <mask> miền Trung',\n",
              "   'Tỉnh duy_nhất ở <mask> Bắc Trung_Bộ có 2 thành_phố thuộc tỉnh']},\n",
              " 'Duyên_hải': {'occurence': 2,\n",
              "  'sentence': ['Thừa_Thiên_Huế có diện_tích xếp thứ mấy <mask> Bắc Trung_Bộ',\n",
              "   'Tỉnh Quảng_Bình có diện_tích tự_nhiên xếp thứ mấy <mask> Bắc Trung_bộ']},\n",
              " 'dân_cư': {'occurence': 2,\n",
              "  'sentence': ['Phần_lớn <mask> Đông_Nam_Á nằm ở bán_cầu nào',\n",
              "   'Dân_số của Sóc_Trăng đứng thứ mấy trong <mask> đồng_bằng sông Cửu_Long']},\n",
              " 'bóng_đá': {'occurence': 2,\n",
              "  'sentence': ['Phần_lớn <mask> Đông_Nam_Á nằm ở bán_cầu nào',\n",
              "   'Quốc_gia nào trẻ nhất <mask> Đông_Nam_Á']},\n",
              " 'liệu': {'occurence': 2,\n",
              "  'sentence': ['Trước thế_kỷ 19 <mask> Nam_Mỹ từng là thuộc địa của thực_dân nào',\n",
              "   'Trước thế_kỷ 19 , <mask> Nam_Mỹ từng là thuộc địa của thực_dân nào']},\n",
              " 'Thế_giới': {'occurence': 2,\n",
              "  'sentence': ['Quốc_gia nào sản_xuất vàng nhiều nhất <mask> Nam_Mỹ',\n",
              "   'Thành_phố nào đã từng là trung_tâm ngân_hàng của <mask> Trung_Đông trong nhiều thập_kỷ']},\n",
              " 'thành_viên': {'occurence': 2,\n",
              "  'sentence': ['ASEAN là tổ_chức kinh_tế của <mask> nào',\n",
              "   'ASEAN là tổ_chức liên_kết <mask> nào']},\n",
              " 'thủ_phủ': {'occurence': 2,\n",
              "  'sentence': ['Tỉnh nào có diện_tích nhỏ nhất <mask> Tây_Nguyên',\n",
              "   'Thị_xã Lạng_Sơn là <mask> hoạt_động của nhà cách_mạng nào']},\n",
              " 'xếp_hạng': {'occurence': 2,\n",
              "  'sentence': ['Indonesia dẫn_đầu <mask> Đông_Nam_Á về hiện_tượng tự_nhiên nào',\n",
              "   'Dân_số Việt_Nam đứng thứ mấy trong <mask> Châu_Á']},\n",
              " 'lô': {'occurence': 2,\n",
              "  'sentence': ['Qatar là quốc_gia thuộc <mask> địa_lý nào',\n",
              "   'Bồ_Đào_Nha thuộc <mask> địa_lý nào của châu_Âu']},\n",
              " 'thứ_tự': {'occurence': 2,\n",
              "  'sentence': ['Nước Uzbekistan nằm ở <mask> nào châu_Á',\n",
              "   'Dân_số Việt_Nam đứng thứ mấy trong <mask> Châu_Á']},\n",
              " 'chính': {'occurence': 2,\n",
              "  'sentence': ['Nguyên_tắc <mask> đối_với máy_bay siêu_âm là gì',\n",
              "   'ASEAN là tổ_chức liên_kết <mask> nào']},\n",
              " 'quan_trọng': {'occurence': 2,\n",
              "  'sentence': ['Nguyên_tắc <mask> đối_với máy_bay siêu_âm là gì',\n",
              "   'ASEAN là tổ_chức liên_kết <mask> nào']},\n",
              " 'thế_kỷ': {'occurence': 2,\n",
              "  'sentence': ['Quốc_gia nào trẻ nhất <mask> Đông_Nam_Á',\n",
              "   'Thành_phố nào đã từng là trung_tâm ngân_hàng của <mask> Trung_Đông trong nhiều thập_kỷ']},\n",
              " 'kỷ_nguyên': {'occurence': 2,\n",
              "  'sentence': ['Quốc_gia nào trẻ nhất <mask> Đông_Nam_Á',\n",
              "   'Thành_phố nào đã từng là trung_tâm ngân_hàng của <mask> Trung_Đông trong nhiều thập_kỷ']},\n",
              " 'tứ_giác': {'occurence': 2,\n",
              "  'sentence': ['Dân_số của Sóc_Trăng đứng thứ mấy trong <mask> đồng_bằng sông Cửu_Long',\n",
              "   'Diện_tích của Sóc_Trăng đứng thứ mấy trong <mask> đồng_bằng sông Cửu_Long']},\n",
              " 'quy_hoạch': {'occurence': 2,\n",
              "  'sentence': ['Dân_số của Sóc_Trăng đứng thứ mấy trong <mask> đồng_bằng sông Cửu_Long',\n",
              "   'Diện_tích của Sóc_Trăng đứng thứ mấy trong <mask> đồng_bằng sông Cửu_Long']},\n",
              " 'châu_thổ': {'occurence': 2,\n",
              "  'sentence': ['Dân_số của Sóc_Trăng đứng thứ mấy trong <mask> đồng_bằng sông Cửu_Long',\n",
              "   'Diện_tích của Sóc_Trăng đứng thứ mấy trong <mask> đồng_bằng sông Cửu_Long']},\n",
              " 'tổng_sản_phẩm': {'occurence': 1,\n",
              "  'sentence': ['tổng_sản_phẩm nội_địa của <mask> Mỹ Latinh năm 2010 là bao_nhiêu']},\n",
              " 'Mỹ': {'occurence': 1,\n",
              "  'sentence': ['tổng_sản_phẩm nội_địa của <mask> Mỹ Latinh năm 2010 là bao_nhiêu']},\n",
              " 'mỗi': {'occurence': 1,\n",
              "  'sentence': ['tổng_sản_phẩm nội_địa của <mask> Mỹ Latinh năm 2010 là bao_nhiêu']},\n",
              " 'vị_thế': {'occurence': 1, 'sentence': ['Nga nằm ở <mask> nào']},\n",
              " 'mốc': {'occurence': 1,\n",
              "  'sentence': ['Nền văn_minh của người Maya được xây_dựng ở <mask> địa_lý nào']},\n",
              " 'những': {'occurence': 1,\n",
              "  'sentence': ['Nền văn_minh của người Maya được xây_dựng ở <mask> địa_lý nào']},\n",
              " 'thời_đại': {'occurence': 1,\n",
              "  'sentence': ['Nền văn_minh của người Maya được xây_dựng ở <mask> địa_lý nào']},\n",
              " 'trấn': {'occurence': 1, 'sentence': ['Macao nằm ở <mask> nào']},\n",
              " 'sở_hữu': {'occurence': 1,\n",
              "  'sentence': ['Các ngân_hàng <mask> công ở Ấn_Độ là một con tàu chìm']},\n",
              " 'vay': {'occurence': 1,\n",
              "  'sentence': ['Các ngân_hàng <mask> công ở Ấn_Độ là một con tàu chìm']},\n",
              " 'hoạt_động': {'occurence': 1,\n",
              "  'sentence': ['Các ngân_hàng <mask> công ở Ấn_Độ là một con tàu chìm']},\n",
              " 'ngân_hàng': {'occurence': 1,\n",
              "  'sentence': ['Các ngân_hàng <mask> công ở Ấn_Độ là một con tàu chìm']},\n",
              " 'giao_dịch': {'occurence': 1,\n",
              "  'sentence': ['Các ngân_hàng <mask> công ở Ấn_Độ là một con tàu chìm']},\n",
              " 'sản': {'occurence': 1,\n",
              "  'sentence': ['Các ngân_hàng <mask> công ở Ấn_Độ là một con tàu chìm']},\n",
              " 'Bộ': {'occurence': 1, 'sentence': ['Cộng_hoà Peru thuộc <mask> địa_lý nào']},\n",
              " 'cặp': {'occurence': 1,\n",
              "  'sentence': ['Luxembourg thuộc <mask> địa_lý nào sau đây']},\n",
              " 'chỉ_dẫn': {'occurence': 1,\n",
              "  'sentence': ['Luxembourg thuộc <mask> địa_lý nào sau đây']},\n",
              " 'sơ_đồ': {'occurence': 1,\n",
              "  'sentence': ['Luxembourg thuộc <mask> địa_lý nào sau đây']},\n",
              " 'bán_kính': {'occurence': 1,\n",
              "  'sentence': ['Thành_phố Đà_Lạt nằm ở <mask> nào']},\n",
              " 'khúc': {'occurence': 1, 'sentence': ['Vịnh Hạ_Long nằm ở <mask> nào']},\n",
              " 'tầng': {'occurence': 1,\n",
              "  'sentence': ['Biển Đen nằm ở <mask> nào của Trái_Đất']},\n",
              " 'Lĩnh': {'occurence': 1,\n",
              "  'sentence': ['Biển Đen nằm ở <mask> nào của Trái_Đất']},\n",
              " 'tận_cùng': {'occurence': 1,\n",
              "  'sentence': ['Biển Đen nằm ở <mask> nào của Trái_Đất']},\n",
              " 'phương_diện': {'occurence': 1,\n",
              "  'sentence': ['Biển Đen nằm ở <mask> nào của Trái_Đất']},\n",
              " 'Ban': {'occurence': 1,\n",
              "  'sentence': ['Bốn tỉnh thuộc <mask> Tây_Bắc là những tỉnh nào']},\n",
              " 'ATK': {'occurence': 1,\n",
              "  'sentence': ['Bốn tỉnh thuộc <mask> Tây_Bắc là những tỉnh nào']},\n",
              " 'ban': {'occurence': 1,\n",
              "  'sentence': ['Bốn tỉnh thuộc <mask> Tây_Bắc là những tỉnh nào']},\n",
              " 'chùm': {'occurence': 1,\n",
              "  'sentence': ['Bốn tỉnh thuộc <mask> Tây_Bắc là những tỉnh nào']},\n",
              " 'trời': {'occurence': 1,\n",
              "  'sentence': ['Ngọn núi nào cao nhất <mask> Tây_Nam_Bộ']},\n",
              " 'khắp_nơi': {'occurence': 1,\n",
              "  'sentence': ['Phú_Yên ở <mask> nào của nước ta']},\n",
              " 'tự_quản': {'occurence': 1,\n",
              "  'sentence': ['Italy thuộc <mask> nào của châu_Âu']},\n",
              " 'đại_gia_đình': {'occurence': 1,\n",
              "  'sentence': ['Myanmar có diện_tích rộng thứ mấy trong <mask> Đông_Nam_Á']},\n",
              " 'hiệp_hội': {'occurence': 1,\n",
              "  'sentence': ['Myanmar có diện_tích rộng thứ mấy trong <mask> Đông_Nam_Á']},\n",
              " 'di_tích': {'occurence': 1,\n",
              "  'sentence': ['Lăng_Thoại_Ngọc_Hầu tại <mask> danh_thắng núi Sam còn được gọi là gì']},\n",
              " 'Quần_thể': {'occurence': 1,\n",
              "  'sentence': ['Lăng_Thoại_Ngọc_Hầu tại <mask> danh_thắng núi Sam còn được gọi là gì']},\n",
              " 'Di_tích': {'occurence': 1,\n",
              "  'sentence': ['Lăng_Thoại_Ngọc_Hầu tại <mask> danh_thắng núi Sam còn được gọi là gì']},\n",
              " 'Công_viên': {'occurence': 1,\n",
              "  'sentence': ['Lăng_Thoại_Ngọc_Hầu tại <mask> danh_thắng núi Sam còn được gọi là gì']},\n",
              " 'công_viên': {'occurence': 1,\n",
              "  'sentence': ['Lăng_Thoại_Ngọc_Hầu tại <mask> danh_thắng núi Sam còn được gọi là gì']},\n",
              " 'đại': {'occurence': 1,\n",
              "  'sentence': ['Lăng_Thoại_Ngọc_Hầu tại <mask> danh_thắng núi Sam còn được gọi là gì']},\n",
              " 'Trung_tâm': {'occurence': 1,\n",
              "  'sentence': ['Lăng_Thoại_Ngọc_Hầu tại <mask> danh_thắng núi Sam còn được gọi là gì']},\n",
              " 'siêu': {'occurence': 1,\n",
              "  'sentence': ['Lăng_Thoại_Ngọc_Hầu tại <mask> danh_thắng núi Sam còn được gọi là gì']},\n",
              " 'tham_quan': {'occurence': 1,\n",
              "  'sentence': ['Lăng_Thoại_Ngọc_Hầu tại <mask> danh_thắng núi Sam còn được gọi là gì']},\n",
              " 'KDL': {'occurence': 1,\n",
              "  'sentence': ['Lăng_Thoại_Ngọc_Hầu tại <mask> danh_thắng núi Sam còn được gọi là gì']},\n",
              " 'Bến': {'occurence': 1,\n",
              "  'sentence': ['Lăng_Thoại_Ngọc_Hầu tại <mask> danh_thắng núi Sam còn được gọi là gì']},\n",
              " 'lễ_hội': {'occurence': 1,\n",
              "  'sentence': ['Lăng_Thoại_Ngọc_Hầu tại <mask> danh_thắng núi Sam còn được gọi là gì']},\n",
              " 'cổng': {'occurence': 1,\n",
              "  'sentence': ['Lăng_Thoại_Ngọc_Hầu tại <mask> danh_thắng núi Sam còn được gọi là gì']},\n",
              " 'Đại': {'occurence': 1,\n",
              "  'sentence': ['Lăng_Thoại_Ngọc_Hầu tại <mask> danh_thắng núi Sam còn được gọi là gì']},\n",
              " 'Di_sản': {'occurence': 1,\n",
              "  'sentence': ['Lăng_Thoại_Ngọc_Hầu tại <mask> danh_thắng núi Sam còn được gọi là gì']},\n",
              " 'khuôn_viên': {'occurence': 1,\n",
              "  'sentence': ['Lăng_Thoại_Ngọc_Hầu tại <mask> danh_thắng núi Sam còn được gọi là gì']},\n",
              " 'Lễ_hội': {'occurence': 1,\n",
              "  'sentence': ['Lăng_Thoại_Ngọc_Hầu tại <mask> danh_thắng núi Sam còn được gọi là gì']},\n",
              " 'địa_đạo': {'occurence': 1,\n",
              "  'sentence': ['Lăng_Thoại_Ngọc_Hầu tại <mask> danh_thắng núi Sam còn được gọi là gì']},\n",
              " 'hang': {'occurence': 1,\n",
              "  'sentence': ['Lăng_Thoại_Ngọc_Hầu tại <mask> danh_thắng núi Sam còn được gọi là gì']},\n",
              " 'Làng': {'occurence': 1,\n",
              "  'sentence': ['Lăng_Thoại_Ngọc_Hầu tại <mask> danh_thắng núi Sam còn được gọi là gì']},\n",
              " 'di_sản': {'occurence': 1,\n",
              "  'sentence': ['Lăng_Thoại_Ngọc_Hầu tại <mask> danh_thắng núi Sam còn được gọi là gì']},\n",
              " 'thăm': {'occurence': 1,\n",
              "  'sentence': ['Lăng_Thoại_Ngọc_Hầu tại <mask> danh_thắng núi Sam còn được gọi là gì']},\n",
              " 'du_lịch': {'occurence': 1,\n",
              "  'sentence': ['Lăng_Thoại_Ngọc_Hầu tại <mask> danh_thắng núi Sam còn được gọi là gì']},\n",
              " 'Vườn': {'occurence': 1,\n",
              "  'sentence': ['Lăng_Thoại_Ngọc_Hầu tại <mask> danh_thắng núi Sam còn được gọi là gì']},\n",
              " 'Cung': {'occurence': 1,\n",
              "  'sentence': ['Lăng_Thoại_Ngọc_Hầu tại <mask> danh_thắng núi Sam còn được gọi là gì']},\n",
              " 'hầm': {'occurence': 1,\n",
              "  'sentence': ['Lăng_Thoại_Ngọc_Hầu tại <mask> danh_thắng núi Sam còn được gọi là gì']},\n",
              " 'Điểm': {'occurence': 1,\n",
              "  'sentence': ['Lăng_Thoại_Ngọc_Hầu tại <mask> danh_thắng núi Sam còn được gọi là gì']},\n",
              " 'lại': {'occurence': 1,\n",
              "  'sentence': ['Tỉnh nào có dân_số đông nhất <mask> miền Tây']},\n",
              " 'xuống': {'occurence': 1,\n",
              "  'sentence': ['Tỉnh nào có dân_số đông nhất <mask> miền Tây']},\n",
              " 'kể_cả': {'occurence': 1,\n",
              "  'sentence': ['Tỉnh nào có dân_số đông nhất <mask> miền Tây']},\n",
              " '4': {'occurence': 1,\n",
              "  'sentence': ['Peru có diện_tích xếp thứ mấy <mask> Nam_Mỹ']},\n",
              " 'xung_quanh': {'occurence': 1,\n",
              "  'sentence': ['Quốc_gia nào có diện_tích lớn thứ ba <mask> Đông_Nam_Á']},\n",
              " 'Biển': {'occurence': 1,\n",
              "  'sentence': ['Nước nào ở <mask> Đông_Nam_Á không giáp với biển']},\n",
              " 'địa_giới': {'occurence': 1,\n",
              "  'sentence': ['Tỉnh_Hưng_Yên thuộc <mask> nào của nước ta']},\n",
              " 'vùng_xa': {'occurence': 1,\n",
              "  'sentence': ['Tỉnh Điện_Biên ở <mask> nào của vùng Tây_Bắc']},\n",
              " 'vũng': {'occurence': 1,\n",
              "  'sentence': ['Sông nào không chảy qua <mask> Đông_Nam_Bộ']},\n",
              " 'sông_nước': {'occurence': 1,\n",
              "  'sentence': ['Sông nào không chảy qua <mask> Đông_Nam_Bộ']},\n",
              " 'sông': {'occurence': 1,\n",
              "  'sentence': ['Sông nào không chảy qua <mask> Đông_Nam_Bộ']},\n",
              " 'dân_tộc': {'occurence': 1,\n",
              "  'sentence': ['Quốc_gia khai_sinh ra ASIAD thuộc <mask> nào châu_Á']},\n",
              " 'trật_tự': {'occurence': 1,\n",
              "  'sentence': ['Quốc_gia khai_sinh ra ASIAD thuộc <mask> nào châu_Á']},\n",
              " 'giai_cấp': {'occurence': 1,\n",
              "  'sentence': ['Quốc_gia khai_sinh ra ASIAD thuộc <mask> nào châu_Á']},\n",
              " 'chủng_tộc': {'occurence': 1,\n",
              "  'sentence': ['Quốc_gia khai_sinh ra ASIAD thuộc <mask> nào châu_Á']},\n",
              " 'dòng': {'occurence': 1,\n",
              "  'sentence': ['Quốc_gia khai_sinh ra ASIAD thuộc <mask> nào châu_Á']},\n",
              " 'Liên_đoàn': {'occurence': 1,\n",
              "  'sentence': ['Quốc_gia khai_sinh ra ASIAD thuộc <mask> nào châu_Á']},\n",
              " 'thế_lực': {'occurence': 1,\n",
              "  'sentence': ['Quốc_gia khai_sinh ra ASIAD thuộc <mask> nào châu_Á']},\n",
              " 'vương_triều': {'occurence': 1,\n",
              "  'sentence': ['Quốc_gia khai_sinh ra ASIAD thuộc <mask> nào châu_Á']},\n",
              " 'sắc_tộc': {'occurence': 1,\n",
              "  'sentence': ['Quốc_gia khai_sinh ra ASIAD thuộc <mask> nào châu_Á']},\n",
              " 'ngành': {'occurence': 1,\n",
              "  'sentence': ['Quốc_gia khai_sinh ra ASIAD thuộc <mask> nào châu_Á']},\n",
              " 'chốn': {'occurence': 1,\n",
              "  'sentence': ['Người Mường sống ở <mask> nào nước ta']},\n",
              " 'mường': {'occurence': 1,\n",
              "  'sentence': ['Người Mường sống ở <mask> nào nước ta']},\n",
              " 'thành_thị': {'occurence': 1,\n",
              "  'sentence': ['Người Mường sống ở <mask> nào nước ta']},\n",
              " 'vùng_đệm': {'occurence': 1,\n",
              "  'sentence': ['Ruộng_bậc_thang nổi_tiếng nào thuộc <mask> Tây_Bắc']},\n",
              " 'rừng_già': {'occurence': 1,\n",
              "  'sentence': ['Ruộng_bậc_thang nổi_tiếng nào thuộc <mask> Tây_Bắc']},\n",
              " 'danh_thắng': {'occurence': 1,\n",
              "  'sentence': ['Ruộng_bậc_thang nổi_tiếng nào thuộc <mask> Tây_Bắc']},\n",
              " 'chiến_khu': {'occurence': 1,\n",
              "  'sentence': ['Ruộng_bậc_thang nổi_tiếng nào thuộc <mask> Tây_Bắc']},\n",
              " 'rừng_núi': {'occurence': 1,\n",
              "  'sentence': ['Ruộng_bậc_thang nổi_tiếng nào thuộc <mask> Tây_Bắc']},\n",
              " 'Nam_Á': {'occurence': 1,\n",
              "  'sentence': ['Quốc_gia Đông_Nam_Á nào bị bão càn_quét nhiều nhất ở <mask>']},\n",
              " 'nước_ngoài': {'occurence': 1,\n",
              "  'sentence': ['Quốc_gia Đông_Nam_Á nào bị bão càn_quét nhiều nhất ở <mask>']},\n",
              " 'Hoa_Kỳ': {'occurence': 1,\n",
              "  'sentence': ['Quốc_gia Đông_Nam_Á nào bị bão càn_quét nhiều nhất ở <mask>']},\n",
              " 'Châu': {'occurence': 1,\n",
              "  'sentence': ['Quốc_gia Đông_Nam_Á nào bị bão càn_quét nhiều nhất ở <mask>']},\n",
              " 'tâm_bão': {'occurence': 1,\n",
              "  'sentence': ['Quốc_gia Đông_Nam_Á nào bị bão càn_quét nhiều nhất ở <mask>']},\n",
              " '00': {'occurence': 1,\n",
              "  'sentence': ['Quốc_gia nào dân_số ít_nhất <mask> Đông_Nam_Á']},\n",
              " 'đều': {'occurence': 1,\n",
              "  'sentence': ['Quốc_gia nào dân_số ít_nhất <mask> Đông_Nam_Á']},\n",
              " 'hết': {'occurence': 1,\n",
              "  'sentence': ['Quốc_gia nào dân_số ít_nhất <mask> Đông_Nam_Á']},\n",
              " '100%': {'occurence': 1,\n",
              "  'sentence': ['Quốc_gia nào dân_số ít_nhất <mask> Đông_Nam_Á']},\n",
              " 'vết': {'occurence': 1,\n",
              "  'sentence': ['Các <mask> sẫm màu trên Mặt_Trăng gần hố Aristarchus có_thể là gì']},\n",
              " 'đốm': {'occurence': 1,\n",
              "  'sentence': ['Các <mask> sẫm màu trên Mặt_Trăng gần hố Aristarchus có_thể là gì']},\n",
              " 'chấm': {'occurence': 1,\n",
              "  'sentence': ['Các <mask> sẫm màu trên Mặt_Trăng gần hố Aristarchus có_thể là gì']},\n",
              " 'vật_thể': {'occurence': 1,\n",
              "  'sentence': ['Các <mask> sẫm màu trên Mặt_Trăng gần hố Aristarchus có_thể là gì']},\n",
              " 'vệt': {'occurence': 1,\n",
              "  'sentence': ['Các <mask> sẫm màu trên Mặt_Trăng gần hố Aristarchus có_thể là gì']},\n",
              " 'dấu_vết': {'occurence': 1,\n",
              "  'sentence': ['Các <mask> sẫm màu trên Mặt_Trăng gần hố Aristarchus có_thể là gì']},\n",
              " 'hình_vẽ': {'occurence': 1,\n",
              "  'sentence': ['Các <mask> sẫm màu trên Mặt_Trăng gần hố Aristarchus có_thể là gì']},\n",
              " 'dấu_hiệu': {'occurence': 1,\n",
              "  'sentence': ['Các <mask> sẫm màu trên Mặt_Trăng gần hố Aristarchus có_thể là gì']},\n",
              " 'ngôi_sao': {'occurence': 1,\n",
              "  'sentence': ['Các <mask> sẫm màu trên Mặt_Trăng gần hố Aristarchus có_thể là gì']},\n",
              " 'mảng': {'occurence': 1,\n",
              "  'sentence': ['Các <mask> sẫm màu trên Mặt_Trăng gần hố Aristarchus có_thể là gì']},\n",
              " 'chi_tiết': {'occurence': 1,\n",
              "  'sentence': ['Các <mask> sẫm màu trên Mặt_Trăng gần hố Aristarchus có_thể là gì']},\n",
              " 'hố': {'occurence': 1,\n",
              "  'sentence': ['Các <mask> sẫm màu trên Mặt_Trăng gần hố Aristarchus có_thể là gì']},\n",
              " 'sọc': {'occurence': 1,\n",
              "  'sentence': ['Các <mask> sẫm màu trên Mặt_Trăng gần hố Aristarchus có_thể là gì']},\n",
              " 'sắc_tố': {'occurence': 1,\n",
              "  'sentence': ['Các <mask> sẫm màu trên Mặt_Trăng gần hố Aristarchus có_thể là gì']},\n",
              " 'màu_sắc': {'occurence': 1,\n",
              "  'sentence': ['Các <mask> sẫm màu trên Mặt_Trăng gần hố Aristarchus có_thể là gì']},\n",
              " 'bụi': {'occurence': 1,\n",
              "  'sentence': ['Các <mask> sẫm màu trên Mặt_Trăng gần hố Aristarchus có_thể là gì']},\n",
              " 'mẫu_vật': {'occurence': 1,\n",
              "  'sentence': ['Các <mask> sẫm màu trên Mặt_Trăng gần hố Aristarchus có_thể là gì']},\n",
              " 'lỗ': {'occurence': 1,\n",
              "  'sentence': ['Các <mask> sẫm màu trên Mặt_Trăng gần hố Aristarchus có_thể là gì']},\n",
              " 'hình_ảnh': {'occurence': 1,\n",
              "  'sentence': ['Các <mask> sẫm màu trên Mặt_Trăng gần hố Aristarchus có_thể là gì']},\n",
              " 'dấu_tích': {'occurence': 1,\n",
              "  'sentence': ['Các <mask> sẫm màu trên Mặt_Trăng gần hố Aristarchus có_thể là gì']},\n",
              " 'bề_mặt': {'occurence': 1,\n",
              "  'sentence': ['Các <mask> sẫm màu trên Mặt_Trăng gần hố Aristarchus có_thể là gì']},\n",
              " 'màu': {'occurence': 1,\n",
              "  'sentence': ['Các <mask> sẫm màu trên Mặt_Trăng gần hố Aristarchus có_thể là gì']},\n",
              " 'tia_sáng': {'occurence': 1,\n",
              "  'sentence': ['Các <mask> sẫm màu trên Mặt_Trăng gần hố Aristarchus có_thể là gì']},\n",
              " 'vạch': {'occurence': 1,\n",
              "  'sentence': ['Các <mask> sẫm màu trên Mặt_Trăng gần hố Aristarchus có_thể là gì']},\n",
              " 'hiện_tượng': {'occurence': 1,\n",
              "  'sentence': ['Các <mask> sẫm màu trên Mặt_Trăng gần hố Aristarchus có_thể là gì']},\n",
              " 'hoa_văn': {'occurence': 1,\n",
              "  'sentence': ['Các <mask> sẫm màu trên Mặt_Trăng gần hố Aristarchus có_thể là gì']},\n",
              " 'lỗ_hổng': {'occurence': 1,\n",
              "  'sentence': ['Các <mask> sẫm màu trên Mặt_Trăng gần hố Aristarchus có_thể là gì']},\n",
              " 'vòng_tròn': {'occurence': 1,\n",
              "  'sentence': ['Các <mask> sẫm màu trên Mặt_Trăng gần hố Aristarchus có_thể là gì']},\n",
              " 'đá': {'occurence': 1,\n",
              "  'sentence': ['Các <mask> sẫm màu trên Mặt_Trăng gần hố Aristarchus có_thể là gì']},\n",
              " 'sinh_vật': {'occurence': 1,\n",
              "  'sentence': ['Các <mask> sẫm màu trên Mặt_Trăng gần hố Aristarchus có_thể là gì']},\n",
              " 'ánh_sáng': {'occurence': 1,\n",
              "  'sentence': ['Các <mask> sẫm màu trên Mặt_Trăng gần hố Aristarchus có_thể là gì']},\n",
              " 'vân': {'occurence': 1,\n",
              "  'sentence': ['Các <mask> sẫm màu trên Mặt_Trăng gần hố Aristarchus có_thể là gì']},\n",
              " 'nốt': {'occurence': 1,\n",
              "  'sentence': ['Các <mask> sẫm màu trên Mặt_Trăng gần hố Aristarchus có_thể là gì']},\n",
              " 'hoạ_tiết': {'occurence': 1,\n",
              "  'sentence': ['Các <mask> sẫm màu trên Mặt_Trăng gần hố Aristarchus có_thể là gì']},\n",
              " 'hình_thù': {'occurence': 1,\n",
              "  'sentence': ['Các <mask> sẫm màu trên Mặt_Trăng gần hố Aristarchus có_thể là gì']},\n",
              " 'mươi': {'occurence': 1,\n",
              "  'sentence': ['Philippines có dân_số xếp thứ mấy <mask> Đông_Nam_Á']},\n",
              " 'Vành_đai': {'occurence': 1,\n",
              "  'sentence': ['Quốc_gia có diện_tích nhỏ nhất thuộc <mask> Nam_Mỹ']},\n",
              " 'láng_giềng': {'occurence': 1,\n",
              "  'sentence': ['Quốc_gia có diện_tích nhỏ nhất thuộc <mask> Nam_Mỹ']},\n",
              " 'Liên_Minh': {'occurence': 1,\n",
              "  'sentence': ['Quốc_gia có diện_tích nhỏ nhất thuộc <mask> Nam_Mỹ']},\n",
              " 'Châu_Mỹ': {'occurence': 1,\n",
              "  'sentence': ['Quốc_gia có diện_tích nhỏ nhất thuộc <mask> Nam_Mỹ']},\n",
              " 'vụ': {'occurence': 1,\n",
              "  'sentence': ['Hiện_nay diện_tích và dân_số Indonesia xếp thứ mấy <mask> Đông_Nam_Á']},\n",
              " 'Trong': {'occurence': 1,\n",
              "  'sentence': ['Hiện_nay diện_tích và dân_số Indonesia xếp thứ mấy <mask> Đông_Nam_Á']},\n",
              " 'hạm_đội': {'occurence': 1,\n",
              "  'sentence': ['Hiện_nay diện_tích và dân_số Indonesia xếp thứ mấy <mask> Đông_Nam_Á']},\n",
              " 'Hoà_Hiệp': {'occurence': 1,\n",
              "  'sentence': ['Tỉnh nào có ít thành_phố thị_xã nhất <mask> Đông_Nam_Bộ']},\n",
              " 'đại_ngàn': {'occurence': 1,\n",
              "  'sentence': ['Dãy núi nào cao nhất <mask> Tây_Nguyên']},\n",
              " 'bảng_tổng_sắp': {'occurence': 1,\n",
              "  'sentence': ['Cuba có có diện_tích tự_nhiên và dân_số xếp thứ mấy trong <mask>']},\n",
              " 'EU': {'occurence': 1,\n",
              "  'sentence': ['Cuba có có diện_tích tự_nhiên và dân_số xếp thứ mấy trong <mask>']},\n",
              " 'Á.': {'occurence': 1,\n",
              "  'sentence': ['Cuba có có diện_tích tự_nhiên và dân_số xếp thứ mấy trong <mask>']},\n",
              " 'tốp': {'occurence': 1,\n",
              "  'sentence': ['Cuba có có diện_tích tự_nhiên và dân_số xếp thứ mấy trong <mask>']},\n",
              " 'TOP': {'occurence': 1,\n",
              "  'sentence': ['Cuba có có diện_tích tự_nhiên và dân_số xếp thứ mấy trong <mask>']},\n",
              " 'toàn_quốc': {'occurence': 1,\n",
              "  'sentence': ['Cuba có có diện_tích tự_nhiên và dân_số xếp thứ mấy trong <mask>']},\n",
              " 'Top': {'occurence': 1,\n",
              "  'sentence': ['Cuba có có diện_tích tự_nhiên và dân_số xếp thứ mấy trong <mask>']},\n",
              " 'đó': {'occurence': 1,\n",
              "  'sentence': ['Cuba có có diện_tích tự_nhiên và dân_số xếp thứ mấy trong <mask>']},\n",
              " 'bảng_chữ_cái': {'occurence': 1,\n",
              "  'sentence': ['Cuba có có diện_tích tự_nhiên và dân_số xếp thứ mấy trong <mask>']},\n",
              " '5': {'occurence': 1,\n",
              "  'sentence': ['Cuba có có diện_tích tự_nhiên và dân_số xếp thứ mấy trong <mask>']},\n",
              " 'năm': {'occurence': 1,\n",
              "  'sentence': ['Cuba có có diện_tích tự_nhiên và dân_số xếp thứ mấy trong <mask>']},\n",
              " 'Mặt_trận': {'occurence': 1,\n",
              "  'sentence': ['Tỉnh nào không thuộc <mask> miền Trung']},\n",
              " 'Địa': {'occurence': 1,\n",
              "  'sentence': ['Tỉnh nào không thuộc <mask> miền Trung']},\n",
              " 'Trung': {'occurence': 1,\n",
              "  'sentence': ['Tỉnh nào không thuộc <mask> miền Trung']},\n",
              " 'tính': {'occurence': 1,\n",
              "  'sentence': ['Thừa_Thiên_Huế có diện_tích xếp thứ mấy <mask> Bắc Trung_Bộ']},\n",
              " 'tình': {'occurence': 1,\n",
              "  'sentence': ['thành_phố nào lớn nhất <mask> miền Trung']},\n",
              " 'thời_gian': {'occurence': 1,\n",
              "  'sentence': ['Phần_lớn <mask> Đông_Nam_Á nằm ở bán_cầu nào']},\n",
              " 'of': {'occurence': 1,\n",
              "  'sentence': ['Phần_lớn <mask> Đông_Nam_Á nằm ở bán_cầu nào']},\n",
              " 'đất_đai': {'occurence': 1,\n",
              "  'sentence': ['Phần_lớn <mask> Đông_Nam_Á nằm ở bán_cầu nào']},\n",
              " 'quyền_lực': {'occurence': 1,\n",
              "  'sentence': ['Phần_lớn <mask> Đông_Nam_Á nằm ở bán_cầu nào']},\n",
              " 'cơ_thể': {'occurence': 1,\n",
              "  'sentence': ['Phần_lớn <mask> Đông_Nam_Á nằm ở bán_cầu nào']},\n",
              " 'khí_hậu': {'occurence': 1,\n",
              "  'sentence': ['Phần_lớn <mask> Đông_Nam_Á nằm ở bán_cầu nào']},\n",
              " 'kiến_tạo': {'occurence': 1,\n",
              "  'sentence': ['Phần_lớn <mask> Đông_Nam_Á nằm ở bán_cầu nào']},\n",
              " 'đất_liền': {'occurence': 1,\n",
              "  'sentence': ['Phần_lớn <mask> Đông_Nam_Á nằm ở bán_cầu nào']},\n",
              " 'thực_dân': {'occurence': 1,\n",
              "  'sentence': ['Trước thế_kỷ 19 <mask> Nam_Mỹ từng là thuộc địa của thực_dân nào']},\n",
              " 'đế_quốc': {'occurence': 1,\n",
              "  'sentence': ['Trước thế_kỷ 19 <mask> Nam_Mỹ từng là thuộc địa của thực_dân nào']},\n",
              " 'CH': {'occurence': 1,\n",
              "  'sentence': ['Trước thế_kỷ 19 <mask> Nam_Mỹ từng là thuộc địa của thực_dân nào']},\n",
              " '…': {'occurence': 1,\n",
              "  'sentence': ['Trước thế_kỷ 19 <mask> Nam_Mỹ từng là thuộc địa của thực_dân nào']},\n",
              " 'Bán_đảo': {'occurence': 1,\n",
              "  'sentence': ['Trước thế_kỷ 19 <mask> Nam_Mỹ từng là thuộc địa của thực_dân nào']},\n",
              " 'hả': {'occurence': 1,\n",
              "  'sentence': ['Quốc_gia nào sản_xuất vàng nhiều nhất <mask> Nam_Mỹ']},\n",
              " 'Phía': {'occurence': 1,\n",
              "  'sentence': ['Tỉnh nào có diện_tích tự_nhiên lớn nhất <mask> Đông_Bắc_Bộ']},\n",
              " 'đi': {'occurence': 1,\n",
              "  'sentence': ['Tỉnh nào có diện_tích tự_nhiên lớn nhất <mask> Đông_Bắc_Bộ']},\n",
              " 'nước_lớn': {'occurence': 1,\n",
              "  'sentence': ['ASEAN là tổ_chức kinh_tế của <mask> nào']},\n",
              " 'thể_chế': {'occurence': 1,\n",
              "  'sentence': ['ASEAN là tổ_chức kinh_tế của <mask> nào']},\n",
              " 'kinh_tế_thị_trường': {'occurence': 1,\n",
              "  'sentence': ['ASEAN là tổ_chức kinh_tế của <mask> nào']},\n",
              " 'liên_kết': {'occurence': 1,\n",
              "  'sentence': ['ASEAN là tổ_chức kinh_tế của <mask> nào']},\n",
              " 'doanh_nghiệp': {'occurence': 1,\n",
              "  'sentence': ['ASEAN là tổ_chức kinh_tế của <mask> nào']},\n",
              " 'chính_trị': {'occurence': 1,\n",
              "  'sentence': ['ASEAN là tổ_chức kinh_tế của <mask> nào']},\n",
              " 'trình_độ': {'occurence': 1,\n",
              "  'sentence': ['ASEAN là tổ_chức kinh_tế của <mask> nào']},\n",
              " 'phố': {'occurence': 1, 'sentence': ['Maildves nằm ở <mask> nào']},\n",
              " 'Đới': {'occurence': 1, 'sentence': ['Mozambique thuộc <mask> địa_lý nào']},\n",
              " 'cấp_độ': {'occurence': 1,\n",
              "  'sentence': ['Nước Anh hiện nằm ở <mask> nào của châu_Âu']},\n",
              " 'giáp': {'occurence': 1,\n",
              "  'sentence': ['Tỉnh nào có diện_tích nhỏ nhất <mask> Tây_Nguyên']},\n",
              " '1': {'occurence': 1,\n",
              "  'sentence': ['Indonesia dẫn_đầu <mask> Đông_Nam_Á về hiện_tượng tự_nhiên nào']},\n",
              " 'giải': {'occurence': 1,\n",
              "  'sentence': ['Indonesia dẫn_đầu <mask> Đông_Nam_Á về hiện_tượng tự_nhiên nào']},\n",
              " 'kỷ_lục': {'occurence': 1,\n",
              "  'sentence': ['Indonesia dẫn_đầu <mask> Đông_Nam_Á về hiện_tượng tự_nhiên nào']},\n",
              " 'hàng_đầu': {'occurence': 1,\n",
              "  'sentence': ['Indonesia dẫn_đầu <mask> Đông_Nam_Á về hiện_tượng tự_nhiên nào']},\n",
              " 'nghiên_cứu': {'occurence': 1,\n",
              "  'sentence': ['Indonesia dẫn_đầu <mask> Đông_Nam_Á về hiện_tượng tự_nhiên nào']},\n",
              " 'kỉ_lục': {'occurence': 1,\n",
              "  'sentence': ['Indonesia dẫn_đầu <mask> Đông_Nam_Á về hiện_tượng tự_nhiên nào']},\n",
              " 'duy_nhất': {'occurence': 1,\n",
              "  'sentence': ['Indonesia dẫn_đầu <mask> Đông_Nam_Á về hiện_tượng tự_nhiên nào']},\n",
              " 'truyền_thông': {'occurence': 1,\n",
              "  'sentence': ['Indonesia dẫn_đầu <mask> Đông_Nam_Á về hiện_tượng tự_nhiên nào']},\n",
              " 'thị': {'occurence': 1, 'sentence': ['Quảng_Đông nằm ở <mask> nào']},\n",
              " 'ngã': {'occurence': 1,\n",
              "  'sentence': ['Nước Uzbekistan nằm ở <mask> nào châu_Á']},\n",
              " 'đông': {'occurence': 1,\n",
              "  'sentence': ['Nước Uzbekistan nằm ở <mask> nào châu_Á']},\n",
              " 'phương_hướng': {'occurence': 1,\n",
              "  'sentence': ['Nước Uzbekistan nằm ở <mask> nào châu_Á']},\n",
              " 'cơ_bản': {'occurence': 1,\n",
              "  'sentence': ['Nguyên_tắc <mask> đối_với máy_bay siêu_âm là gì']},\n",
              " 'sử_dụng': {'occurence': 1,\n",
              "  'sentence': ['Nguyên_tắc <mask> đối_với máy_bay siêu_âm là gì']},\n",
              " 'bảo_vệ': {'occurence': 1,\n",
              "  'sentence': ['Nguyên_tắc <mask> đối_với máy_bay siêu_âm là gì']},\n",
              " 'áp_dụng': {'occurence': 1,\n",
              "  'sentence': ['Nguyên_tắc <mask> đối_với máy_bay siêu_âm là gì']},\n",
              " 'ngọn': {'occurence': 1,\n",
              "  'sentence': ['Diện_tích của <mask> núi Athos là bao_nhiêu']},\n",
              " 'Dãy': {'occurence': 1,\n",
              "  'sentence': ['Diện_tích của <mask> núi Athos là bao_nhiêu']},\n",
              " 'rặng': {'occurence': 1,\n",
              "  'sentence': ['Diện_tích của <mask> núi Athos là bao_nhiêu']},\n",
              " 'Vườn_quốc_gia': {'occurence': 1,\n",
              "  'sentence': ['Diện_tích của <mask> núi Athos là bao_nhiêu']},\n",
              " 'làng_mạc': {'occurence': 1, 'sentence': ['Sông Amazon chảy qua <mask> nào']},\n",
              " 'lớn': {'occurence': 1, 'sentence': ['ASEAN là tổ_chức liên_kết <mask> nào']},\n",
              " 'chủ_chốt': {'occurence': 1,\n",
              "  'sentence': ['ASEAN là tổ_chức liên_kết <mask> nào']},\n",
              " 'tổng_thể': {'occurence': 1,\n",
              "  'sentence': ['ASEAN là tổ_chức liên_kết <mask> nào']},\n",
              " 'nào': {'occurence': 1, 'sentence': ['ASEAN là tổ_chức liên_kết <mask> nào']},\n",
              " 'chung': {'occurence': 1,\n",
              "  'sentence': ['ASEAN là tổ_chức liên_kết <mask> nào']},\n",
              " 'nông_dân': {'occurence': 1,\n",
              "  'sentence': ['Các nông_sản chính của <mask> phía đông Hoa_Kì là']},\n",
              " 'nông_nghiệp': {'occurence': 1,\n",
              "  'sentence': ['Các nông_sản chính của <mask> phía đông Hoa_Kì là']},\n",
              " 'nông_thôn': {'occurence': 1,\n",
              "  'sentence': ['Các nông_sản chính của <mask> phía đông Hoa_Kì là']},\n",
              " 'Nông_nghiệp': {'occurence': 1,\n",
              "  'sentence': ['Các nông_sản chính của <mask> phía đông Hoa_Kì là']},\n",
              " 'thương_mại': {'occurence': 1,\n",
              "  'sentence': ['Các nông_sản chính của <mask> phía đông Hoa_Kì là']},\n",
              " 'Trung_Quốc': {'occurence': 1,\n",
              "  'sentence': ['Các nông_sản chính của <mask> phía đông Hoa_Kì là']},\n",
              " 'Bảng': {'occurence': 1,\n",
              "  'sentence': ['Dân_số Việt_Nam đứng thứ mấy trong <mask> Châu_Á']},\n",
              " 'rổ': {'occurence': 1,\n",
              "  'sentence': ['Dân_số Việt_Nam đứng thứ mấy trong <mask> Châu_Á']},\n",
              " 'BXH': {'occurence': 1,\n",
              "  'sentence': ['Dân_số Việt_Nam đứng thứ mấy trong <mask> Châu_Á']},\n",
              " 'hai': {'occurence': 1,\n",
              "  'sentence': ['Singapore là quốc_gia có diện_tích tự_nhiên xếp thứ mấy <mask> Đông_Nam_Á']},\n",
              " 'Trung_Bộ': {'occurence': 1,\n",
              "  'sentence': ['Tỉnh duy_nhất ở <mask> Bắc Trung_Bộ có 2 thành_phố thuộc tỉnh']},\n",
              " 'Duyên_Hải': {'occurence': 1,\n",
              "  'sentence': ['Tỉnh duy_nhất ở <mask> Bắc Trung_Bộ có 2 thành_phố thuộc tỉnh']},\n",
              " 'ĐNA': {'occurence': 1,\n",
              "  'sentence': ['Bóng_đá Thái_Lan vô_địch giải <mask> mấy lần rồi']},\n",
              " 'cường_quốc': {'occurence': 1,\n",
              "  'sentence': ['Phần_lớn lãnh_thổ của Thổ_Nhĩ_Kỳ thuộc <mask> nào của châu_Á']},\n",
              " 'đối_xử': {'occurence': 1,\n",
              "  'sentence': ['Ranh_giới phân_biệt <mask> quan_trọng nhất ở Thái_Bình_Dương là gì']},\n",
              " 'hộ': {'occurence': 1,\n",
              "  'sentence': ['Dân_số của Sóc_Trăng đứng thứ mấy trong <mask> đồng_bằng sông Cửu_Long']},\n",
              " 'vựa_lúa': {'occurence': 1,\n",
              "  'sentence': ['Diện_tích của Sóc_Trăng đứng thứ mấy trong <mask> đồng_bằng sông Cửu_Long']},\n",
              " 'lũ': {'occurence': 1,\n",
              "  'sentence': ['Diện_tích của Sóc_Trăng đứng thứ mấy trong <mask> đồng_bằng sông Cửu_Long']},\n",
              " 'thuỷ_lợi': {'occurence': 1,\n",
              "  'sentence': ['Diện_tích của Sóc_Trăng đứng thứ mấy trong <mask> đồng_bằng sông Cửu_Long']},\n",
              " 'cánh': {'occurence': 1,\n",
              "  'sentence': ['Diện_tích của Sóc_Trăng đứng thứ mấy trong <mask> đồng_bằng sông Cửu_Long']},\n",
              " 'Lãnh_thổ': {'occurence': 1,\n",
              "  'sentence': ['Trước thế_kỷ 19 , <mask> Nam_Mỹ từng là thuộc địa của thực_dân nào']},\n",
              " 'Đế_quốc': {'occurence': 1,\n",
              "  'sentence': ['Trước thế_kỷ 19 , <mask> Nam_Mỹ từng là thuộc địa của thực_dân nào']},\n",
              " 'cộng_hoà': {'occurence': 1,\n",
              "  'sentence': ['Trước thế_kỷ 19 , <mask> Nam_Mỹ từng là thuộc địa của thực_dân nào']},\n",
              " 'chương': {'occurence': 1,\n",
              "  'sentence': ['tỉnh điện_biên ở <mask> nào của vùng tây bắc']},\n",
              " 'phân': {'occurence': 1,\n",
              "  'sentence': ['tỉnh điện_biên ở <mask> nào của vùng tây bắc']},\n",
              " 'điểm_cao': {'occurence': 1,\n",
              "  'sentence': ['tỉnh điện_biên ở <mask> nào của vùng tây bắc']},\n",
              " 'khác': {'occurence': 1,\n",
              "  'sentence': ['vấn_đề tranh_chấp các đảo với các nước trong <mask>']},\n",
              " 'tranh_chấp': {'occurence': 1,\n",
              "  'sentence': ['vấn_đề tranh_chấp các đảo với các nước trong <mask>']},\n",
              " 'Asean': {'occurence': 1,\n",
              "  'sentence': ['vấn_đề tranh_chấp các đảo với các nước trong <mask>']},\n",
              " 'quần_đảo': {'occurence': 1,\n",
              "  'sentence': ['vấn_đề tranh_chấp các đảo với các nước trong <mask>']},\n",
              " 'xung_đột': {'occurence': 1,\n",
              "  'sentence': ['vấn_đề tranh_chấp các đảo với các nước trong <mask>']},\n",
              " 'tương_lai': {'occurence': 1,\n",
              "  'sentence': ['vấn_đề tranh_chấp các đảo với các nước trong <mask>']},\n",
              " 'căn_cứ': {'occurence': 1,\n",
              "  'sentence': ['Thị_xã Lạng_Sơn là <mask> hoạt_động của nhà cách_mạng nào']},\n",
              " 'cơ_sở': {'occurence': 1,\n",
              "  'sentence': ['Thị_xã Lạng_Sơn là <mask> hoạt_động của nhà cách_mạng nào']},\n",
              " 'quê_hương': {'occurence': 1,\n",
              "  'sentence': ['Thị_xã Lạng_Sơn là <mask> hoạt_động của nhà cách_mạng nào']},\n",
              " 'căn_cứ_địa': {'occurence': 1,\n",
              "  'sentence': ['Thị_xã Lạng_Sơn là <mask> hoạt_động của nhà cách_mạng nào']},\n",
              " 'trụ_sở': {'occurence': 1,\n",
              "  'sentence': ['Thị_xã Lạng_Sơn là <mask> hoạt_động của nhà cách_mạng nào']},\n",
              " 'Địa_bàn': {'occurence': 1,\n",
              "  'sentence': ['Thị_xã Lạng_Sơn là <mask> hoạt_động của nhà cách_mạng nào']},\n",
              " 'trọng_điểm': {'occurence': 1,\n",
              "  'sentence': ['Thị_xã Lạng_Sơn là <mask> hoạt_động của nhà cách_mạng nào']},\n",
              " 'một': {'occurence': 1,\n",
              "  'sentence': ['Thị_xã Lạng_Sơn là <mask> hoạt_động của nhà cách_mạng nào']},\n",
              " 'lò': {'occurence': 1,\n",
              "  'sentence': ['Thị_xã Lạng_Sơn là <mask> hoạt_động của nhà cách_mạng nào']},\n",
              " 'tụ_điểm': {'occurence': 1,\n",
              "  'sentence': ['Thị_xã Lạng_Sơn là <mask> hoạt_động của nhà cách_mạng nào']},\n",
              " 'kinh_đô': {'occurence': 1,\n",
              "  'sentence': ['Thị_xã Lạng_Sơn là <mask> hoạt_động của nhà cách_mạng nào']},\n",
              " 'mục_tiêu': {'occurence': 1,\n",
              "  'sentence': ['Thị_xã Lạng_Sơn là <mask> hoạt_động của nhà cách_mạng nào']},\n",
              " 'quê': {'occurence': 1,\n",
              "  'sentence': ['Thị_xã Lạng_Sơn là <mask> hoạt_động của nhà cách_mạng nào']},\n",
              " 'sào_huyệt': {'occurence': 1,\n",
              "  'sentence': ['Thị_xã Lạng_Sơn là <mask> hoạt_động của nhà cách_mạng nào']},\n",
              " 'Căn_cứ': {'occurence': 1,\n",
              "  'sentence': ['Thị_xã Lạng_Sơn là <mask> hoạt_động của nhà cách_mạng nào']},\n",
              " 'cứ_điểm': {'occurence': 1,\n",
              "  'sentence': ['Thị_xã Lạng_Sơn là <mask> hoạt_động của nhà cách_mạng nào']},\n",
              " 'thành_luỹ': {'occurence': 1,\n",
              "  'sentence': ['Thị_xã Lạng_Sơn là <mask> hoạt_động của nhà cách_mạng nào']},\n",
              " 'Nơi': {'occurence': 1,\n",
              "  'sentence': ['Thị_xã Lạng_Sơn là <mask> hoạt_động của nhà cách_mạng nào']},\n",
              " 'đại_bản_doanh': {'occurence': 1,\n",
              "  'sentence': ['Thị_xã Lạng_Sơn là <mask> hoạt_động của nhà cách_mạng nào']},\n",
              " 'xuất_phát_điểm': {'occurence': 1,\n",
              "  'sentence': ['Thị_xã Lạng_Sơn là <mask> hoạt_động của nhà cách_mạng nào']},\n",
              " 'thành_trì': {'occurence': 1,\n",
              "  'sentence': ['Thị_xã Lạng_Sơn là <mask> hoạt_động của nhà cách_mạng nào']},\n",
              " 'xưởng': {'occurence': 1,\n",
              "  'sentence': ['Thị_xã Lạng_Sơn là <mask> hoạt_động của nhà cách_mạng nào']},\n",
              " 'địa_chỉ': {'occurence': 1,\n",
              "  'sentence': ['Thị_xã Lạng_Sơn là <mask> hoạt_động của nhà cách_mạng nào']},\n",
              " 'quy_luật': {'occurence': 1,\n",
              "  'sentence': ['Thị_xã Lạng_Sơn là <mask> hoạt_động của nhà cách_mạng nào']},\n",
              " 'Thủ_đô': {'occurence': 1,\n",
              "  'sentence': ['Thị_xã Lạng_Sơn là <mask> hoạt_động của nhà cách_mạng nào']},\n",
              " 'thủ_đô': {'occurence': 1,\n",
              "  'sentence': ['Thị_xã Lạng_Sơn là <mask> hoạt_động của nhà cách_mạng nào']},\n",
              " 'mình': {'occurence': 1,\n",
              "  'sentence': ['Các nhà vẽ bản_đồ thì dùng cách nào để đặt tên <mask> trên bản_đồ']},\n",
              " 'họ': {'occurence': 1,\n",
              "  'sentence': ['Các nhà vẽ bản_đồ thì dùng cách nào để đặt tên <mask> trên bản_đồ']},\n",
              " 'nhân_vật': {'occurence': 1,\n",
              "  'sentence': ['Các nhà vẽ bản_đồ thì dùng cách nào để đặt tên <mask> trên bản_đồ']},\n",
              " 'cá_nhân': {'occurence': 1,\n",
              "  'sentence': ['Các nhà vẽ bản_đồ thì dùng cách nào để đặt tên <mask> trên bản_đồ']},\n",
              " 'đường_phố': {'occurence': 1,\n",
              "  'sentence': ['Các nhà vẽ bản_đồ thì dùng cách nào để đặt tên <mask> trên bản_đồ']},\n",
              " 'chính_xác': {'occurence': 1,\n",
              "  'sentence': ['Các nhà vẽ bản_đồ thì dùng cách nào để đặt tên <mask> trên bản_đồ']},\n",
              " 'gọi': {'occurence': 1,\n",
              "  'sentence': ['Các nhà vẽ bản_đồ thì dùng cách nào để đặt tên <mask> trên bản_đồ']},\n",
              " 'chúng': {'occurence': 1,\n",
              "  'sentence': ['Các nhà vẽ bản_đồ thì dùng cách nào để đặt tên <mask> trên bản_đồ']},\n",
              " 'thật': {'occurence': 1,\n",
              "  'sentence': ['Các nhà vẽ bản_đồ thì dùng cách nào để đặt tên <mask> trên bản_đồ']},\n",
              " 'rõ_ràng': {'occurence': 1,\n",
              "  'sentence': ['Các nhà vẽ bản_đồ thì dùng cách nào để đặt tên <mask> trên bản_đồ']},\n",
              " 'đầy_đủ': {'occurence': 1,\n",
              "  'sentence': ['Các nhà vẽ bản_đồ thì dùng cách nào để đặt tên <mask> trên bản_đồ']},\n",
              " 'ngay': {'occurence': 1,\n",
              "  'sentence': ['Các nhà vẽ bản_đồ thì dùng cách nào để đặt tên <mask> trên bản_đồ']},\n",
              " 'minh_hoạ': {'occurence': 1,\n",
              "  'sentence': ['Các nhà vẽ bản_đồ thì dùng cách nào để đặt tên <mask> trên bản_đồ']},\n",
              " 'Hà_Nội': {'occurence': 1,\n",
              "  'sentence': ['Các nhà vẽ bản_đồ thì dùng cách nào để đặt tên <mask> trên bản_đồ']},\n",
              " 'đúng': {'occurence': 1,\n",
              "  'sentence': ['Các nhà vẽ bản_đồ thì dùng cách nào để đặt tên <mask> trên bản_đồ']},\n",
              " 'nó': {'occurence': 1,\n",
              "  'sentence': ['Các nhà vẽ bản_đồ thì dùng cách nào để đặt tên <mask> trên bản_đồ']},\n",
              " 'tác_phẩm': {'occurence': 1,\n",
              "  'sentence': ['Các nhà vẽ bản_đồ thì dùng cách nào để đặt tên <mask> trên bản_đồ']},\n",
              " 'đồ': {'occurence': 1,\n",
              "  'sentence': ['Các nhà vẽ bản_đồ thì dùng cách nào để đặt tên <mask> trên bản_đồ']},\n",
              " 'đồ_vật': {'occurence': 1,\n",
              "  'sentence': ['Các nhà vẽ bản_đồ thì dùng cách nào để đặt tên <mask> trên bản_đồ']},\n",
              " 'sự_vật': {'occurence': 1,\n",
              "  'sentence': ['Các nhà vẽ bản_đồ thì dùng cách nào để đặt tên <mask> trên bản_đồ']},\n",
              " 'hiển_thị': {'occurence': 1,\n",
              "  'sentence': ['Các nhà vẽ bản_đồ thì dùng cách nào để đặt tên <mask> trên bản_đồ']},\n",
              " 'phân_bố': {'occurence': 1,\n",
              "  'sentence': ['WHO có bao_nhiêu văn_phòng <mask> trên thế_giới']},\n",
              " 'làng_xã': {'occurence': 1, 'sentence': ['Người Nùng sống ở <mask> nào']},\n",
              " 'trường_hợp': {'occurence': 1,\n",
              "  'sentence': ['Luật La_Mã được sử_dụng ở những <mask> nào']},\n",
              " 'xã_hội': {'occurence': 1,\n",
              "  'sentence': ['Luật La_Mã được sử_dụng ở những <mask> nào']}}"
            ]
          },
          "metadata": {},
          "execution_count": 38
        }
      ]
    },
    {
      "cell_type": "code",
      "source": [
        "w2v_dict['bảng_tuần_hoàn']"
      ],
      "metadata": {
        "colab": {
          "base_uri": "https://localhost:8080/"
        },
        "id": "jttfC6oAtFHT",
        "outputId": "8d967cb1-b4bd-4631-cda6-0a2d5c8d87d1"
      },
      "execution_count": null,
      "outputs": [
        {
          "output_type": "execute_result",
          "data": {
            "text/plain": [
              "[('mendeleev', 0.6717042326927185),\n",
              " ('tác_nhân_vật_lý', 0.6478486657142639),\n",
              " ('hỗn_hợp_chất', 0.6426305174827576),\n",
              " ('vũ_khí_sinh', 0.6344994306564331),\n",
              " ('octinoxate', 0.6315604448318481),\n",
              " ('vanillin', 0.6315262317657471),\n",
              " ('avobenzone', 0.6307601928710938),\n",
              " ('axiton', 0.6129394769668579),\n",
              " ('Độc_chất', 0.6077231168746948),\n",
              " ('khoa_kiểm_nghiệm', 0.5963605642318726),\n",
              " ('nhà_địa', 0.5916277170181274),\n",
              " ('hoá_học', 0.5723886489868164),\n",
              " ('ununseptium', 0.5701664686203003),\n",
              " ('berkelium', 0.5693877935409546),\n",
              " ('baff', 0.5643936991691589),\n",
              " ('monell', 0.5609896183013916),\n",
              " ('livermorium', 0.559063732624054),\n",
              " ('hợp_chất_khí', 0.552109956741333),\n",
              " ('ngộ_độc_chất', 0.5512978434562683),\n",
              " ('ubiquinone', 0.5468034744262695),\n",
              " ('hóa_học', 0.5415852665901184),\n",
              " ('phthalates', 0.5385777354240417),\n",
              " ('silicat', 0.5336449146270752),\n",
              " ('rohm', 0.5315697193145752),\n",
              " ('cấm_vũ_khí', 0.5305625200271606),\n",
              " ('nguyễn_khánh_diệu_hồng', 0.5303667783737183),\n",
              " ('perfluorinated', 0.5268809795379639),\n",
              " ('số_nguyên_tử', 0.525066077709198),\n",
              " ('peroxide', 0.5227067470550537),\n",
              " ('phenyl', 0.5223074555397034),\n",
              " ('oxide', 0.5217717289924622),\n",
              " ('dimethyl', 0.5182020664215088),\n",
              " ('nguyên_tố', 0.5174527764320374),\n",
              " ('hạt_cơ_bản', 0.5139897465705872),\n",
              " ('hcn', 0.5123817920684814),\n",
              " ('carbamide', 0.5120834112167358),\n",
              " ('pheromones', 0.5118473172187805),\n",
              " ('hydrogen', 0.5111937522888184),\n",
              " ('methyl', 0.5111284255981445),\n",
              " ('organochlorines', 0.5107176899909973),\n",
              " ('acrylate', 0.509671688079834),\n",
              " ('nitrite', 0.5091639757156372),\n",
              " ('tritium', 0.5077853202819824),\n",
              " ('acetic', 0.5056597590446472),\n",
              " ('diallyl', 0.5053310990333557),\n",
              " ('polonium', 0.5041936635971069),\n",
              " ('propyl', 0.5037312507629395),\n",
              " ('cyanogenic', 0.5034542679786682),\n",
              " ('ammonium', 0.5024853944778442),\n",
              " ('radium', 0.5017626285552979)]"
            ]
          },
          "metadata": {},
          "execution_count": 36
        }
      ]
    },
    {
      "cell_type": "code",
      "source": [
        "with open(\"/content/drive/MyDrive/Final Project Zalo Internship/Final Project/Categorized vocab (No Trec57)/word2vec.json\",\"w\", encoding='utf-8') as jsonfile:\n",
        "    json.dump(w2v_dict,jsonfile,ensure_ascii=False, indent=2)"
      ],
      "metadata": {
        "id": "sXdUTBZBVd-L"
      },
      "execution_count": null,
      "outputs": []
    }
  ],
  "metadata": {
    "accelerator": "GPU",
    "colab": {
      "machine_shape": "hm",
      "provenance": [],
      "collapsed_sections": [
        "xDA_cM8QKY1A",
        "07y-ClxnKfAw",
        "14LOCmlzPVXW",
        "NBLHxD4jPj2M",
        "8VKbKcI90aNw",
        "t5kNDBAOQPwF",
        "6HhpENOLy4VV",
        "eGlQC92Jb3Xl",
        "JHHIqEt3b-9V",
        "ApqTWOnOfIQU",
        "mCWbiC0BNbnA",
        "8i0Fz5e19ukU",
        "agIm6L0FTjJb",
        "mEIKPRz-T-qd",
        "dYJ6ILjZUDDw",
        "FKgNipCWvOFh",
        "BSHFNgNQAkoY",
        "xm0ij21hgwWV",
        "19jFr_fSfDS5",
        "7JjnE0MsQr38",
        "dErNZQjPRlDr",
        "ra3TI30yR4tC",
        "rKRgLrHUbgl0",
        "UgDYfVf2QmAS",
        "81uqSI-XOA7h",
        "hW8QdanTeQZH",
        "lAc9TySNtys8",
        "X-CTEgQNdiWC",
        "-VEHD0hXd32_",
        "tVlhCW1XvSCG",
        "obXpxf57vwmi",
        "rOt29t1sdojh",
        "qSvv4215d8nR",
        "h5WZ0gNHwa1E",
        "Yv-XvjLHwsU1",
        "hRI3xfuZYItU",
        "lumAg51Qd4Z9",
        "qdrjWwN8mSR6",
        "HLHVV3FhuhsB",
        "3cfGWr6tuvMj",
        "EdVujSTWpBtX",
        "WZNjU2pQu6C2",
        "S5YjsP9K1ulA",
        "kYgc6edvw6yv",
        "BBomioC911Zw",
        "t2JyhalAap6w",
        "ORA0GbPkauEm"
      ],
      "authorship_tag": "ABX9TyMfp07hjL1xXTxE5toQtJVs",
      "include_colab_link": true
    },
    "gpuClass": "standard",
    "kernelspec": {
      "display_name": "Python 3",
      "name": "python3"
    },
    "language_info": {
      "name": "python"
    },
    "widgets": {
      "application/vnd.jupyter.widget-state+json": {
        "0a53373922e944e8b579954969b6a0c4": {
          "model_module": "@jupyter-widgets/controls",
          "model_name": "HBoxModel",
          "model_module_version": "1.5.0",
          "state": {
            "_dom_classes": [],
            "_model_module": "@jupyter-widgets/controls",
            "_model_module_version": "1.5.0",
            "_model_name": "HBoxModel",
            "_view_count": null,
            "_view_module": "@jupyter-widgets/controls",
            "_view_module_version": "1.5.0",
            "_view_name": "HBoxView",
            "box_style": "",
            "children": [
              "IPY_MODEL_36524d911f634d8db0d951df9f228eb4",
              "IPY_MODEL_666708ce3b4d4ce6b8c35fbb37dc560c",
              "IPY_MODEL_139b29c685934a1d8bc57c1a0686f997"
            ],
            "layout": "IPY_MODEL_c2d895359ebf46ed90c5948ed9d5de7e"
          }
        },
        "36524d911f634d8db0d951df9f228eb4": {
          "model_module": "@jupyter-widgets/controls",
          "model_name": "HTMLModel",
          "model_module_version": "1.5.0",
          "state": {
            "_dom_classes": [],
            "_model_module": "@jupyter-widgets/controls",
            "_model_module_version": "1.5.0",
            "_model_name": "HTMLModel",
            "_view_count": null,
            "_view_module": "@jupyter-widgets/controls",
            "_view_module_version": "1.5.0",
            "_view_name": "HTMLView",
            "description": "",
            "description_tooltip": null,
            "layout": "IPY_MODEL_690a0aabbac048889cb2e5c7ccb757d1",
            "placeholder": "​",
            "style": "IPY_MODEL_d1ef60be7cad42d09814a1af571e9509",
            "value": "Downloading: 100%"
          }
        },
        "666708ce3b4d4ce6b8c35fbb37dc560c": {
          "model_module": "@jupyter-widgets/controls",
          "model_name": "FloatProgressModel",
          "model_module_version": "1.5.0",
          "state": {
            "_dom_classes": [],
            "_model_module": "@jupyter-widgets/controls",
            "_model_module_version": "1.5.0",
            "_model_name": "FloatProgressModel",
            "_view_count": null,
            "_view_module": "@jupyter-widgets/controls",
            "_view_module_version": "1.5.0",
            "_view_name": "ProgressView",
            "bar_style": "success",
            "description": "",
            "description_tooltip": null,
            "layout": "IPY_MODEL_25d4a43085cf44ea8c75cfce2e20e426",
            "max": 557,
            "min": 0,
            "orientation": "horizontal",
            "style": "IPY_MODEL_fb45d291498f4dd0a285b01788bde58b",
            "value": 557
          }
        },
        "139b29c685934a1d8bc57c1a0686f997": {
          "model_module": "@jupyter-widgets/controls",
          "model_name": "HTMLModel",
          "model_module_version": "1.5.0",
          "state": {
            "_dom_classes": [],
            "_model_module": "@jupyter-widgets/controls",
            "_model_module_version": "1.5.0",
            "_model_name": "HTMLModel",
            "_view_count": null,
            "_view_module": "@jupyter-widgets/controls",
            "_view_module_version": "1.5.0",
            "_view_name": "HTMLView",
            "description": "",
            "description_tooltip": null,
            "layout": "IPY_MODEL_f49b90da2028441d81e7a47b49c0cde2",
            "placeholder": "​",
            "style": "IPY_MODEL_1b06ca6355f64b64af3c03e61712f852",
            "value": " 557/557 [00:00&lt;00:00, 24.1kB/s]"
          }
        },
        "c2d895359ebf46ed90c5948ed9d5de7e": {
          "model_module": "@jupyter-widgets/base",
          "model_name": "LayoutModel",
          "model_module_version": "1.2.0",
          "state": {
            "_model_module": "@jupyter-widgets/base",
            "_model_module_version": "1.2.0",
            "_model_name": "LayoutModel",
            "_view_count": null,
            "_view_module": "@jupyter-widgets/base",
            "_view_module_version": "1.2.0",
            "_view_name": "LayoutView",
            "align_content": null,
            "align_items": null,
            "align_self": null,
            "border": null,
            "bottom": null,
            "display": null,
            "flex": null,
            "flex_flow": null,
            "grid_area": null,
            "grid_auto_columns": null,
            "grid_auto_flow": null,
            "grid_auto_rows": null,
            "grid_column": null,
            "grid_gap": null,
            "grid_row": null,
            "grid_template_areas": null,
            "grid_template_columns": null,
            "grid_template_rows": null,
            "height": null,
            "justify_content": null,
            "justify_items": null,
            "left": null,
            "margin": null,
            "max_height": null,
            "max_width": null,
            "min_height": null,
            "min_width": null,
            "object_fit": null,
            "object_position": null,
            "order": null,
            "overflow": null,
            "overflow_x": null,
            "overflow_y": null,
            "padding": null,
            "right": null,
            "top": null,
            "visibility": null,
            "width": null
          }
        },
        "690a0aabbac048889cb2e5c7ccb757d1": {
          "model_module": "@jupyter-widgets/base",
          "model_name": "LayoutModel",
          "model_module_version": "1.2.0",
          "state": {
            "_model_module": "@jupyter-widgets/base",
            "_model_module_version": "1.2.0",
            "_model_name": "LayoutModel",
            "_view_count": null,
            "_view_module": "@jupyter-widgets/base",
            "_view_module_version": "1.2.0",
            "_view_name": "LayoutView",
            "align_content": null,
            "align_items": null,
            "align_self": null,
            "border": null,
            "bottom": null,
            "display": null,
            "flex": null,
            "flex_flow": null,
            "grid_area": null,
            "grid_auto_columns": null,
            "grid_auto_flow": null,
            "grid_auto_rows": null,
            "grid_column": null,
            "grid_gap": null,
            "grid_row": null,
            "grid_template_areas": null,
            "grid_template_columns": null,
            "grid_template_rows": null,
            "height": null,
            "justify_content": null,
            "justify_items": null,
            "left": null,
            "margin": null,
            "max_height": null,
            "max_width": null,
            "min_height": null,
            "min_width": null,
            "object_fit": null,
            "object_position": null,
            "order": null,
            "overflow": null,
            "overflow_x": null,
            "overflow_y": null,
            "padding": null,
            "right": null,
            "top": null,
            "visibility": null,
            "width": null
          }
        },
        "d1ef60be7cad42d09814a1af571e9509": {
          "model_module": "@jupyter-widgets/controls",
          "model_name": "DescriptionStyleModel",
          "model_module_version": "1.5.0",
          "state": {
            "_model_module": "@jupyter-widgets/controls",
            "_model_module_version": "1.5.0",
            "_model_name": "DescriptionStyleModel",
            "_view_count": null,
            "_view_module": "@jupyter-widgets/base",
            "_view_module_version": "1.2.0",
            "_view_name": "StyleView",
            "description_width": ""
          }
        },
        "25d4a43085cf44ea8c75cfce2e20e426": {
          "model_module": "@jupyter-widgets/base",
          "model_name": "LayoutModel",
          "model_module_version": "1.2.0",
          "state": {
            "_model_module": "@jupyter-widgets/base",
            "_model_module_version": "1.2.0",
            "_model_name": "LayoutModel",
            "_view_count": null,
            "_view_module": "@jupyter-widgets/base",
            "_view_module_version": "1.2.0",
            "_view_name": "LayoutView",
            "align_content": null,
            "align_items": null,
            "align_self": null,
            "border": null,
            "bottom": null,
            "display": null,
            "flex": null,
            "flex_flow": null,
            "grid_area": null,
            "grid_auto_columns": null,
            "grid_auto_flow": null,
            "grid_auto_rows": null,
            "grid_column": null,
            "grid_gap": null,
            "grid_row": null,
            "grid_template_areas": null,
            "grid_template_columns": null,
            "grid_template_rows": null,
            "height": null,
            "justify_content": null,
            "justify_items": null,
            "left": null,
            "margin": null,
            "max_height": null,
            "max_width": null,
            "min_height": null,
            "min_width": null,
            "object_fit": null,
            "object_position": null,
            "order": null,
            "overflow": null,
            "overflow_x": null,
            "overflow_y": null,
            "padding": null,
            "right": null,
            "top": null,
            "visibility": null,
            "width": null
          }
        },
        "fb45d291498f4dd0a285b01788bde58b": {
          "model_module": "@jupyter-widgets/controls",
          "model_name": "ProgressStyleModel",
          "model_module_version": "1.5.0",
          "state": {
            "_model_module": "@jupyter-widgets/controls",
            "_model_module_version": "1.5.0",
            "_model_name": "ProgressStyleModel",
            "_view_count": null,
            "_view_module": "@jupyter-widgets/base",
            "_view_module_version": "1.2.0",
            "_view_name": "StyleView",
            "bar_color": null,
            "description_width": ""
          }
        },
        "f49b90da2028441d81e7a47b49c0cde2": {
          "model_module": "@jupyter-widgets/base",
          "model_name": "LayoutModel",
          "model_module_version": "1.2.0",
          "state": {
            "_model_module": "@jupyter-widgets/base",
            "_model_module_version": "1.2.0",
            "_model_name": "LayoutModel",
            "_view_count": null,
            "_view_module": "@jupyter-widgets/base",
            "_view_module_version": "1.2.0",
            "_view_name": "LayoutView",
            "align_content": null,
            "align_items": null,
            "align_self": null,
            "border": null,
            "bottom": null,
            "display": null,
            "flex": null,
            "flex_flow": null,
            "grid_area": null,
            "grid_auto_columns": null,
            "grid_auto_flow": null,
            "grid_auto_rows": null,
            "grid_column": null,
            "grid_gap": null,
            "grid_row": null,
            "grid_template_areas": null,
            "grid_template_columns": null,
            "grid_template_rows": null,
            "height": null,
            "justify_content": null,
            "justify_items": null,
            "left": null,
            "margin": null,
            "max_height": null,
            "max_width": null,
            "min_height": null,
            "min_width": null,
            "object_fit": null,
            "object_position": null,
            "order": null,
            "overflow": null,
            "overflow_x": null,
            "overflow_y": null,
            "padding": null,
            "right": null,
            "top": null,
            "visibility": null,
            "width": null
          }
        },
        "1b06ca6355f64b64af3c03e61712f852": {
          "model_module": "@jupyter-widgets/controls",
          "model_name": "DescriptionStyleModel",
          "model_module_version": "1.5.0",
          "state": {
            "_model_module": "@jupyter-widgets/controls",
            "_model_module_version": "1.5.0",
            "_model_name": "DescriptionStyleModel",
            "_view_count": null,
            "_view_module": "@jupyter-widgets/base",
            "_view_module_version": "1.2.0",
            "_view_name": "StyleView",
            "description_width": ""
          }
        },
        "f17e1b944e2d4ac48a9100eb442bc1bc": {
          "model_module": "@jupyter-widgets/controls",
          "model_name": "HBoxModel",
          "model_module_version": "1.5.0",
          "state": {
            "_dom_classes": [],
            "_model_module": "@jupyter-widgets/controls",
            "_model_module_version": "1.5.0",
            "_model_name": "HBoxModel",
            "_view_count": null,
            "_view_module": "@jupyter-widgets/controls",
            "_view_module_version": "1.5.0",
            "_view_name": "HBoxView",
            "box_style": "",
            "children": [
              "IPY_MODEL_b079d1d5a650455d870b96a4075b53e4",
              "IPY_MODEL_7953ef174ffc45a3b7715f61ad222b40",
              "IPY_MODEL_cbe1275f1ec846259ea906601f3d1cc8"
            ],
            "layout": "IPY_MODEL_07f15c7dfb9b4fff8c36e3650ebba1ee"
          }
        },
        "b079d1d5a650455d870b96a4075b53e4": {
          "model_module": "@jupyter-widgets/controls",
          "model_name": "HTMLModel",
          "model_module_version": "1.5.0",
          "state": {
            "_dom_classes": [],
            "_model_module": "@jupyter-widgets/controls",
            "_model_module_version": "1.5.0",
            "_model_name": "HTMLModel",
            "_view_count": null,
            "_view_module": "@jupyter-widgets/controls",
            "_view_module_version": "1.5.0",
            "_view_name": "HTMLView",
            "description": "",
            "description_tooltip": null,
            "layout": "IPY_MODEL_a43e56b27c3c42a0b75e8c8917001ad4",
            "placeholder": "​",
            "style": "IPY_MODEL_0c0408e58a6f4b51b301932e6eb86626",
            "value": "Downloading: 100%"
          }
        },
        "7953ef174ffc45a3b7715f61ad222b40": {
          "model_module": "@jupyter-widgets/controls",
          "model_name": "FloatProgressModel",
          "model_module_version": "1.5.0",
          "state": {
            "_dom_classes": [],
            "_model_module": "@jupyter-widgets/controls",
            "_model_module_version": "1.5.0",
            "_model_name": "FloatProgressModel",
            "_view_count": null,
            "_view_module": "@jupyter-widgets/controls",
            "_view_module_version": "1.5.0",
            "_view_name": "ProgressView",
            "bar_style": "success",
            "description": "",
            "description_tooltip": null,
            "layout": "IPY_MODEL_fa42e5f8b9324d219d772eb0df8d02d2",
            "max": 895321,
            "min": 0,
            "orientation": "horizontal",
            "style": "IPY_MODEL_3d2867a1e73b489dbb04fbce1ede70cf",
            "value": 895321
          }
        },
        "cbe1275f1ec846259ea906601f3d1cc8": {
          "model_module": "@jupyter-widgets/controls",
          "model_name": "HTMLModel",
          "model_module_version": "1.5.0",
          "state": {
            "_dom_classes": [],
            "_model_module": "@jupyter-widgets/controls",
            "_model_module_version": "1.5.0",
            "_model_name": "HTMLModel",
            "_view_count": null,
            "_view_module": "@jupyter-widgets/controls",
            "_view_module_version": "1.5.0",
            "_view_name": "HTMLView",
            "description": "",
            "description_tooltip": null,
            "layout": "IPY_MODEL_354b56043bb94fc3b09030050e85947c",
            "placeholder": "​",
            "style": "IPY_MODEL_95f2248c44fb487294d3ae0bd7b0897a",
            "value": " 895k/895k [00:01&lt;00:00, 971kB/s]"
          }
        },
        "07f15c7dfb9b4fff8c36e3650ebba1ee": {
          "model_module": "@jupyter-widgets/base",
          "model_name": "LayoutModel",
          "model_module_version": "1.2.0",
          "state": {
            "_model_module": "@jupyter-widgets/base",
            "_model_module_version": "1.2.0",
            "_model_name": "LayoutModel",
            "_view_count": null,
            "_view_module": "@jupyter-widgets/base",
            "_view_module_version": "1.2.0",
            "_view_name": "LayoutView",
            "align_content": null,
            "align_items": null,
            "align_self": null,
            "border": null,
            "bottom": null,
            "display": null,
            "flex": null,
            "flex_flow": null,
            "grid_area": null,
            "grid_auto_columns": null,
            "grid_auto_flow": null,
            "grid_auto_rows": null,
            "grid_column": null,
            "grid_gap": null,
            "grid_row": null,
            "grid_template_areas": null,
            "grid_template_columns": null,
            "grid_template_rows": null,
            "height": null,
            "justify_content": null,
            "justify_items": null,
            "left": null,
            "margin": null,
            "max_height": null,
            "max_width": null,
            "min_height": null,
            "min_width": null,
            "object_fit": null,
            "object_position": null,
            "order": null,
            "overflow": null,
            "overflow_x": null,
            "overflow_y": null,
            "padding": null,
            "right": null,
            "top": null,
            "visibility": null,
            "width": null
          }
        },
        "a43e56b27c3c42a0b75e8c8917001ad4": {
          "model_module": "@jupyter-widgets/base",
          "model_name": "LayoutModel",
          "model_module_version": "1.2.0",
          "state": {
            "_model_module": "@jupyter-widgets/base",
            "_model_module_version": "1.2.0",
            "_model_name": "LayoutModel",
            "_view_count": null,
            "_view_module": "@jupyter-widgets/base",
            "_view_module_version": "1.2.0",
            "_view_name": "LayoutView",
            "align_content": null,
            "align_items": null,
            "align_self": null,
            "border": null,
            "bottom": null,
            "display": null,
            "flex": null,
            "flex_flow": null,
            "grid_area": null,
            "grid_auto_columns": null,
            "grid_auto_flow": null,
            "grid_auto_rows": null,
            "grid_column": null,
            "grid_gap": null,
            "grid_row": null,
            "grid_template_areas": null,
            "grid_template_columns": null,
            "grid_template_rows": null,
            "height": null,
            "justify_content": null,
            "justify_items": null,
            "left": null,
            "margin": null,
            "max_height": null,
            "max_width": null,
            "min_height": null,
            "min_width": null,
            "object_fit": null,
            "object_position": null,
            "order": null,
            "overflow": null,
            "overflow_x": null,
            "overflow_y": null,
            "padding": null,
            "right": null,
            "top": null,
            "visibility": null,
            "width": null
          }
        },
        "0c0408e58a6f4b51b301932e6eb86626": {
          "model_module": "@jupyter-widgets/controls",
          "model_name": "DescriptionStyleModel",
          "model_module_version": "1.5.0",
          "state": {
            "_model_module": "@jupyter-widgets/controls",
            "_model_module_version": "1.5.0",
            "_model_name": "DescriptionStyleModel",
            "_view_count": null,
            "_view_module": "@jupyter-widgets/base",
            "_view_module_version": "1.2.0",
            "_view_name": "StyleView",
            "description_width": ""
          }
        },
        "fa42e5f8b9324d219d772eb0df8d02d2": {
          "model_module": "@jupyter-widgets/base",
          "model_name": "LayoutModel",
          "model_module_version": "1.2.0",
          "state": {
            "_model_module": "@jupyter-widgets/base",
            "_model_module_version": "1.2.0",
            "_model_name": "LayoutModel",
            "_view_count": null,
            "_view_module": "@jupyter-widgets/base",
            "_view_module_version": "1.2.0",
            "_view_name": "LayoutView",
            "align_content": null,
            "align_items": null,
            "align_self": null,
            "border": null,
            "bottom": null,
            "display": null,
            "flex": null,
            "flex_flow": null,
            "grid_area": null,
            "grid_auto_columns": null,
            "grid_auto_flow": null,
            "grid_auto_rows": null,
            "grid_column": null,
            "grid_gap": null,
            "grid_row": null,
            "grid_template_areas": null,
            "grid_template_columns": null,
            "grid_template_rows": null,
            "height": null,
            "justify_content": null,
            "justify_items": null,
            "left": null,
            "margin": null,
            "max_height": null,
            "max_width": null,
            "min_height": null,
            "min_width": null,
            "object_fit": null,
            "object_position": null,
            "order": null,
            "overflow": null,
            "overflow_x": null,
            "overflow_y": null,
            "padding": null,
            "right": null,
            "top": null,
            "visibility": null,
            "width": null
          }
        },
        "3d2867a1e73b489dbb04fbce1ede70cf": {
          "model_module": "@jupyter-widgets/controls",
          "model_name": "ProgressStyleModel",
          "model_module_version": "1.5.0",
          "state": {
            "_model_module": "@jupyter-widgets/controls",
            "_model_module_version": "1.5.0",
            "_model_name": "ProgressStyleModel",
            "_view_count": null,
            "_view_module": "@jupyter-widgets/base",
            "_view_module_version": "1.2.0",
            "_view_name": "StyleView",
            "bar_color": null,
            "description_width": ""
          }
        },
        "354b56043bb94fc3b09030050e85947c": {
          "model_module": "@jupyter-widgets/base",
          "model_name": "LayoutModel",
          "model_module_version": "1.2.0",
          "state": {
            "_model_module": "@jupyter-widgets/base",
            "_model_module_version": "1.2.0",
            "_model_name": "LayoutModel",
            "_view_count": null,
            "_view_module": "@jupyter-widgets/base",
            "_view_module_version": "1.2.0",
            "_view_name": "LayoutView",
            "align_content": null,
            "align_items": null,
            "align_self": null,
            "border": null,
            "bottom": null,
            "display": null,
            "flex": null,
            "flex_flow": null,
            "grid_area": null,
            "grid_auto_columns": null,
            "grid_auto_flow": null,
            "grid_auto_rows": null,
            "grid_column": null,
            "grid_gap": null,
            "grid_row": null,
            "grid_template_areas": null,
            "grid_template_columns": null,
            "grid_template_rows": null,
            "height": null,
            "justify_content": null,
            "justify_items": null,
            "left": null,
            "margin": null,
            "max_height": null,
            "max_width": null,
            "min_height": null,
            "min_width": null,
            "object_fit": null,
            "object_position": null,
            "order": null,
            "overflow": null,
            "overflow_x": null,
            "overflow_y": null,
            "padding": null,
            "right": null,
            "top": null,
            "visibility": null,
            "width": null
          }
        },
        "95f2248c44fb487294d3ae0bd7b0897a": {
          "model_module": "@jupyter-widgets/controls",
          "model_name": "DescriptionStyleModel",
          "model_module_version": "1.5.0",
          "state": {
            "_model_module": "@jupyter-widgets/controls",
            "_model_module_version": "1.5.0",
            "_model_name": "DescriptionStyleModel",
            "_view_count": null,
            "_view_module": "@jupyter-widgets/base",
            "_view_module_version": "1.2.0",
            "_view_name": "StyleView",
            "description_width": ""
          }
        },
        "0f655ea146c6413892d38e010d5f1934": {
          "model_module": "@jupyter-widgets/controls",
          "model_name": "HBoxModel",
          "model_module_version": "1.5.0",
          "state": {
            "_dom_classes": [],
            "_model_module": "@jupyter-widgets/controls",
            "_model_module_version": "1.5.0",
            "_model_name": "HBoxModel",
            "_view_count": null,
            "_view_module": "@jupyter-widgets/controls",
            "_view_module_version": "1.5.0",
            "_view_name": "HBoxView",
            "box_style": "",
            "children": [
              "IPY_MODEL_8404cab83f5a4259a7c8f0d298d71e02",
              "IPY_MODEL_f469a700ef574076b236406772b0f296",
              "IPY_MODEL_d37ebfe29f534b2dbe07c30e12edef88"
            ],
            "layout": "IPY_MODEL_07aae7b1f92841eab1094bd4110d008a"
          }
        },
        "8404cab83f5a4259a7c8f0d298d71e02": {
          "model_module": "@jupyter-widgets/controls",
          "model_name": "HTMLModel",
          "model_module_version": "1.5.0",
          "state": {
            "_dom_classes": [],
            "_model_module": "@jupyter-widgets/controls",
            "_model_module_version": "1.5.0",
            "_model_name": "HTMLModel",
            "_view_count": null,
            "_view_module": "@jupyter-widgets/controls",
            "_view_module_version": "1.5.0",
            "_view_name": "HTMLView",
            "description": "",
            "description_tooltip": null,
            "layout": "IPY_MODEL_1baf0d53619b420f9a74487039f0ef63",
            "placeholder": "​",
            "style": "IPY_MODEL_98838e9e43db4a4daf9206be44b3e125",
            "value": "Downloading: 100%"
          }
        },
        "f469a700ef574076b236406772b0f296": {
          "model_module": "@jupyter-widgets/controls",
          "model_name": "FloatProgressModel",
          "model_module_version": "1.5.0",
          "state": {
            "_dom_classes": [],
            "_model_module": "@jupyter-widgets/controls",
            "_model_module_version": "1.5.0",
            "_model_name": "FloatProgressModel",
            "_view_count": null,
            "_view_module": "@jupyter-widgets/controls",
            "_view_module_version": "1.5.0",
            "_view_name": "ProgressView",
            "bar_style": "success",
            "description": "",
            "description_tooltip": null,
            "layout": "IPY_MODEL_0288ed68bd2c4a1bb3ac676959e83fbc",
            "max": 1135173,
            "min": 0,
            "orientation": "horizontal",
            "style": "IPY_MODEL_e950768484c146f594df15328440fdd7",
            "value": 1135173
          }
        },
        "d37ebfe29f534b2dbe07c30e12edef88": {
          "model_module": "@jupyter-widgets/controls",
          "model_name": "HTMLModel",
          "model_module_version": "1.5.0",
          "state": {
            "_dom_classes": [],
            "_model_module": "@jupyter-widgets/controls",
            "_model_module_version": "1.5.0",
            "_model_name": "HTMLModel",
            "_view_count": null,
            "_view_module": "@jupyter-widgets/controls",
            "_view_module_version": "1.5.0",
            "_view_name": "HTMLView",
            "description": "",
            "description_tooltip": null,
            "layout": "IPY_MODEL_15c71fcdff1a4a22ab80e323c703dfbc",
            "placeholder": "​",
            "style": "IPY_MODEL_f82386ff06534556a7d20520b2f1f469",
            "value": " 1.14M/1.14M [00:01&lt;00:00, 1.06MB/s]"
          }
        },
        "07aae7b1f92841eab1094bd4110d008a": {
          "model_module": "@jupyter-widgets/base",
          "model_name": "LayoutModel",
          "model_module_version": "1.2.0",
          "state": {
            "_model_module": "@jupyter-widgets/base",
            "_model_module_version": "1.2.0",
            "_model_name": "LayoutModel",
            "_view_count": null,
            "_view_module": "@jupyter-widgets/base",
            "_view_module_version": "1.2.0",
            "_view_name": "LayoutView",
            "align_content": null,
            "align_items": null,
            "align_self": null,
            "border": null,
            "bottom": null,
            "display": null,
            "flex": null,
            "flex_flow": null,
            "grid_area": null,
            "grid_auto_columns": null,
            "grid_auto_flow": null,
            "grid_auto_rows": null,
            "grid_column": null,
            "grid_gap": null,
            "grid_row": null,
            "grid_template_areas": null,
            "grid_template_columns": null,
            "grid_template_rows": null,
            "height": null,
            "justify_content": null,
            "justify_items": null,
            "left": null,
            "margin": null,
            "max_height": null,
            "max_width": null,
            "min_height": null,
            "min_width": null,
            "object_fit": null,
            "object_position": null,
            "order": null,
            "overflow": null,
            "overflow_x": null,
            "overflow_y": null,
            "padding": null,
            "right": null,
            "top": null,
            "visibility": null,
            "width": null
          }
        },
        "1baf0d53619b420f9a74487039f0ef63": {
          "model_module": "@jupyter-widgets/base",
          "model_name": "LayoutModel",
          "model_module_version": "1.2.0",
          "state": {
            "_model_module": "@jupyter-widgets/base",
            "_model_module_version": "1.2.0",
            "_model_name": "LayoutModel",
            "_view_count": null,
            "_view_module": "@jupyter-widgets/base",
            "_view_module_version": "1.2.0",
            "_view_name": "LayoutView",
            "align_content": null,
            "align_items": null,
            "align_self": null,
            "border": null,
            "bottom": null,
            "display": null,
            "flex": null,
            "flex_flow": null,
            "grid_area": null,
            "grid_auto_columns": null,
            "grid_auto_flow": null,
            "grid_auto_rows": null,
            "grid_column": null,
            "grid_gap": null,
            "grid_row": null,
            "grid_template_areas": null,
            "grid_template_columns": null,
            "grid_template_rows": null,
            "height": null,
            "justify_content": null,
            "justify_items": null,
            "left": null,
            "margin": null,
            "max_height": null,
            "max_width": null,
            "min_height": null,
            "min_width": null,
            "object_fit": null,
            "object_position": null,
            "order": null,
            "overflow": null,
            "overflow_x": null,
            "overflow_y": null,
            "padding": null,
            "right": null,
            "top": null,
            "visibility": null,
            "width": null
          }
        },
        "98838e9e43db4a4daf9206be44b3e125": {
          "model_module": "@jupyter-widgets/controls",
          "model_name": "DescriptionStyleModel",
          "model_module_version": "1.5.0",
          "state": {
            "_model_module": "@jupyter-widgets/controls",
            "_model_module_version": "1.5.0",
            "_model_name": "DescriptionStyleModel",
            "_view_count": null,
            "_view_module": "@jupyter-widgets/base",
            "_view_module_version": "1.2.0",
            "_view_name": "StyleView",
            "description_width": ""
          }
        },
        "0288ed68bd2c4a1bb3ac676959e83fbc": {
          "model_module": "@jupyter-widgets/base",
          "model_name": "LayoutModel",
          "model_module_version": "1.2.0",
          "state": {
            "_model_module": "@jupyter-widgets/base",
            "_model_module_version": "1.2.0",
            "_model_name": "LayoutModel",
            "_view_count": null,
            "_view_module": "@jupyter-widgets/base",
            "_view_module_version": "1.2.0",
            "_view_name": "LayoutView",
            "align_content": null,
            "align_items": null,
            "align_self": null,
            "border": null,
            "bottom": null,
            "display": null,
            "flex": null,
            "flex_flow": null,
            "grid_area": null,
            "grid_auto_columns": null,
            "grid_auto_flow": null,
            "grid_auto_rows": null,
            "grid_column": null,
            "grid_gap": null,
            "grid_row": null,
            "grid_template_areas": null,
            "grid_template_columns": null,
            "grid_template_rows": null,
            "height": null,
            "justify_content": null,
            "justify_items": null,
            "left": null,
            "margin": null,
            "max_height": null,
            "max_width": null,
            "min_height": null,
            "min_width": null,
            "object_fit": null,
            "object_position": null,
            "order": null,
            "overflow": null,
            "overflow_x": null,
            "overflow_y": null,
            "padding": null,
            "right": null,
            "top": null,
            "visibility": null,
            "width": null
          }
        },
        "e950768484c146f594df15328440fdd7": {
          "model_module": "@jupyter-widgets/controls",
          "model_name": "ProgressStyleModel",
          "model_module_version": "1.5.0",
          "state": {
            "_model_module": "@jupyter-widgets/controls",
            "_model_module_version": "1.5.0",
            "_model_name": "ProgressStyleModel",
            "_view_count": null,
            "_view_module": "@jupyter-widgets/base",
            "_view_module_version": "1.2.0",
            "_view_name": "StyleView",
            "bar_color": null,
            "description_width": ""
          }
        },
        "15c71fcdff1a4a22ab80e323c703dfbc": {
          "model_module": "@jupyter-widgets/base",
          "model_name": "LayoutModel",
          "model_module_version": "1.2.0",
          "state": {
            "_model_module": "@jupyter-widgets/base",
            "_model_module_version": "1.2.0",
            "_model_name": "LayoutModel",
            "_view_count": null,
            "_view_module": "@jupyter-widgets/base",
            "_view_module_version": "1.2.0",
            "_view_name": "LayoutView",
            "align_content": null,
            "align_items": null,
            "align_self": null,
            "border": null,
            "bottom": null,
            "display": null,
            "flex": null,
            "flex_flow": null,
            "grid_area": null,
            "grid_auto_columns": null,
            "grid_auto_flow": null,
            "grid_auto_rows": null,
            "grid_column": null,
            "grid_gap": null,
            "grid_row": null,
            "grid_template_areas": null,
            "grid_template_columns": null,
            "grid_template_rows": null,
            "height": null,
            "justify_content": null,
            "justify_items": null,
            "left": null,
            "margin": null,
            "max_height": null,
            "max_width": null,
            "min_height": null,
            "min_width": null,
            "object_fit": null,
            "object_position": null,
            "order": null,
            "overflow": null,
            "overflow_x": null,
            "overflow_y": null,
            "padding": null,
            "right": null,
            "top": null,
            "visibility": null,
            "width": null
          }
        },
        "f82386ff06534556a7d20520b2f1f469": {
          "model_module": "@jupyter-widgets/controls",
          "model_name": "DescriptionStyleModel",
          "model_module_version": "1.5.0",
          "state": {
            "_model_module": "@jupyter-widgets/controls",
            "_model_module_version": "1.5.0",
            "_model_name": "DescriptionStyleModel",
            "_view_count": null,
            "_view_module": "@jupyter-widgets/base",
            "_view_module_version": "1.2.0",
            "_view_name": "StyleView",
            "description_width": ""
          }
        },
        "9a702185ebc34bc9b24a87d4d884340c": {
          "model_module": "@jupyter-widgets/controls",
          "model_name": "HBoxModel",
          "model_module_version": "1.5.0",
          "state": {
            "_dom_classes": [],
            "_model_module": "@jupyter-widgets/controls",
            "_model_module_version": "1.5.0",
            "_model_name": "HBoxModel",
            "_view_count": null,
            "_view_module": "@jupyter-widgets/controls",
            "_view_module_version": "1.5.0",
            "_view_name": "HBoxView",
            "box_style": "",
            "children": [
              "IPY_MODEL_ceeea2d3d5444ef7b8c7780e2179a65a",
              "IPY_MODEL_c2cb43b85f394bbe9080d1bd8512809a",
              "IPY_MODEL_d35a02b31ab34aaeb897f976ef5a70cc"
            ],
            "layout": "IPY_MODEL_4029cf71be7149729b5c1d369f144fc0"
          }
        },
        "ceeea2d3d5444ef7b8c7780e2179a65a": {
          "model_module": "@jupyter-widgets/controls",
          "model_name": "HTMLModel",
          "model_module_version": "1.5.0",
          "state": {
            "_dom_classes": [],
            "_model_module": "@jupyter-widgets/controls",
            "_model_module_version": "1.5.0",
            "_model_name": "HTMLModel",
            "_view_count": null,
            "_view_module": "@jupyter-widgets/controls",
            "_view_module_version": "1.5.0",
            "_view_name": "HTMLView",
            "description": "",
            "description_tooltip": null,
            "layout": "IPY_MODEL_fe1e352bb1314a099a99543fb94a6d38",
            "placeholder": "​",
            "style": "IPY_MODEL_d9b292e93f4e4de0af9540c717b3bda4",
            "value": "Downloading: 100%"
          }
        },
        "c2cb43b85f394bbe9080d1bd8512809a": {
          "model_module": "@jupyter-widgets/controls",
          "model_name": "FloatProgressModel",
          "model_module_version": "1.5.0",
          "state": {
            "_dom_classes": [],
            "_model_module": "@jupyter-widgets/controls",
            "_model_module_version": "1.5.0",
            "_model_name": "FloatProgressModel",
            "_view_count": null,
            "_view_module": "@jupyter-widgets/controls",
            "_view_module_version": "1.5.0",
            "_view_name": "ProgressView",
            "bar_style": "success",
            "description": "",
            "description_tooltip": null,
            "layout": "IPY_MODEL_5f71a04bcc644fafb38b817a5a11e33e",
            "max": 542923308,
            "min": 0,
            "orientation": "horizontal",
            "style": "IPY_MODEL_41fcfcac78be4599ab9cc2a7f3e77c17",
            "value": 542923308
          }
        },
        "d35a02b31ab34aaeb897f976ef5a70cc": {
          "model_module": "@jupyter-widgets/controls",
          "model_name": "HTMLModel",
          "model_module_version": "1.5.0",
          "state": {
            "_dom_classes": [],
            "_model_module": "@jupyter-widgets/controls",
            "_model_module_version": "1.5.0",
            "_model_name": "HTMLModel",
            "_view_count": null,
            "_view_module": "@jupyter-widgets/controls",
            "_view_module_version": "1.5.0",
            "_view_name": "HTMLView",
            "description": "",
            "description_tooltip": null,
            "layout": "IPY_MODEL_ce61614fadaf4273a72ade64cec02bff",
            "placeholder": "​",
            "style": "IPY_MODEL_9afd388865db43e8a32649bdd01b3a4b",
            "value": " 543M/543M [00:07&lt;00:00, 78.9MB/s]"
          }
        },
        "4029cf71be7149729b5c1d369f144fc0": {
          "model_module": "@jupyter-widgets/base",
          "model_name": "LayoutModel",
          "model_module_version": "1.2.0",
          "state": {
            "_model_module": "@jupyter-widgets/base",
            "_model_module_version": "1.2.0",
            "_model_name": "LayoutModel",
            "_view_count": null,
            "_view_module": "@jupyter-widgets/base",
            "_view_module_version": "1.2.0",
            "_view_name": "LayoutView",
            "align_content": null,
            "align_items": null,
            "align_self": null,
            "border": null,
            "bottom": null,
            "display": null,
            "flex": null,
            "flex_flow": null,
            "grid_area": null,
            "grid_auto_columns": null,
            "grid_auto_flow": null,
            "grid_auto_rows": null,
            "grid_column": null,
            "grid_gap": null,
            "grid_row": null,
            "grid_template_areas": null,
            "grid_template_columns": null,
            "grid_template_rows": null,
            "height": null,
            "justify_content": null,
            "justify_items": null,
            "left": null,
            "margin": null,
            "max_height": null,
            "max_width": null,
            "min_height": null,
            "min_width": null,
            "object_fit": null,
            "object_position": null,
            "order": null,
            "overflow": null,
            "overflow_x": null,
            "overflow_y": null,
            "padding": null,
            "right": null,
            "top": null,
            "visibility": null,
            "width": null
          }
        },
        "fe1e352bb1314a099a99543fb94a6d38": {
          "model_module": "@jupyter-widgets/base",
          "model_name": "LayoutModel",
          "model_module_version": "1.2.0",
          "state": {
            "_model_module": "@jupyter-widgets/base",
            "_model_module_version": "1.2.0",
            "_model_name": "LayoutModel",
            "_view_count": null,
            "_view_module": "@jupyter-widgets/base",
            "_view_module_version": "1.2.0",
            "_view_name": "LayoutView",
            "align_content": null,
            "align_items": null,
            "align_self": null,
            "border": null,
            "bottom": null,
            "display": null,
            "flex": null,
            "flex_flow": null,
            "grid_area": null,
            "grid_auto_columns": null,
            "grid_auto_flow": null,
            "grid_auto_rows": null,
            "grid_column": null,
            "grid_gap": null,
            "grid_row": null,
            "grid_template_areas": null,
            "grid_template_columns": null,
            "grid_template_rows": null,
            "height": null,
            "justify_content": null,
            "justify_items": null,
            "left": null,
            "margin": null,
            "max_height": null,
            "max_width": null,
            "min_height": null,
            "min_width": null,
            "object_fit": null,
            "object_position": null,
            "order": null,
            "overflow": null,
            "overflow_x": null,
            "overflow_y": null,
            "padding": null,
            "right": null,
            "top": null,
            "visibility": null,
            "width": null
          }
        },
        "d9b292e93f4e4de0af9540c717b3bda4": {
          "model_module": "@jupyter-widgets/controls",
          "model_name": "DescriptionStyleModel",
          "model_module_version": "1.5.0",
          "state": {
            "_model_module": "@jupyter-widgets/controls",
            "_model_module_version": "1.5.0",
            "_model_name": "DescriptionStyleModel",
            "_view_count": null,
            "_view_module": "@jupyter-widgets/base",
            "_view_module_version": "1.2.0",
            "_view_name": "StyleView",
            "description_width": ""
          }
        },
        "5f71a04bcc644fafb38b817a5a11e33e": {
          "model_module": "@jupyter-widgets/base",
          "model_name": "LayoutModel",
          "model_module_version": "1.2.0",
          "state": {
            "_model_module": "@jupyter-widgets/base",
            "_model_module_version": "1.2.0",
            "_model_name": "LayoutModel",
            "_view_count": null,
            "_view_module": "@jupyter-widgets/base",
            "_view_module_version": "1.2.0",
            "_view_name": "LayoutView",
            "align_content": null,
            "align_items": null,
            "align_self": null,
            "border": null,
            "bottom": null,
            "display": null,
            "flex": null,
            "flex_flow": null,
            "grid_area": null,
            "grid_auto_columns": null,
            "grid_auto_flow": null,
            "grid_auto_rows": null,
            "grid_column": null,
            "grid_gap": null,
            "grid_row": null,
            "grid_template_areas": null,
            "grid_template_columns": null,
            "grid_template_rows": null,
            "height": null,
            "justify_content": null,
            "justify_items": null,
            "left": null,
            "margin": null,
            "max_height": null,
            "max_width": null,
            "min_height": null,
            "min_width": null,
            "object_fit": null,
            "object_position": null,
            "order": null,
            "overflow": null,
            "overflow_x": null,
            "overflow_y": null,
            "padding": null,
            "right": null,
            "top": null,
            "visibility": null,
            "width": null
          }
        },
        "41fcfcac78be4599ab9cc2a7f3e77c17": {
          "model_module": "@jupyter-widgets/controls",
          "model_name": "ProgressStyleModel",
          "model_module_version": "1.5.0",
          "state": {
            "_model_module": "@jupyter-widgets/controls",
            "_model_module_version": "1.5.0",
            "_model_name": "ProgressStyleModel",
            "_view_count": null,
            "_view_module": "@jupyter-widgets/base",
            "_view_module_version": "1.2.0",
            "_view_name": "StyleView",
            "bar_color": null,
            "description_width": ""
          }
        },
        "ce61614fadaf4273a72ade64cec02bff": {
          "model_module": "@jupyter-widgets/base",
          "model_name": "LayoutModel",
          "model_module_version": "1.2.0",
          "state": {
            "_model_module": "@jupyter-widgets/base",
            "_model_module_version": "1.2.0",
            "_model_name": "LayoutModel",
            "_view_count": null,
            "_view_module": "@jupyter-widgets/base",
            "_view_module_version": "1.2.0",
            "_view_name": "LayoutView",
            "align_content": null,
            "align_items": null,
            "align_self": null,
            "border": null,
            "bottom": null,
            "display": null,
            "flex": null,
            "flex_flow": null,
            "grid_area": null,
            "grid_auto_columns": null,
            "grid_auto_flow": null,
            "grid_auto_rows": null,
            "grid_column": null,
            "grid_gap": null,
            "grid_row": null,
            "grid_template_areas": null,
            "grid_template_columns": null,
            "grid_template_rows": null,
            "height": null,
            "justify_content": null,
            "justify_items": null,
            "left": null,
            "margin": null,
            "max_height": null,
            "max_width": null,
            "min_height": null,
            "min_width": null,
            "object_fit": null,
            "object_position": null,
            "order": null,
            "overflow": null,
            "overflow_x": null,
            "overflow_y": null,
            "padding": null,
            "right": null,
            "top": null,
            "visibility": null,
            "width": null
          }
        },
        "9afd388865db43e8a32649bdd01b3a4b": {
          "model_module": "@jupyter-widgets/controls",
          "model_name": "DescriptionStyleModel",
          "model_module_version": "1.5.0",
          "state": {
            "_model_module": "@jupyter-widgets/controls",
            "_model_module_version": "1.5.0",
            "_model_name": "DescriptionStyleModel",
            "_view_count": null,
            "_view_module": "@jupyter-widgets/base",
            "_view_module_version": "1.2.0",
            "_view_name": "StyleView",
            "description_width": ""
          }
        }
      }
    }
  },
  "nbformat": 4,
  "nbformat_minor": 0
}